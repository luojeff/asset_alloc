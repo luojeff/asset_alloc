{
 "cells": [
  {
   "cell_type": "markdown",
   "id": "driven-stroke",
   "metadata": {},
   "source": [
    "# Allocation Strategy Analysis\n",
    "\n",
    "Use this notebook to run allocation strategies on available equity data.\n",
    "\n",
    "Download historical stock prices from the following:\n",
    "- https://www.kaggle.com/ehallmar/daily-historical-stock-prices-1970-2018\n",
    "\n",
    "S&P500 weights obtained from: https://www.slickcharts.com/sp500 (04/07/2021)"
   ]
  },
  {
   "cell_type": "code",
   "execution_count": 2,
   "id": "illegal-leeds",
   "metadata": {},
   "outputs": [],
   "source": [
    "# Analysis\n",
    "import pandas as pd\n",
    "import numpy  as np\n",
    "import cvxpy  as cp\n",
    "import sklearn\n",
    "from   sklearn.decomposition import PCA\n",
    "\n",
    "# Data import\n",
    "import zipfile\n",
    "\n",
    "# Visualization\n",
    "import matplotlib.pyplot as plt\n",
    "\n",
    "# Misc\n",
    "from datetime import datetime as dtime, timedelta as tdelta\n",
    "import os\n",
    "\n",
    "pd.options.mode.chained_assignment = None  # default='warn'"
   ]
  },
  {
   "cell_type": "markdown",
   "id": "active-practice",
   "metadata": {},
   "source": [
    "### Unzip"
   ]
  },
  {
   "cell_type": "code",
   "execution_count": 3,
   "id": "appointed-phoenix",
   "metadata": {},
   "outputs": [],
   "source": [
    "full_path = os.getcwd()"
   ]
  },
  {
   "cell_type": "code",
   "execution_count": null,
   "id": "figured-variance",
   "metadata": {},
   "outputs": [],
   "source": [
    "# Extract stock prices from zip\n",
    "zip_ref = zipfile.ZipFile(full_path + \"/archive.zip\", 'r')\n",
    "zip_ref.extractall(full_path + \"/data\")\n",
    "zip_ref.close()"
   ]
  },
  {
   "cell_type": "markdown",
   "id": "nonprofit-arrangement",
   "metadata": {},
   "source": [
    "### Cleaning + Creating Historical Stock Prices Dataframe"
   ]
  },
  {
   "cell_type": "code",
   "execution_count": 4,
   "id": "later-washington",
   "metadata": {},
   "outputs": [],
   "source": [
    "stock_prices_df  = pd.read_csv(\n",
    "    full_path    + \"/data/historical_stock_prices.csv\",\n",
    "    parse_dates  = [\"date\"],\n",
    "    usecols      = [\"date\", \"ticker\", \"adj_close\"]\n",
    ")\n",
    "\n",
    "sp_500           = pd.read_csv(full_path + \"/data/sp500.csv\")\n",
    "sp_500[\"weight\"] = sp_500[\"weight\"] / sp_500[\"weight\"].sum()"
   ]
  },
  {
   "cell_type": "code",
   "execution_count": 6,
   "id": "metric-newcastle",
   "metadata": {},
   "outputs": [],
   "source": [
    "# ==============\n",
    "# Filter by date\n",
    "# ==============\n",
    "START_DATE_FILTER = dtime(2005,  1,  1)\n",
    "END_DATE_FILTER   = dtime(2017, 12, 31)\n",
    "stock_prices_df   = stock_prices_df[\n",
    "    (stock_prices_df.date >= START_DATE_FILTER) &\n",
    "    (stock_prices_df.date <=   END_DATE_FILTER)\n",
    "]\n",
    "\n",
    "# ==============\n",
    "# Filter to only include tickers that are present throughout the entire date range\n",
    "# ~1926 tickers satisfy this criteria\n",
    "# ==============\n",
    "total_dates       = len(stock_prices_df.date.unique())\n",
    "stock_appearances = stock_prices_df.ticker.value_counts()\n",
    "filtered_stock    = pd.DataFrame(\n",
    "    data = {\"ticker\": stock_appearances[stock_appearances == total_dates].index}\n",
    ")\n",
    "\n",
    "stock_prices_df   = pd.merge(stock_prices_df, filtered_stock, on=\"ticker\", how=\"inner\")"
   ]
  },
  {
   "cell_type": "markdown",
   "id": "approved-peninsula",
   "metadata": {},
   "source": [
    "### Raw Prices & Percentage Returns Dataframes"
   ]
  },
  {
   "cell_type": "code",
   "execution_count": 140,
   "id": "fifteen-poetry",
   "metadata": {},
   "outputs": [],
   "source": [
    "raw_prices  = stock_prices_df.pivot_table(index=\"date\", columns=[\"ticker\"], values=\"adj_close\")\n",
    "raw_prices  = raw_prices.drop(columns=[\"GOOGL\"])\n",
    "pct_returns = raw_prices.pct_change().dropna()"
   ]
  },
  {
   "cell_type": "code",
   "execution_count": 141,
   "id": "opposed-level",
   "metadata": {},
   "outputs": [],
   "source": [
    "pct_14d_returns = pct_returns.resample(\"14D\").sum()"
   ]
  },
  {
   "cell_type": "code",
   "execution_count": 142,
   "id": "bearing-allocation",
   "metadata": {},
   "outputs": [],
   "source": [
    "universe_tickers = pct_returns.columns"
   ]
  },
  {
   "cell_type": "markdown",
   "id": "helpful-green",
   "metadata": {},
   "source": [
    "### Cleaning and filtering into S&P500 stocks (~391 resulting tickers)"
   ]
  },
  {
   "cell_type": "code",
   "execution_count": null,
   "id": "provincial-adjustment",
   "metadata": {},
   "outputs": [],
   "source": [
    "# Additionally filter by stocks contained within the S&P500\n",
    "#\n",
    "# 391 tickers satisfy this criteria\n",
    "#\n",
    "#filtered_df = stock_prices_df.merge(sp_500, on=\"ticker\", how=\"inner\")\n",
    "#filtered_df = filtered_df.drop(\"weight\", axis=1)\n",
    "#filtered_df = filtered_df.pivot_table(index=\"date\", columns=[\"ticker\"], values=\"adj_close\")"
   ]
  },
  {
   "cell_type": "markdown",
   "id": "infectious-shelf",
   "metadata": {},
   "source": [
    "### Calculate log performance"
   ]
  },
  {
   "cell_type": "code",
   "execution_count": null,
   "id": "agreed-lighter",
   "metadata": {},
   "outputs": [],
   "source": [
    "#stock_performances = {}\n",
    "#\n",
    "#for ticker in filtered_df.ticker.unique():\n",
    "#    temp                   = filtered_df[filtered_df.ticker == ticker]\n",
    "#    temp[\"ln_adj_close_1\"] = np.log(temp.adj_close)\n",
    "#    temp[\"ln_adj_close_2\"] = temp.ln_adj_close_1.shift(-1)\n",
    "#    temp[\"ln_return\"]      = temp.ln_adj_close_2 - temp.ln_adj_close_1\n",
    "#    temp                   = temp.drop([\"ln_adj_close_1\", \"ln_adj_close_2\"], axis=1)\n",
    "#    stock_performances[ticker] = temp"
   ]
  },
  {
   "cell_type": "code",
   "execution_count": null,
   "id": "synthetic-ballot",
   "metadata": {},
   "outputs": [],
   "source": [
    "#final_df = pd.DataFrame()\n",
    "#\n",
    "#for k, v in stock_performances.items():\n",
    "#    final_df = final_df.append(v)\n",
    "#    \n",
    "#final_df = final_df.fillna(0)\n",
    "#final_df = final_df.set_index(\"date\")"
   ]
  },
  {
   "cell_type": "code",
   "execution_count": null,
   "id": "every-shore",
   "metadata": {},
   "outputs": [],
   "source": [
    "#stock_ln_returns = final_df.pivot_table(index=\"date\", columns=\"ticker\", values=\"ln_return\")"
   ]
  },
  {
   "cell_type": "code",
   "execution_count": null,
   "id": "subject-cooperation",
   "metadata": {},
   "outputs": [],
   "source": [
    "#ticker_order = stock_ln_returns.columns.tolist()"
   ]
  },
  {
   "cell_type": "markdown",
   "id": "static-record",
   "metadata": {},
   "source": [
    "#### Statistical Calculations\n",
    "\n",
    "Calculate covariance matrix ($\\Sigma$) and inverse covariance matrix ($\\Sigma^{-1}$) on stock log returns\n",
    "\n",
    "Calculate volatility ($\\sigma$) on stock log returns"
   ]
  },
  {
   "cell_type": "code",
   "execution_count": 10,
   "id": "attended-means",
   "metadata": {},
   "outputs": [],
   "source": [
    "#def get_cov_ln_returns(tickers, start_date, end_date):\n",
    "#    tickers = list(set(stock_ln_returns.columns).intersection(tickers))\n",
    "#    \n",
    "#    return stock_ln_returns[tickers][(start_date <= stock_ln_returns.index) & \\\n",
    "#                            (stock_ln_returns.index <= end_date)].cov()\n",
    "#\n",
    "#def get_std_ln_returns(tickers, start_date, end_date):\n",
    "#    tickers = list(set(stock_ln_returns.columns).intersection(tickers))\n",
    "#    \n",
    "#    return stock_ln_returns[tickers][(start_date <= stock_ln_returns.index) & \\\n",
    "#                            (stock_ln_returns.index <= end_date)].std()\n",
    "\n",
    "def get_cov_pct_returns(tickers, start_date, end_date):\n",
    "    tickers  = list(set(pct_returns.columns).intersection(tickers))\n",
    "    filtered = pct_14d_returns[tickers][(start_date <= pct_14d_returns.index) & (pct_14d_returns.index <= end_date)]\n",
    "    \n",
    "    return (filtered - filtered.mean()).cov()\n",
    "\n",
    "def get_std_pct_returns(tickers, start_date, end_date):\n",
    "    tickers = list(set(pct_returns.columns).intersection(tickers))\n",
    "    \n",
    "    return pct_14d_returns[tickers][(start_date <= pct_14d_returns.index) & (pct_14d_returns.index <= end_date)].std()"
   ]
  },
  {
   "cell_type": "code",
   "execution_count": 232,
   "id": "utility-brave",
   "metadata": {},
   "outputs": [
    {
     "data": {
      "text/plain": [
       "ticker\n",
       "GOOG    0.062670\n",
       "AAPL    0.061515\n",
       "MSFT    0.041053\n",
       "GS      0.079105\n",
       "C       0.088166\n",
       "dtype: float64"
      ]
     },
     "execution_count": 232,
     "metadata": {},
     "output_type": "execute_result"
    }
   ],
   "source": [
    "get_std_pct_returns(['GOOG', 'AAPL', 'MSFT', 'C', 'GS'], dtime(2010, 1, 4), dtime(2010, 2, 25))"
   ]
  },
  {
   "cell_type": "markdown",
   "id": "electoral-heading",
   "metadata": {},
   "source": [
    "#### Testing CVXPY"
   ]
  },
  {
   "cell_type": "code",
   "execution_count": 12,
   "id": "introductory-shift",
   "metadata": {},
   "outputs": [
    {
     "name": "stdout",
     "output_type": "stream",
     "text": [
      "[ 1.87268046e+00 -3.05110003e-22 -8.60977169e-23]\n"
     ]
    }
   ],
   "source": [
    "w           = cp.Variable(3)\n",
    "cov_mat     = np.random.rand(3, 3)\n",
    "cov_mat     = cov_mat.T @ cov_mat\n",
    "vol         = np.random.rand(3)\n",
    "\n",
    "objective   = cp.Minimize(cp.quad_form(w, cov_mat))\n",
    "constraints = [w.T @ vol == 1, w >= 0]\n",
    "problem     = cp.Problem(objective, constraints)\n",
    "problem.solve()\n",
    "\n",
    "weights     = w.value\n",
    "\n",
    "print(weights)"
   ]
  },
  {
   "cell_type": "markdown",
   "id": "aggregate-utility",
   "metadata": {},
   "source": [
    "### Uniform Weighting\n",
    "\n",
    "Each stock is given a $1/N$ weight/allocation.\n",
    "\n",
    "### Market Cap Weighting\n",
    "\n",
    "Each stock is weighted according to their respective market cap (as of 2021). For simplicity, we assume that this market cap weighting has held since the beginning of the trading strategy. This will thus become overweight on stocks that have grown into large market cap, and may present over-optimistic portfolio performance."
   ]
  },
  {
   "cell_type": "code",
   "execution_count": 316,
   "id": "federal-netscape",
   "metadata": {},
   "outputs": [],
   "source": [
    "def get_uniform_weights(tickers, start_date, end_date):\n",
    "    date_range = pd.date_range(start_date, end_date)\n",
    "    tickers    = list(set(sp_500.ticker).intersection(set(pct_returns.columns)))\n",
    "    N          = len(tickers)\n",
    "    \n",
    "    ret_df = pd.DataFrame(\n",
    "        index   = date_range,\n",
    "        columns = tickers,\n",
    "        data    = np.full((len(date_range), N), 1/N)\n",
    "    )\n",
    "    \n",
    "    ret_df.index.name = \"date\"\n",
    "    \n",
    "    return ret_df\n",
    "\n",
    "def get_market_cap_weights(start_date, end_date):\n",
    "    date_range     = pd.date_range(start_date, end_date)\n",
    "    ticker_weights = sp_500.pivot_table(columns=\"ticker\", values=\"weight\")\n",
    "    tickers        = list(set(sp_500.ticker).intersection(set(pct_returns.columns)))\n",
    "    weight_vec     = ticker_weights[tickers].values[0]\n",
    "    shape          = (len(date_range), len(tickers))\n",
    "    \n",
    "    ret_df = pd.DataFrame(\n",
    "        index   = date_range,\n",
    "        columns = tickers,\n",
    "        data    = np.tile(weight_vec, len(date_range)).reshape(shape)\n",
    "    )\n",
    "    \n",
    "    ret_df.index.name = \"date\"\n",
    "    \n",
    "    return ret_df"
   ]
  },
  {
   "cell_type": "markdown",
   "id": "undefined-trout",
   "metadata": {},
   "source": [
    "### Maximum Diversification Weighting\n",
    "\n",
    "Goal: Create portfolios that have minimally correlated assets, lower risk levels, and possibly higher returns.\n",
    "\n",
    "(Introduced by Choueifaty and Coignard, 2008 and Pemberton & Rau, 2007)\n",
    "\n",
    "The objective is to find the weight $w$ that maximizes the following:\n",
    "\n",
    "$\n",
    "\\max_w \\frac{w^T a}{\\sqrt{w^T \\Sigma w }}\n",
    "$\n",
    "\n",
    "We obtain the following short-selling allowed analytical solution:\n",
    "\n",
    "$\n",
    "w_{MD} = \\frac{\\Sigma^{-1} \\sigma}{\\sigma^T \\Sigma^{-1} \\sigma}\n",
    "$\n",
    "\n",
    "When restricting the weights to $w \\geq 0$, we use `cvxpy` to solve the original convex optimization problem:\n",
    "\n",
    "$\n",
    "\\min_w \\frac{1}{2} w^T \\Sigma w\n",
    "$\n",
    "\n",
    "s.t.\n",
    "$\n",
    "w^T \\sigma = 1 \\newline\n",
    "w   \\geq 0\n",
    "$"
   ]
  },
  {
   "cell_type": "code",
   "execution_count": 288,
   "id": "going-harris",
   "metadata": {},
   "outputs": [],
   "source": [
    "def get_max_diverse_weights(tickers, start_date, end_date, rebalance_days):\n",
    "    date_range  = pd.date_range(start_date, end_date)\n",
    "    tickers     = list(set(universe_tickers).intersection(set(tickers)))\n",
    "    ret_df      = pd.DataFrame(index = date_range, columns = tickers)\n",
    "    \n",
    "    # pct_returns_cov     = None\n",
    "    # pct_returns_cov_inv = None\n",
    "    # pct_returns_vol     = None\n",
    "    max_diverse_weight  = None\n",
    "    \n",
    "    rebalance = False\n",
    "    \n",
    "    for date in date_range:\n",
    "        \n",
    "        if (date - start_date).days % rebalance_days == 0:\n",
    "            pct_returns_cov     = get_cov_pct_returns(tickers, date + tdelta(days = -365), \n",
    "                                                      date + tdelta(days = -1)).values\n",
    "            \n",
    "            pct_returns_cov_inv = np.linalg.inv(pct_returns_cov)\n",
    "            \n",
    "            pct_returns_vol     = get_std_pct_returns(tickers, date + tdelta(days = -365), \n",
    "                                                      date + tdelta(days = -1)).values\n",
    "            \n",
    "            max_diverse_weight  = (pct_returns_cov_inv @ pct_returns_vol) / \\\n",
    "                                    (pct_returns_vol.T @ pct_returns_cov_inv @ pct_returns_vol)\n",
    "\n",
    "        else: # No need to rebalance, just use previously calculated weights\n",
    "            norm_factor         = np.sum(max_diverse_weight)\n",
    "            max_diverse_weight  = max_diverse_weight / norm_factor\n",
    "            ret_df.loc[date]    = max_diverse_weight\n",
    "        \n",
    "    return ret_df.dropna()\n",
    "\n",
    "def get_max_diverse_long_only_weights(tickers, start_date, end_date, rebalance_days):\n",
    "    date_range  = pd.date_range(start_date, end_date)\n",
    "    tickers     = list(set(universe_tickers).intersection(set(tickers)))\n",
    "    ret_df      = pd.DataFrame(index = date_range, columns = tickers)\n",
    "    \n",
    "    # Get weights from the respective convex optimization problem\n",
    "    # min  w^T \\Sigma w\n",
    "    # s.t. w^T \\sigma  = 1\n",
    "    #      w          >= 0\n",
    "    def get_weights(vol, cov_mat):\n",
    "        w           = cp.Variable(len(vol))\n",
    "        objective   = cp.Minimize(cp.quad_form(w, cov_mat))\n",
    "        ones_vec    = np.ones(len(vol))\n",
    "        constraints = [w >= 0, w.T @ ones_vec == 1]\n",
    "        problem     = cp.Problem(objective, constraints)\n",
    "        problem.solve()\n",
    "        return w.value\n",
    "    \n",
    "    max_diverse_weight = None\n",
    "    \n",
    "    for date in date_range:\n",
    "        \n",
    "        if (date - start_date).days % rebalance_days == 0:\n",
    "            pct_returns_cov     = get_cov_pct_returns(tickers, date + tdelta(days = -365), \n",
    "                                                      date + tdelta(days = -1)).values\n",
    "            \n",
    "            pct_returns_vol     = get_std_pct_returns(tickers, date + tdelta(days = -365),\n",
    "                                                      date + tdelta(days = -1)).values\n",
    "            \n",
    "            # Solve the convex optimization problem each time\n",
    "            max_diverse_weight  = get_weights(pct_returns_vol, pct_returns_cov)\n",
    "            \n",
    "        else: # No need to rebalance, just use previously calculated weights\n",
    "            norm_factor         = np.sum(max_diverse_weight)\n",
    "            max_diverse_weight  = max_diverse_weight / norm_factor\n",
    "            ret_df.loc[date]    = max_diverse_weight\n",
    "            \n",
    "    return ret_df.dropna()"
   ]
  },
  {
   "cell_type": "markdown",
   "id": "heated-orchestra",
   "metadata": {},
   "source": [
    "### Global Minimum Variance\n",
    "\n",
    "The GMV portfolio is the lowest risk portfolio on the efficient frontier.\n",
    "\n",
    "It solves the following optimization problem:\n",
    "\n",
    "$\n",
    "min_w w^T \\Sigma w\n",
    "$\n",
    "\n",
    "s.t. $w^T 1 = 1$\n",
    "\n",
    "The analytical solution is as follows:\n",
    "\n",
    "$w^* = \\frac{\\Sigma^{-1} 1} {1^T \\Sigma^{-1} 1}$"
   ]
  },
  {
   "cell_type": "code",
   "execution_count": 233,
   "id": "crude-implementation",
   "metadata": {},
   "outputs": [],
   "source": [
    "def get_gmv_weights(tickers, start_date, end_date, rebalance_days):\n",
    "    date_range  = pd.date_range(start_date, end_date)\n",
    "    tickers     = list(set(universe_tickers).intersection(set(tickers)))\n",
    "    ret_df      = pd.DataFrame(index = date_range, columns = tickers)\n",
    "    gmv_weight  = None\n",
    "    \n",
    "    for date in date_range:\n",
    "        if (date - start_date).days % rebalance_days == 0:\n",
    "            pct_returns_cov     = get_cov_pct_returns(tickers, date + tdelta(days = -365), date + tdelta(days = -1)).values      \n",
    "            pct_returns_cov_inv = np.linalg.inv(pct_returns_cov)\n",
    "            ones_vec            = np.ones(len(tickers))\n",
    "            gmv_weight          = pct_returns_cov_inv @ ones_vec / (ones_vec.T @ pct_returns_cov_inv @ ones_vec)\n",
    "        else: # No need to rebalance, just use previously calculated weights\n",
    "            ret_df.loc[date]    = gmv_weight\n",
    "            \n",
    "    return ret_df.dropna()"
   ]
  },
  {
   "cell_type": "markdown",
   "id": "respiratory-heater",
   "metadata": {},
   "source": [
    "### Statistical Factor Model (In-progress)\n",
    "\n",
    "At a specific time $t$ for which the portfolio is to be rebalanced, for each asset $k$, we try to find the asset's exposure to each factor via OLS:\n",
    "\n",
    "$\n",
    "R_k(t) = \\alpha_k + \\sum_i^{n} \\beta_{ki} f_i(t) = \\alpha_k + \\beta_{k1} f_1 + \\beta_{k2} f_2 + ... + \\beta_{kn} f_n\n",
    "$\n",
    "\n",
    "We will estimate the coefficients $\\beta_{ki} \\forall i$ for a given asset $k$."
   ]
  },
  {
   "cell_type": "code",
   "execution_count": 414,
   "id": "ceramic-corruption",
   "metadata": {},
   "outputs": [],
   "source": [
    "def get_factor_analysis_weights(tickers, start_date, end_date, rebalance_days, num_factors: int = 5):\n",
    "    date_range = pd.date_range(start_date, end_date)\n",
    "    tickers    = list(set(universe_tickers).intersection(set(tickers)))\n",
    "    ret_df     = pd.DataFrame(index = date_range, columns = tickers)\n",
    "    fa_weight  = None\n",
    "    \n",
    "    filtered_pct_returns = pct_returns[tickers]\n",
    "    \n",
    "    for date in date_range:\n",
    "        if (date - start_date).days % rebalance_days == 0:\n",
    "            \n",
    "            pca = PCA(n_components = num_factors)\n",
    "            pca.fit(filtered_pct_returns)\n",
    "\n",
    "            # Each column vector / eigenvector is a factor loading\n",
    "            eigenvecs         = pca.components_.T\n",
    "            factor_loadings   = pca.components_.T\n",
    "\n",
    "            # Apply dimensionality reduction\n",
    "            factor_returns = pca.fit_transform(filtered_pct_returns)\n",
    "            cov_factor     = np.cov(np.transpose(factor_returns))\n",
    "            mu             = pca.mean_\n",
    "\n",
    "            # Constructing the matrix D\n",
    "            reconstructed_returns = factor_returns @ factor_loadings.T + mu.T\n",
    "            unexplained_returns   = filtered_pct_returns - reconstructed_returns\n",
    "            unexplained_variance  = np.diag(np.cov(unexplained_returns.T))\n",
    "            D                     = np.diag(unexplained_variance)\n",
    "\n",
    "            w  = cp.Variable(len(filtered_pct_returns.columns)) # weight\n",
    "            fw = cp.Variable(num_factors) # factor weight\n",
    "            e  = np.ones(len(filtered_pct_returns.columns))\n",
    "\n",
    "            target_risk = 0.010\n",
    "\n",
    "            # Solve convex optimization problem \n",
    "            # =================================\n",
    "            # Details here: https://www.mathworks.com/help/finance/portfolio-optimization-using-factor-models.html\n",
    "            objective   = cp.Maximize(mu.T @ w)\n",
    "            constraints = [\n",
    "                cp.quad_form(fw, cov_factor) + cp.quad_form(w, D) <= target_risk,\n",
    "                w.T @ e == 1,\n",
    "                factor_loadings.T @ w == fw,\n",
    "                w >= 0\n",
    "            ]\n",
    "\n",
    "            prob = cp.Problem(objective, constraints)\n",
    "            prob.solve()\n",
    "            \n",
    "            # Recalibrate weight on rebalance day\n",
    "            fa_weight = w.value\n",
    "        \n",
    "        else: # No need to rebalance, just use previously calculated weights\n",
    "            ret_df.loc[date] = fa_weight\n",
    "            \n",
    "    return ret_df.dropna()"
   ]
  },
  {
   "cell_type": "markdown",
   "id": "joint-leeds",
   "metadata": {},
   "source": [
    "### Strategy Execution / Performance Code"
   ]
  },
  {
   "cell_type": "code",
   "execution_count": 379,
   "id": "subject-management",
   "metadata": {},
   "outputs": [],
   "source": [
    "# Input arguments\n",
    "# ===============\n",
    "# weight_function: *Function* with the following (possibly optional) inputs:\n",
    "#                     - current stocks / tickers\n",
    "#                     - datetime\n",
    "#                  and outputs a *Dictionary* of weights corresponding to the allocation at that time\n",
    "# start_date:      When to start the allocation strategy\n",
    "# end_date:        When to end the allocation strategy\n",
    "#\n",
    "# Returns an np.array of wealth for the dates falling within the start_date and end_date \n",
    "def execute_strategy(df, weight_function, start_date, end_date):\n",
    "    date_range = pd.date_range(start_date, end_date)\n",
    "    \n",
    "    valid_dates, log_perfs = np.array([]), np.array([])\n",
    "    \n",
    "    for date_time in date_range:\n",
    "        \n",
    "        # May be the case on a weekend, holiday, or other non-trading data\n",
    "        if date_time not in df.index: \n",
    "            continue\n",
    "            \n",
    "        valid_dates = np.append(valid_dates, date_time)\n",
    "            \n",
    "        # Dynamic calculation of weights\n",
    "        tickers     = np.array(df.loc[date_time].ticker)\n",
    "        weights     = weight_function(tickers = tickers, date_time = date_time)\n",
    "        weight_df   = pd.DataFrame(data = weights).set_index(\"ticker\")\n",
    "        \n",
    "        current_day_df = df.loc[date_time]\n",
    "        current_day_df = pd.merge(current_day_df, weight_df, how='left', on='ticker')\n",
    "\n",
    "        log_perf    = np.sum(current_day_df.weight * current_day_df.ln_return)\n",
    "        log_perfs   = np.append(log_perfs, log_perf)\n",
    "            \n",
    "    return valid_dates, log_perfs\n",
    "\n",
    "def execute_strategy_v2(weights):\n",
    "    daily_returns               = (pct_returns[weights.columns] * weights).dropna()\n",
    "    daily_portfolio_pct_returns = daily_returns.sum(axis=1)\n",
    "    return daily_portfolio_pct_returns, np.cumprod(daily_portfolio_pct_returns + 1)"
   ]
  },
  {
   "cell_type": "markdown",
   "id": "level-rally",
   "metadata": {},
   "source": [
    "### Uniform Weighting"
   ]
  },
  {
   "cell_type": "code",
   "execution_count": 380,
   "id": "suited-feeling",
   "metadata": {},
   "outputs": [],
   "source": [
    "unif_weights   = get_uniform_weights(\n",
    "    tickers    = sp_500.ticker[-15:],\n",
    "    start_date = dtime(2007, 1, 1), \n",
    "    end_date   = dtime(2017, 12, 31)\n",
    ")\n",
    "\n",
    "unif_daily_perf, unif_cumulative_perf = execute_strategy_v2(unif_weights)"
   ]
  },
  {
   "cell_type": "markdown",
   "id": "sharing-calcium",
   "metadata": {},
   "source": [
    "### SP&500 Weighting"
   ]
  },
  {
   "cell_type": "code",
   "execution_count": 381,
   "id": "initial-newman",
   "metadata": {},
   "outputs": [],
   "source": [
    "sp500_weights  = get_market_cap_weights(\n",
    "    start_date = dtime(2007, 1, 1),\n",
    "    end_date   = dtime(2017, 12, 31)\n",
    ")\n",
    "\n",
    "sp500_daily_perf, sp500_cumulative_perf = execute_strategy_v2(sp500_weights)"
   ]
  },
  {
   "cell_type": "markdown",
   "id": "transparent-leader",
   "metadata": {},
   "source": [
    "### Maximum Diversification Weighting"
   ]
  },
  {
   "cell_type": "markdown",
   "id": "foreign-logic",
   "metadata": {},
   "source": [
    "#### Short-selling Allowed"
   ]
  },
  {
   "cell_type": "code",
   "execution_count": 392,
   "id": "private-shame",
   "metadata": {},
   "outputs": [],
   "source": [
    "max_diverse_weights = get_max_diverse_weights(\n",
    "    tickers        = list(sp_500.ticker[-15:]),\n",
    "    start_date     = dtime(2007, 1, 1),\n",
    "    end_date       = dtime(2017, 12, 31),\n",
    "    rebalance_days = 90 # Rebalance every quarter\n",
    ")\n",
    "\n",
    "max_diverse_daily_perf, max_diverse_cumulative_perf = execute_strategy_v2(max_diverse_weights)"
   ]
  },
  {
   "cell_type": "markdown",
   "id": "public-telephone",
   "metadata": {},
   "source": [
    "#### Short-selling Not Allowed (Long-only)"
   ]
  },
  {
   "cell_type": "code",
   "execution_count": 391,
   "id": "precise-fighter",
   "metadata": {},
   "outputs": [],
   "source": [
    "max_diverse_long_only_weights = get_max_diverse_long_only_weights(\n",
    "    tickers        = list(sp_500.ticker[-15:]),\n",
    "    start_date     = dtime(2007, 1, 1),\n",
    "    end_date       = dtime(2017, 12, 31),\n",
    "    rebalance_days = 90 # Rebalance every quarter\n",
    ")\n",
    "\n",
    "max_diverse_long_only_daily_perf, max_diverse_long_only_cumulative_perf = execute_strategy_v2(max_diverse_long_only_weights)"
   ]
  },
  {
   "cell_type": "markdown",
   "id": "willing-volunteer",
   "metadata": {},
   "source": [
    "### Efficient-Frontier Weights\n",
    "\n",
    "#### Global Minimum Variance (GMV)"
   ]
  },
  {
   "cell_type": "code",
   "execution_count": 413,
   "id": "helpful-noise",
   "metadata": {},
   "outputs": [],
   "source": [
    "gmv_weights = get_gmv_weights(\n",
    "    tickers        = list(sp_500.ticker[-15:]),\n",
    "    start_date     = dtime(2007, 1, 1),\n",
    "    end_date       = dtime(2017, 12, 31),\n",
    "    rebalance_days = 90 # Rebalance every quarter\n",
    ")\n",
    "\n",
    "gmv_daily_perf, gmv_cumulative_perf = execute_strategy_v2(gmv_weights)"
   ]
  },
  {
   "cell_type": "markdown",
   "id": "italian-governor",
   "metadata": {},
   "source": [
    "### Factor Model Weighting"
   ]
  },
  {
   "cell_type": "code",
   "execution_count": 425,
   "id": "treated-allocation",
   "metadata": {},
   "outputs": [],
   "source": [
    "fa_weights = get_factor_analysis_weights(\n",
    "    tickers        = list(sp_500.ticker[-15:]),\n",
    "    start_date     = dtime(2007, 1, 1),\n",
    "    end_date       = dtime(2017, 12, 31),\n",
    "    rebalance_days = 90 # Rebalance every quarter\n",
    ")\n",
    "\n",
    "fa_daily_perf, fa_cumulative_perf = execute_strategy_v2(fa_weights)"
   ]
  },
  {
   "cell_type": "markdown",
   "id": "successful-charleston",
   "metadata": {},
   "source": [
    "### Performance Analysis & Visualization"
   ]
  },
  {
   "cell_type": "code",
   "execution_count": 426,
   "id": "possible-power",
   "metadata": {},
   "outputs": [
    {
     "data": {
      "image/png": "[encoded data removed]",
      "text/plain": [
       "<Figure size 864x576 with 1 Axes>"
      ]
     },
     "metadata": {
      "needs_background": "light"
     },
     "output_type": "display_data"
    }
   ],
   "source": [
    "fig, ax = plt.subplots(figsize=(12, 8))\n",
    "\n",
    "ax.plot(unif_cumulative_perf,                  linewidth=1.0, label=\"Uniform\")\n",
    "ax.plot(sp500_cumulative_perf,                 linewidth=1.0, label=\"Market Cap (~SP500)\")\n",
    "ax.plot(max_diverse_cumulative_perf,           linewidth=1.0, label=\"Max Diversification (Short-selling allowed, Quarterly Rebalancing)\")\n",
    "ax.plot(max_diverse_long_only_cumulative_perf, linewidth=1.0, label=\"Max Diversification (Long-only, Quarterly Rebalancing)\")\n",
    "ax.plot(gmv_cumulative_perf,                   linewidth=1.0, label=\"Global Minimum Variance\")\n",
    "ax.plot(fa_cumulative_perf,                    linewidth=1.0, label=\"Factor Model\")\n",
    "\n",
    "ax.set_title(\"Cumulative Returns of Various Allocation Strategies\")\n",
    "ax.set_xlabel(\"Date\")\n",
    "ax.set_ylabel(\"Returns\")\n",
    "ax.legend()\n",
    "plt.show()"
   ]
  }
 ],
 "metadata": {
  "kernelspec": {
   "display_name": "Python 3",
   "language": "python",
   "name": "python3"
  },
  "language_info": {
   "codemirror_mode": {
    "name": "ipython",
    "version": 3
   },
   "file_extension": ".py",
   "mimetype": "text/x-python",
   "name": "python",
   "nbconvert_exporter": "python",
   "pygments_lexer": "ipython3",
   "version": "3.6.8"
  }
 },
 "nbformat": 4,
 "nbformat_minor": 5
}
