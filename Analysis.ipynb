{
 "cells": [
  {
   "cell_type": "markdown",
   "id": "driven-stroke",
   "metadata": {},
   "source": [
    "Use this notebook to run allocation strategies on available equity data.\n",
    "\n",
    "Download historical stock prices from the following:\n",
    "- https://www.kaggle.com/ehallmar/daily-historical-stock-prices-1970-2018\n",
    "\n",
    "S&P500 weights obtained from: https://www.slickcharts.com/sp500 (04/07/2021)"
   ]
  },
  {
   "cell_type": "code",
   "execution_count": 119,
   "id": "illegal-leeds",
   "metadata": {},
   "outputs": [],
   "source": [
    "# Analysis\n",
    "import pandas as pd\n",
    "import numpy  as np\n",
    "import os\n",
    "\n",
    "# Data import\n",
    "import zipfile\n",
    "\n",
    "# Visualization\n",
    "import matplotlib.pyplot as plt\n",
    "\n",
    "# Misc\n",
    "from datetime import datetime as dtime, timedelta as tdelta\n",
    "\n",
    "pd.options.mode.chained_assignment = None  # default='warn'"
   ]
  },
  {
   "cell_type": "markdown",
   "id": "active-practice",
   "metadata": {},
   "source": [
    "### Unzip"
   ]
  },
  {
   "cell_type": "code",
   "execution_count": 3,
   "id": "appointed-phoenix",
   "metadata": {},
   "outputs": [],
   "source": [
    "full_path = os.getcwd()"
   ]
  },
  {
   "cell_type": "code",
   "execution_count": null,
   "id": "figured-variance",
   "metadata": {},
   "outputs": [],
   "source": [
    "# Extract stock prices from zip\n",
    "zip_ref   = zipfile.ZipFile(full_path + \"/archive.zip\", 'r')\n",
    "zip_ref.extractall(full_path + \"/data\")\n",
    "zip_ref.close()"
   ]
  },
  {
   "cell_type": "markdown",
   "id": "nonprofit-arrangement",
   "metadata": {},
   "source": [
    "### Historical Stock Prices"
   ]
  },
  {
   "cell_type": "code",
   "execution_count": 18,
   "id": "metric-newcastle",
   "metadata": {},
   "outputs": [],
   "source": [
    "stock_prices_df = pd.read_csv(\n",
    "    full_path + \"/data/historical_stock_prices.csv\",\n",
    "    parse_dates = [\"date\"],\n",
    "    usecols     = [\"date\", \"ticker\", \"adj_close\"]\n",
    ")"
   ]
  },
  {
   "cell_type": "code",
   "execution_count": 19,
   "id": "inner-article",
   "metadata": {},
   "outputs": [],
   "source": [
    "# Filter by date\n",
    "\n",
    "START_DATE_FILTER = dtime(2005,  1,  1)\n",
    "END_DATE_FILTER   = dtime(2017, 12, 31)\n",
    "\n",
    "stock_prices_df = stock_prices_df[\n",
    "    (stock_prices_df.date >= START_DATE_FILTER) &\n",
    "    (stock_prices_df.date <=   END_DATE_FILTER)\n",
    "]"
   ]
  },
  {
   "cell_type": "code",
   "execution_count": 20,
   "id": "fantastic-animation",
   "metadata": {},
   "outputs": [],
   "source": [
    "# Get list of stocks that have appeared entirely throughout\n",
    "# the filtered date range\n",
    "#\n",
    "# There are 1926 tickers that satisfy this criteria\n",
    "\n",
    "total_dates       = len(stock_prices_df.date.unique())\n",
    "stock_appearances = stock_prices_df.ticker.value_counts()\n",
    "filtered_stock    = pd.DataFrame(\n",
    "    data = {\"ticker\": stock_appearances[stock_appearances == total_dates].index}\n",
    ")\n",
    "\n",
    "stock_prices_df   = pd.merge(stock_prices_df, filtered_stock, on=\"ticker\", how=\"inner\")"
   ]
  },
  {
   "cell_type": "code",
   "execution_count": 21,
   "id": "dressed-board",
   "metadata": {},
   "outputs": [
    {
     "data": {
      "text/html": [
       "<div>\n",
       "<style scoped>\n",
       "    .dataframe tbody tr th:only-of-type {\n",
       "        vertical-align: middle;\n",
       "    }\n",
       "\n",
       "    .dataframe tbody tr th {\n",
       "        vertical-align: top;\n",
       "    }\n",
       "\n",
       "    .dataframe thead th {\n",
       "        text-align: right;\n",
       "    }\n",
       "</style>\n",
       "<table border=\"1\" class=\"dataframe\">\n",
       "  <thead>\n",
       "    <tr style=\"text-align: right;\">\n",
       "      <th></th>\n",
       "      <th>ticker</th>\n",
       "      <th>adj_close</th>\n",
       "      <th>date</th>\n",
       "    </tr>\n",
       "  </thead>\n",
       "  <tbody>\n",
       "    <tr>\n",
       "      <th>0</th>\n",
       "      <td>GTN</td>\n",
       "      <td>11.976990</td>\n",
       "      <td>2005-01-03</td>\n",
       "    </tr>\n",
       "    <tr>\n",
       "      <th>1</th>\n",
       "      <td>GTN</td>\n",
       "      <td>11.504106</td>\n",
       "      <td>2005-01-04</td>\n",
       "    </tr>\n",
       "    <tr>\n",
       "      <th>2</th>\n",
       "      <td>GTN</td>\n",
       "      <td>11.414422</td>\n",
       "      <td>2005-01-05</td>\n",
       "    </tr>\n",
       "    <tr>\n",
       "      <th>3</th>\n",
       "      <td>GTN</td>\n",
       "      <td>11.373655</td>\n",
       "      <td>2005-01-06</td>\n",
       "    </tr>\n",
       "    <tr>\n",
       "      <th>4</th>\n",
       "      <td>GTN</td>\n",
       "      <td>11.422575</td>\n",
       "      <td>2005-01-07</td>\n",
       "    </tr>\n",
       "  </tbody>\n",
       "</table>\n",
       "</div>"
      ],
      "text/plain": [
       "  ticker  adj_close       date\n",
       "0    GTN  11.976990 2005-01-03\n",
       "1    GTN  11.504106 2005-01-04\n",
       "2    GTN  11.414422 2005-01-05\n",
       "3    GTN  11.373655 2005-01-06\n",
       "4    GTN  11.422575 2005-01-07"
      ]
     },
     "execution_count": 21,
     "metadata": {},
     "output_type": "execute_result"
    }
   ],
   "source": [
    "stock_prices_df.head()"
   ]
  },
  {
   "cell_type": "markdown",
   "id": "naval-remove",
   "metadata": {},
   "source": [
    "### S&P500 Tickers + Weights\n",
    "\n",
    "Note: Only the current weights are provided"
   ]
  },
  {
   "cell_type": "code",
   "execution_count": 22,
   "id": "tested-orientation",
   "metadata": {},
   "outputs": [],
   "source": [
    "sp_500           = pd.read_csv(full_path + \"/data/sp500.csv\")\n",
    "sp_500[\"weight\"] = sp_500[\"weight\"] / sp_500[\"weight\"].sum()"
   ]
  },
  {
   "cell_type": "code",
   "execution_count": 23,
   "id": "israeli-generic",
   "metadata": {},
   "outputs": [
    {
     "data": {
      "text/html": [
       "<div>\n",
       "<style scoped>\n",
       "    .dataframe tbody tr th:only-of-type {\n",
       "        vertical-align: middle;\n",
       "    }\n",
       "\n",
       "    .dataframe tbody tr th {\n",
       "        vertical-align: top;\n",
       "    }\n",
       "\n",
       "    .dataframe thead th {\n",
       "        text-align: right;\n",
       "    }\n",
       "</style>\n",
       "<table border=\"1\" class=\"dataframe\">\n",
       "  <thead>\n",
       "    <tr style=\"text-align: right;\">\n",
       "      <th></th>\n",
       "      <th>ticker</th>\n",
       "      <th>weight</th>\n",
       "    </tr>\n",
       "  </thead>\n",
       "  <tbody>\n",
       "    <tr>\n",
       "      <th>0</th>\n",
       "      <td>AAPL</td>\n",
       "      <td>0.057776</td>\n",
       "    </tr>\n",
       "    <tr>\n",
       "      <th>1</th>\n",
       "      <td>MSFT</td>\n",
       "      <td>0.054229</td>\n",
       "    </tr>\n",
       "    <tr>\n",
       "      <th>2</th>\n",
       "      <td>AMZN</td>\n",
       "      <td>0.040028</td>\n",
       "    </tr>\n",
       "    <tr>\n",
       "      <th>3</th>\n",
       "      <td>FB</td>\n",
       "      <td>0.021370</td>\n",
       "    </tr>\n",
       "    <tr>\n",
       "      <th>4</th>\n",
       "      <td>GOOGL</td>\n",
       "      <td>0.019273</td>\n",
       "    </tr>\n",
       "  </tbody>\n",
       "</table>\n",
       "</div>"
      ],
      "text/plain": [
       "  ticker    weight\n",
       "0   AAPL  0.057776\n",
       "1   MSFT  0.054229\n",
       "2   AMZN  0.040028\n",
       "3     FB  0.021370\n",
       "4  GOOGL  0.019273"
      ]
     },
     "execution_count": 23,
     "metadata": {},
     "output_type": "execute_result"
    }
   ],
   "source": [
    "sp_500.head()"
   ]
  },
  {
   "cell_type": "markdown",
   "id": "helpful-green",
   "metadata": {},
   "source": [
    "### Cleaning and filtering into S&P500 stocks (~391 resulting tickers)"
   ]
  },
  {
   "cell_type": "code",
   "execution_count": 24,
   "id": "provincial-adjustment",
   "metadata": {},
   "outputs": [],
   "source": [
    "# Additionally filter by stocks contained within the S&P500\n",
    "#\n",
    "# 391 tickers satisfy this criteria\n",
    "\n",
    "filtered_df = stock_prices_df.merge(sp_500, on=\"ticker\", how=\"inner\")\n",
    "filtered_df = filtered_df.drop(\"weight\", axis=1)"
   ]
  },
  {
   "cell_type": "code",
   "execution_count": 25,
   "id": "recognized-angel",
   "metadata": {},
   "outputs": [
    {
     "data": {
      "text/plain": [
       "391"
      ]
     },
     "execution_count": 25,
     "metadata": {},
     "output_type": "execute_result"
    }
   ],
   "source": [
    "len(filtered_df.ticker.unique())"
   ]
  },
  {
   "cell_type": "code",
   "execution_count": 26,
   "id": "inside-terrace",
   "metadata": {},
   "outputs": [
    {
     "data": {
      "text/html": [
       "<div>\n",
       "<style scoped>\n",
       "    .dataframe tbody tr th:only-of-type {\n",
       "        vertical-align: middle;\n",
       "    }\n",
       "\n",
       "    .dataframe tbody tr th {\n",
       "        vertical-align: top;\n",
       "    }\n",
       "\n",
       "    .dataframe thead th {\n",
       "        text-align: right;\n",
       "    }\n",
       "</style>\n",
       "<table border=\"1\" class=\"dataframe\">\n",
       "  <thead>\n",
       "    <tr style=\"text-align: right;\">\n",
       "      <th></th>\n",
       "      <th>ticker</th>\n",
       "      <th>adj_close</th>\n",
       "      <th>date</th>\n",
       "    </tr>\n",
       "  </thead>\n",
       "  <tbody>\n",
       "    <tr>\n",
       "      <th>0</th>\n",
       "      <td>AAPL</td>\n",
       "      <td>3.037917</td>\n",
       "      <td>2005-01-03</td>\n",
       "    </tr>\n",
       "    <tr>\n",
       "      <th>1</th>\n",
       "      <td>AAPL</td>\n",
       "      <td>3.069117</td>\n",
       "      <td>2005-01-04</td>\n",
       "    </tr>\n",
       "    <tr>\n",
       "      <th>2</th>\n",
       "      <td>AAPL</td>\n",
       "      <td>3.095998</td>\n",
       "      <td>2005-01-05</td>\n",
       "    </tr>\n",
       "    <tr>\n",
       "      <th>3</th>\n",
       "      <td>AAPL</td>\n",
       "      <td>3.098397</td>\n",
       "      <td>2005-01-06</td>\n",
       "    </tr>\n",
       "    <tr>\n",
       "      <th>4</th>\n",
       "      <td>AAPL</td>\n",
       "      <td>3.323997</td>\n",
       "      <td>2005-01-07</td>\n",
       "    </tr>\n",
       "  </tbody>\n",
       "</table>\n",
       "</div>"
      ],
      "text/plain": [
       "  ticker  adj_close       date\n",
       "0   AAPL   3.037917 2005-01-03\n",
       "1   AAPL   3.069117 2005-01-04\n",
       "2   AAPL   3.095998 2005-01-05\n",
       "3   AAPL   3.098397 2005-01-06\n",
       "4   AAPL   3.323997 2005-01-07"
      ]
     },
     "execution_count": 26,
     "metadata": {},
     "output_type": "execute_result"
    }
   ],
   "source": [
    "filtered_df.head()"
   ]
  },
  {
   "cell_type": "markdown",
   "id": "infectious-shelf",
   "metadata": {},
   "source": [
    "### Calculate log performance"
   ]
  },
  {
   "cell_type": "code",
   "execution_count": 30,
   "id": "agreed-lighter",
   "metadata": {},
   "outputs": [],
   "source": [
    "stock_performances = {}\n",
    "\n",
    "for ticker in filtered_df.ticker.unique():\n",
    "    temp                   = filtered_df[filtered_df.ticker == ticker]\n",
    "    temp[\"ln_adj_close_1\"] = np.log(temp.adj_close)\n",
    "    temp[\"ln_adj_close_2\"] = temp.ln_adj_close_1.shift(-1)\n",
    "    temp[\"ln_return\"]      = temp.ln_adj_close_2 - temp.ln_adj_close_1\n",
    "    temp                   = temp.drop([\"ln_adj_close_1\", \"ln_adj_close_2\"], axis=1)\n",
    "    stock_performances[ticker] = temp"
   ]
  },
  {
   "cell_type": "code",
   "execution_count": 14,
   "id": "collective-facial",
   "metadata": {},
   "outputs": [
    {
     "data": {
      "text/html": [
       "<div>\n",
       "<style scoped>\n",
       "    .dataframe tbody tr th:only-of-type {\n",
       "        vertical-align: middle;\n",
       "    }\n",
       "\n",
       "    .dataframe tbody tr th {\n",
       "        vertical-align: top;\n",
       "    }\n",
       "\n",
       "    .dataframe thead th {\n",
       "        text-align: right;\n",
       "    }\n",
       "</style>\n",
       "<table border=\"1\" class=\"dataframe\">\n",
       "  <thead>\n",
       "    <tr style=\"text-align: right;\">\n",
       "      <th></th>\n",
       "      <th>ticker</th>\n",
       "      <th>adj_close</th>\n",
       "      <th>date</th>\n",
       "      <th>ln_return</th>\n",
       "    </tr>\n",
       "  </thead>\n",
       "  <tbody>\n",
       "    <tr>\n",
       "      <th>0</th>\n",
       "      <td>AAPL</td>\n",
       "      <td>3.037917</td>\n",
       "      <td>2005-01-03</td>\n",
       "      <td>0.010218</td>\n",
       "    </tr>\n",
       "    <tr>\n",
       "      <th>1</th>\n",
       "      <td>AAPL</td>\n",
       "      <td>3.069117</td>\n",
       "      <td>2005-01-04</td>\n",
       "      <td>0.008720</td>\n",
       "    </tr>\n",
       "    <tr>\n",
       "      <th>2</th>\n",
       "      <td>AAPL</td>\n",
       "      <td>3.095998</td>\n",
       "      <td>2005-01-05</td>\n",
       "      <td>0.000775</td>\n",
       "    </tr>\n",
       "    <tr>\n",
       "      <th>3</th>\n",
       "      <td>AAPL</td>\n",
       "      <td>3.098397</td>\n",
       "      <td>2005-01-06</td>\n",
       "      <td>0.070283</td>\n",
       "    </tr>\n",
       "    <tr>\n",
       "      <th>4</th>\n",
       "      <td>AAPL</td>\n",
       "      <td>3.323997</td>\n",
       "      <td>2005-01-07</td>\n",
       "      <td>-0.004197</td>\n",
       "    </tr>\n",
       "  </tbody>\n",
       "</table>\n",
       "</div>"
      ],
      "text/plain": [
       "  ticker  adj_close       date  ln_return\n",
       "0   AAPL   3.037917 2005-01-03   0.010218\n",
       "1   AAPL   3.069117 2005-01-04   0.008720\n",
       "2   AAPL   3.095998 2005-01-05   0.000775\n",
       "3   AAPL   3.098397 2005-01-06   0.070283\n",
       "4   AAPL   3.323997 2005-01-07  -0.004197"
      ]
     },
     "execution_count": 14,
     "metadata": {},
     "output_type": "execute_result"
    }
   ],
   "source": [
    "stock_performances[\"AAPL\"].head()"
   ]
  },
  {
   "cell_type": "code",
   "execution_count": 15,
   "id": "synthetic-ballot",
   "metadata": {},
   "outputs": [],
   "source": [
    "final_df = pd.DataFrame()\n",
    "\n",
    "for k, v in stock_performances.items():\n",
    "    final_df = final_df.append(v)\n",
    "    \n",
    "final_df = final_df.fillna(0)\n",
    "final_df = final_df.set_index(\"date\")"
   ]
  },
  {
   "cell_type": "code",
   "execution_count": 194,
   "id": "every-shore",
   "metadata": {},
   "outputs": [],
   "source": [
    "stock_ln_returns = final_df.pivot_table(index=\"date\", columns=\"ticker\", values=\"ln_return\")"
   ]
  },
  {
   "cell_type": "code",
   "execution_count": 196,
   "id": "subject-cooperation",
   "metadata": {},
   "outputs": [],
   "source": [
    "ticker_order = stock_ln_returns.columns.tolist()"
   ]
  },
  {
   "cell_type": "code",
   "execution_count": 197,
   "id": "fifth-perfume",
   "metadata": {},
   "outputs": [],
   "source": [
    "# Returns a 1/N allocation\n",
    "# \n",
    "# Because the number of stocks listed in the exchange has changed significantly over time, it's\n",
    "# important to have this dynamically updated everytime the date is changed and the \"available\"\n",
    "# amount of tickers changes\n",
    "def construct_uniform_weights(tickers, date_time):\n",
    "    weights = np.repeat(1.0 / len(tickers), len(tickers))\n",
    "    \n",
    "    return {\"ticker\": tickers, \"weight\": weights}\n",
    "\n",
    "def construct_sp500_weights(tickers, date_time):\n",
    "    return {\n",
    "        \"ticker\": sp_500.ticker,\n",
    "        \"weight\": sp_500.weight\n",
    "    }"
   ]
  },
  {
   "cell_type": "markdown",
   "id": "undefined-trout",
   "metadata": {},
   "source": [
    "**Maximum diversification weighting**:\n",
    "\n",
    "Goal: Create portfolios that have minimally correlated assets, lower risk levels, and possibly higher returns.\n",
    "\n",
    "(Introduced by Choueifaty and Coignard, 2008 and Pemberton & Rau, 2007)\n",
    "\n",
    "The objective is to find the weight $w$ that maximizes the following:\n",
    "\n",
    "$\n",
    "\\max_w \\frac{w^T a}{\\sqrt{w_T \\Sigma w }}\n",
    "$\n",
    "\n",
    "We obtain the following analytical solution:\n",
    "\n",
    "$\n",
    "w_{MD} = \\frac{\\Sigma^{-1} \\sigma}{\\sigma^T \\Sigma^{-1} \\sigma}\n",
    "$\n",
    "\n",
    "The covariance matrix is determined at each datetime separately. We specifically use the last 252 days of trading prices to determine the covariance matrix."
   ]
  },
  {
   "cell_type": "markdown",
   "id": "small-tamil",
   "metadata": {},
   "source": [
    "### Statistical Calculations"
   ]
  },
  {
   "cell_type": "markdown",
   "id": "static-record",
   "metadata": {},
   "source": [
    "Calculate covariance matrix ($\\Sigma$) and inverse covariance matrix ($\\Sigma^{-1}$) on stock log returns\n",
    "\n",
    "Calculate volatility ($\\sigma$) on stock log returns"
   ]
  },
  {
   "cell_type": "code",
   "execution_count": 198,
   "id": "attended-means",
   "metadata": {},
   "outputs": [],
   "source": [
    "def get_cov_ln_returns(tickers, start_date, end_date):\n",
    "    tickers = list(set(stock_ln_returns.columns).intersection(tickers))\n",
    "    \n",
    "    return stock_ln_returns[tickers][(start_date <= stock_ln_returns.index) & \\\n",
    "                            (stock_ln_returns.index <= end_date)].cov()\n",
    "\n",
    "def get_std_ln_returns(tickers, start_date, end_date):\n",
    "    tickers = list(set(stock_ln_returns.columns).intersection(tickers))\n",
    "    \n",
    "    return stock_ln_returns[tickers][(start_date <= stock_ln_returns.index) & \\\n",
    "                            (stock_ln_returns.index <= end_date)].std()"
   ]
  },
  {
   "cell_type": "code",
   "execution_count": 226,
   "id": "sacred-access",
   "metadata": {},
   "outputs": [],
   "source": [
    "def construct_max_diverse_weights(tickers, date_time):\n",
    "    \n",
    "    # Calculate covariance on last 365 days (~ 252 trading days)\n",
    "    stock_ln_returns_cov = get_cov_ln_returns(\n",
    "        tickers, \n",
    "        date_time + tdelta(days = -365), \n",
    "        date_time + tdelta(days = -1)\n",
    "    ).values\n",
    "    \n",
    "    stock_ln_returns_cov_inv = np.linalg.inv(stock_ln_returns_cov)\n",
    "                          \n",
    "    # Calculate volatility on last 365 days (~ 252 trading days)\n",
    "    stock_ln_returns_vol = get_std_ln_returns(\n",
    "        tickers, \n",
    "        date_time + tdelta(days = -365), \n",
    "        date_time + tdelta(days = -1)\n",
    "    ).values\n",
    "    \n",
    "    max_diverse_weight = (stock_ln_returns_cov_inv @ stock_ln_returns_vol) / \\\n",
    "    (stock_ln_returns_vol.T @ stock_ln_returns_cov_inv @ stock_ln_returns_vol)\n",
    "    \n",
    "    max_diverse_weight = np.maximum(max_diverse_weight, 0)\n",
    "    \n",
    "    norm_factor = np.sum(max_diverse_weight)\n",
    "    \n",
    "    return {\n",
    "        \"ticker\": tickers,\n",
    "        \"weight\": max_diverse_weight / norm_factor\n",
    "    }"
   ]
  },
  {
   "cell_type": "markdown",
   "id": "western-maldives",
   "metadata": {},
   "source": [
    "### Covariance \n"
   ]
  },
  {
   "cell_type": "markdown",
   "id": "exotic-action",
   "metadata": {},
   "source": [
    "### Measuring Performance"
   ]
  },
  {
   "cell_type": "code",
   "execution_count": 186,
   "id": "subject-management",
   "metadata": {},
   "outputs": [],
   "source": [
    "# Input arguments\n",
    "# ===============\n",
    "# weight_function: *Function* with the following (possibly optional) inputs:\n",
    "#                     - current stocks / tickers\n",
    "#                     - datetime\n",
    "#                  and outputs a *Dictionary* of weights corresponding to the allocation at that time\n",
    "# start_date:      When to start the allocation strategy\n",
    "# end_date:        When to end the allocation strategy\n",
    "#\n",
    "# Returns an np.array of wealth for the dates falling within the start_date and end_date \n",
    "def execute_strategy(df, weight_function, start_date, end_date):\n",
    "    date_range = pd.date_range(start_date, end_date)\n",
    "    \n",
    "    valid_dates, log_perfs = np.array([]), np.array([])\n",
    "    \n",
    "    for date_time in date_range:\n",
    "        \n",
    "        # May be the case on a weekend, holiday, or other non-trading data\n",
    "        if date_time not in df.index: \n",
    "            continue\n",
    "            \n",
    "        valid_dates = np.append(valid_dates, date_time)\n",
    "            \n",
    "        # Dynamic calculation of weights\n",
    "        tickers     = np.array(df.loc[date_time].ticker)\n",
    "        weights     = weight_function(tickers = tickers, date_time = date_time)\n",
    "        weight_df   = pd.DataFrame(data = weights).set_index(\"ticker\")\n",
    "        \n",
    "        current_day_df = df.loc[date_time]\n",
    "        current_day_df = pd.merge(current_day_df, weight_df, how='left', on='ticker')\n",
    "\n",
    "        log_perf    = np.sum(current_day_df.weight * current_day_df.ln_return)\n",
    "        log_perfs   = np.append(log_perfs, log_perf)\n",
    "            \n",
    "    return valid_dates, log_perfs"
   ]
  },
  {
   "cell_type": "markdown",
   "id": "level-rally",
   "metadata": {},
   "source": [
    "### Uniform Weighting"
   ]
  },
  {
   "cell_type": "code",
   "execution_count": 229,
   "id": "falling-bachelor",
   "metadata": {
    "scrolled": true
   },
   "outputs": [],
   "source": [
    "uniform_dates, uniform_perfs = execute_strategy(\n",
    "    final_df,\n",
    "    weight_function = construct_uniform_weights, \n",
    "    start_date      = dtime(2007, 1, 1), \n",
    "    end_date        = dtime(2017, 12, 31)\n",
    ")"
   ]
  },
  {
   "cell_type": "markdown",
   "id": "sharing-calcium",
   "metadata": {},
   "source": [
    "### SP&500 Weighting"
   ]
  },
  {
   "cell_type": "code",
   "execution_count": 230,
   "id": "twelve-walker",
   "metadata": {},
   "outputs": [],
   "source": [
    "sp500_dates, sp500_perfs = execute_strategy(\n",
    "    final_df,\n",
    "    weight_function = construct_sp500_weights, \n",
    "    start_date      = dtime(2007, 1, 1), \n",
    "    end_date        = dtime(2017, 12, 31)\n",
    ")"
   ]
  },
  {
   "cell_type": "markdown",
   "id": "accessible-integer",
   "metadata": {},
   "source": [
    "### Maximum Diversification Weighting\n",
    "\n",
    "Using past 365 day (252 trading days) data."
   ]
  },
  {
   "cell_type": "code",
   "execution_count": 227,
   "id": "private-shame",
   "metadata": {},
   "outputs": [],
   "source": [
    "max_diverse_dates, max_diverse_perfs = execute_strategy(\n",
    "    final_df,\n",
    "    weight_function = construct_max_diverse_weights, \n",
    "    start_date      = dtime(2007, 1, 1), \n",
    "    end_date        = dtime(2017, 12, 31)\n",
    ")"
   ]
  },
  {
   "cell_type": "markdown",
   "id": "successful-charleston",
   "metadata": {},
   "source": [
    "### Visualization"
   ]
  },
  {
   "cell_type": "code",
   "execution_count": 231,
   "id": "possible-power",
   "metadata": {},
   "outputs": [
    {
     "data": {
      "image/png": "[encoded data removed]",
      "text/plain": [
       "<Figure size 864x576 with 1 Axes>"
      ]
     },
     "metadata": {
      "needs_background": "light"
     },
     "output_type": "display_data"
    }
   ],
   "source": [
    "fig, ax = plt.subplots(figsize=(12, 8))\n",
    "ax.plot(uniform_dates,     np.cumsum(uniform_perfs),     linewidth=1.0, label=\"Uniform\")\n",
    "ax.plot(sp500_dates,       np.cumsum(sp500_perfs),       linewidth=1.0, label=\"Market Cap (~SP500)\")\n",
    "ax.plot(max_diverse_dates, np.cumsum(max_diverse_perfs), linewidth=1.0, label=\"Max Diversification\")\n",
    "ax.set_title(\"Log Returns of Various Allocation Strategies\")\n",
    "ax.set_xlabel(\"Date\")\n",
    "ax.set_ylabel(\"Log Returns\")\n",
    "ax.legend()\n",
    "plt.show()"
   ]
  }
 ],
 "metadata": {
  "kernelspec": {
   "display_name": "Python 3",
   "language": "python",
   "name": "python3"
  },
  "language_info": {
   "codemirror_mode": {
    "name": "ipython",
    "version": 3
   },
   "file_extension": ".py",
   "mimetype": "text/x-python",
   "name": "python",
   "nbconvert_exporter": "python",
   "pygments_lexer": "ipython3",
   "version": "3.6.8"
  }
 },
 "nbformat": 4,
 "nbformat_minor": 5
}
