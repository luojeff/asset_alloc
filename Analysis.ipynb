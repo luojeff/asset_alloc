{
 "cells": [
  {
   "cell_type": "markdown",
   "id": "driven-stroke",
   "metadata": {},
   "source": [
    "Use this notebook to run allocation strategies on available equity data.\n",
    "\n",
    "Download historical stock prices from the following:\n",
    "- https://www.kaggle.com/ehallmar/daily-historical-stock-prices-1970-2018\n",
    "\n",
    "S&P500 weights obtained from: https://www.slickcharts.com/sp500 (04/07/2021)"
   ]
  },
  {
   "cell_type": "code",
   "execution_count": 1,
   "id": "illegal-leeds",
   "metadata": {},
   "outputs": [],
   "source": [
    "# Analysis\n",
    "import pandas as pd\n",
    "import numpy  as np\n",
    "import os\n",
    "\n",
    "# Data import\n",
    "import zipfile\n",
    "\n",
    "# Visualization\n",
    "import matplotlib.pyplot as plt\n",
    "\n",
    "# Misc\n",
    "from datetime import datetime as dtime"
   ]
  },
  {
   "cell_type": "markdown",
   "id": "active-practice",
   "metadata": {},
   "source": [
    "### Unzip"
   ]
  },
  {
   "cell_type": "code",
   "execution_count": 5,
   "id": "figured-variance",
   "metadata": {},
   "outputs": [],
   "source": [
    "# Extract stock prices from zip\n",
    "full_path = os.getcwd()\n",
    "zip_ref   = zipfile.ZipFile(full_path + \"/archive.zip\", 'r')\n",
    "zip_ref.extractall(full_path + \"/data\")\n",
    "zip_ref.close()"
   ]
  },
  {
   "cell_type": "markdown",
   "id": "nonprofit-arrangement",
   "metadata": {},
   "source": [
    "### Historical Stock Prices"
   ]
  },
  {
   "cell_type": "code",
   "execution_count": 91,
   "id": "metric-newcastle",
   "metadata": {},
   "outputs": [],
   "source": [
    "stock_prices_df = pd.read_csv(\n",
    "    full_path + \"/data/historical_stock_prices.csv\",\n",
    "    parse_dates = [\"date\"],\n",
    "    usecols     = [\"date\", \"ticker\", \"adj_close\"]\n",
    ")"
   ]
  },
  {
   "cell_type": "code",
   "execution_count": 92,
   "id": "inner-article",
   "metadata": {},
   "outputs": [],
   "source": [
    "# Filter by date\n",
    "\n",
    "START_DATE_FILTER = dtime(2005,  1,  1)\n",
    "END_DATE_FILTER   = dtime(2017, 12, 31)\n",
    "\n",
    "stock_prices_df = stock_prices_df[\n",
    "    (stock_prices_df.date >= START_DATE_FILTER) &\n",
    "    (stock_prices_df.date <=   END_DATE_FILTER)\n",
    "]"
   ]
  },
  {
   "cell_type": "code",
   "execution_count": 93,
   "id": "fantastic-animation",
   "metadata": {},
   "outputs": [],
   "source": [
    "# Get list of stocks that have appeared entirely throughout\n",
    "# the filtered date range\n",
    "#\n",
    "# There are 1926 tickers that satisfy this criteria\n",
    "\n",
    "total_dates       = len(stock_prices_df.date.unique())\n",
    "stock_appearances = stock_prices_df.ticker.value_counts()\n",
    "filtered_stock    = pd.DataFrame(\n",
    "    data = {\"ticker\": stock_appearances[stock_appearances == total_dates].index}\n",
    ")\n",
    "\n",
    "stock_prices_df   = pd.merge(stock_prices_df, filtered_stock, on=\"ticker\", how=\"inner\")"
   ]
  },
  {
   "cell_type": "code",
   "execution_count": 94,
   "id": "dressed-board",
   "metadata": {},
   "outputs": [
    {
     "data": {
      "text/html": [
       "<div>\n",
       "<style scoped>\n",
       "    .dataframe tbody tr th:only-of-type {\n",
       "        vertical-align: middle;\n",
       "    }\n",
       "\n",
       "    .dataframe tbody tr th {\n",
       "        vertical-align: top;\n",
       "    }\n",
       "\n",
       "    .dataframe thead th {\n",
       "        text-align: right;\n",
       "    }\n",
       "</style>\n",
       "<table border=\"1\" class=\"dataframe\">\n",
       "  <thead>\n",
       "    <tr style=\"text-align: right;\">\n",
       "      <th></th>\n",
       "      <th>ticker</th>\n",
       "      <th>adj_close</th>\n",
       "      <th>date</th>\n",
       "    </tr>\n",
       "  </thead>\n",
       "  <tbody>\n",
       "    <tr>\n",
       "      <th>0</th>\n",
       "      <td>GTN</td>\n",
       "      <td>11.976990</td>\n",
       "      <td>2005-01-03</td>\n",
       "    </tr>\n",
       "    <tr>\n",
       "      <th>1</th>\n",
       "      <td>GTN</td>\n",
       "      <td>11.504106</td>\n",
       "      <td>2005-01-04</td>\n",
       "    </tr>\n",
       "    <tr>\n",
       "      <th>2</th>\n",
       "      <td>GTN</td>\n",
       "      <td>11.414422</td>\n",
       "      <td>2005-01-05</td>\n",
       "    </tr>\n",
       "    <tr>\n",
       "      <th>3</th>\n",
       "      <td>GTN</td>\n",
       "      <td>11.373655</td>\n",
       "      <td>2005-01-06</td>\n",
       "    </tr>\n",
       "    <tr>\n",
       "      <th>4</th>\n",
       "      <td>GTN</td>\n",
       "      <td>11.422575</td>\n",
       "      <td>2005-01-07</td>\n",
       "    </tr>\n",
       "  </tbody>\n",
       "</table>\n",
       "</div>"
      ],
      "text/plain": [
       "  ticker  adj_close       date\n",
       "0    GTN  11.976990 2005-01-03\n",
       "1    GTN  11.504106 2005-01-04\n",
       "2    GTN  11.414422 2005-01-05\n",
       "3    GTN  11.373655 2005-01-06\n",
       "4    GTN  11.422575 2005-01-07"
      ]
     },
     "execution_count": 94,
     "metadata": {},
     "output_type": "execute_result"
    }
   ],
   "source": [
    "stock_prices_df.head()"
   ]
  },
  {
   "cell_type": "markdown",
   "id": "naval-remove",
   "metadata": {},
   "source": [
    "### S&P500 Tickers + Weights\n",
    "\n",
    "Note: Only the current weights are provided"
   ]
  },
  {
   "cell_type": "code",
   "execution_count": 95,
   "id": "tested-orientation",
   "metadata": {},
   "outputs": [],
   "source": [
    "sp_500           = pd.read_csv(full_path + \"/data/sp500.csv\")\n",
    "sp_500[\"weight\"] = sp_500[\"weight\"] / sp_500[\"weight\"].sum()"
   ]
  },
  {
   "cell_type": "code",
   "execution_count": 96,
   "id": "israeli-generic",
   "metadata": {},
   "outputs": [
    {
     "data": {
      "text/html": [
       "<div>\n",
       "<style scoped>\n",
       "    .dataframe tbody tr th:only-of-type {\n",
       "        vertical-align: middle;\n",
       "    }\n",
       "\n",
       "    .dataframe tbody tr th {\n",
       "        vertical-align: top;\n",
       "    }\n",
       "\n",
       "    .dataframe thead th {\n",
       "        text-align: right;\n",
       "    }\n",
       "</style>\n",
       "<table border=\"1\" class=\"dataframe\">\n",
       "  <thead>\n",
       "    <tr style=\"text-align: right;\">\n",
       "      <th></th>\n",
       "      <th>ticker</th>\n",
       "      <th>weight</th>\n",
       "    </tr>\n",
       "  </thead>\n",
       "  <tbody>\n",
       "    <tr>\n",
       "      <th>0</th>\n",
       "      <td>AAPL</td>\n",
       "      <td>0.057776</td>\n",
       "    </tr>\n",
       "    <tr>\n",
       "      <th>1</th>\n",
       "      <td>MSFT</td>\n",
       "      <td>0.054229</td>\n",
       "    </tr>\n",
       "    <tr>\n",
       "      <th>2</th>\n",
       "      <td>AMZN</td>\n",
       "      <td>0.040028</td>\n",
       "    </tr>\n",
       "    <tr>\n",
       "      <th>3</th>\n",
       "      <td>FB</td>\n",
       "      <td>0.021370</td>\n",
       "    </tr>\n",
       "    <tr>\n",
       "      <th>4</th>\n",
       "      <td>GOOGL</td>\n",
       "      <td>0.019273</td>\n",
       "    </tr>\n",
       "  </tbody>\n",
       "</table>\n",
       "</div>"
      ],
      "text/plain": [
       "  ticker    weight\n",
       "0   AAPL  0.057776\n",
       "1   MSFT  0.054229\n",
       "2   AMZN  0.040028\n",
       "3     FB  0.021370\n",
       "4  GOOGL  0.019273"
      ]
     },
     "execution_count": 96,
     "metadata": {},
     "output_type": "execute_result"
    }
   ],
   "source": [
    "sp_500.head()"
   ]
  },
  {
   "cell_type": "markdown",
   "id": "helpful-green",
   "metadata": {},
   "source": [
    "### Cleaning and filtering into S&P500 stocks"
   ]
  },
  {
   "cell_type": "code",
   "execution_count": 100,
   "id": "provincial-adjustment",
   "metadata": {},
   "outputs": [],
   "source": [
    "# Additionally filter by stocks contained within the S&P500\n",
    "#\n",
    "# 391 tickers satisfy this criteria\n",
    "\n",
    "filtered_df = stock_prices_df.merge(sp_500, on=\"ticker\", how=\"inner\")\n",
    "filtered_df = filtered_df.drop(\"weight\", axis=1)"
   ]
  },
  {
   "cell_type": "code",
   "execution_count": 101,
   "id": "recognized-angel",
   "metadata": {},
   "outputs": [
    {
     "data": {
      "text/plain": [
       "391"
      ]
     },
     "execution_count": 101,
     "metadata": {},
     "output_type": "execute_result"
    }
   ],
   "source": [
    "len(filtered_df.ticker.unique())"
   ]
  },
  {
   "cell_type": "code",
   "execution_count": 103,
   "id": "inside-terrace",
   "metadata": {},
   "outputs": [
    {
     "data": {
      "text/html": [
       "<div>\n",
       "<style scoped>\n",
       "    .dataframe tbody tr th:only-of-type {\n",
       "        vertical-align: middle;\n",
       "    }\n",
       "\n",
       "    .dataframe tbody tr th {\n",
       "        vertical-align: top;\n",
       "    }\n",
       "\n",
       "    .dataframe thead th {\n",
       "        text-align: right;\n",
       "    }\n",
       "</style>\n",
       "<table border=\"1\" class=\"dataframe\">\n",
       "  <thead>\n",
       "    <tr style=\"text-align: right;\">\n",
       "      <th></th>\n",
       "      <th>ticker</th>\n",
       "      <th>adj_close</th>\n",
       "      <th>date</th>\n",
       "    </tr>\n",
       "  </thead>\n",
       "  <tbody>\n",
       "    <tr>\n",
       "      <th>0</th>\n",
       "      <td>AAPL</td>\n",
       "      <td>3.037917</td>\n",
       "      <td>2005-01-03</td>\n",
       "    </tr>\n",
       "    <tr>\n",
       "      <th>1</th>\n",
       "      <td>AAPL</td>\n",
       "      <td>3.069117</td>\n",
       "      <td>2005-01-04</td>\n",
       "    </tr>\n",
       "    <tr>\n",
       "      <th>2</th>\n",
       "      <td>AAPL</td>\n",
       "      <td>3.095998</td>\n",
       "      <td>2005-01-05</td>\n",
       "    </tr>\n",
       "    <tr>\n",
       "      <th>3</th>\n",
       "      <td>AAPL</td>\n",
       "      <td>3.098397</td>\n",
       "      <td>2005-01-06</td>\n",
       "    </tr>\n",
       "    <tr>\n",
       "      <th>4</th>\n",
       "      <td>AAPL</td>\n",
       "      <td>3.323997</td>\n",
       "      <td>2005-01-07</td>\n",
       "    </tr>\n",
       "  </tbody>\n",
       "</table>\n",
       "</div>"
      ],
      "text/plain": [
       "  ticker  adj_close       date\n",
       "0   AAPL   3.037917 2005-01-03\n",
       "1   AAPL   3.069117 2005-01-04\n",
       "2   AAPL   3.095998 2005-01-05\n",
       "3   AAPL   3.098397 2005-01-06\n",
       "4   AAPL   3.323997 2005-01-07"
      ]
     },
     "execution_count": 103,
     "metadata": {},
     "output_type": "execute_result"
    }
   ],
   "source": [
    "filtered_df.head()"
   ]
  },
  {
   "cell_type": "markdown",
   "id": "infectious-shelf",
   "metadata": {},
   "source": [
    "### Calculate log performance"
   ]
  },
  {
   "cell_type": "code",
   "execution_count": 112,
   "id": "agreed-lighter",
   "metadata": {},
   "outputs": [
    {
     "name": "stderr",
     "output_type": "stream",
     "text": [
      "<ipython-input-112-cf59d6f280d7>:5: SettingWithCopyWarning: \n",
      "A value is trying to be set on a copy of a slice from a DataFrame.\n",
      "Try using .loc[row_indexer,col_indexer] = value instead\n",
      "\n",
      "See the caveats in the documentation: https://pandas.pydata.org/pandas-docs/stable/user_guide/indexing.html#returning-a-view-versus-a-copy\n",
      "  temp[\"ln_adj_close_1\"] = np.log(temp.adj_close)\n",
      "<ipython-input-112-cf59d6f280d7>:6: SettingWithCopyWarning: \n",
      "A value is trying to be set on a copy of a slice from a DataFrame.\n",
      "Try using .loc[row_indexer,col_indexer] = value instead\n",
      "\n",
      "See the caveats in the documentation: https://pandas.pydata.org/pandas-docs/stable/user_guide/indexing.html#returning-a-view-versus-a-copy\n",
      "  temp[\"ln_adj_close_2\"] = temp.ln_adj_close_1.shift(-1)\n",
      "<ipython-input-112-cf59d6f280d7>:7: SettingWithCopyWarning: \n",
      "A value is trying to be set on a copy of a slice from a DataFrame.\n",
      "Try using .loc[row_indexer,col_indexer] = value instead\n",
      "\n",
      "See the caveats in the documentation: https://pandas.pydata.org/pandas-docs/stable/user_guide/indexing.html#returning-a-view-versus-a-copy\n",
      "  temp[\"ln_return\"]      = temp.ln_adj_close_2 - temp.ln_adj_close_1\n"
     ]
    }
   ],
   "source": [
    "stock_performances = {}\n",
    "\n",
    "for ticker in filtered_df.ticker.unique():\n",
    "    temp                   = filtered_df[filtered_df.ticker == ticker]\n",
    "    temp[\"ln_adj_close_1\"] = np.log(temp.adj_close)\n",
    "    temp[\"ln_adj_close_2\"] = temp.ln_adj_close_1.shift(-1)\n",
    "    temp[\"ln_return\"]      = temp.ln_adj_close_2 - temp.ln_adj_close_1\n",
    "    temp                   = temp.drop([\"ln_adj_close_1\", \"ln_adj_close_2\"], axis=1)\n",
    "    \n",
    "    stock_performances[ticker] = temp"
   ]
  },
  {
   "cell_type": "code",
   "execution_count": 116,
   "id": "collective-facial",
   "metadata": {},
   "outputs": [
    {
     "data": {
      "text/html": [
       "<div>\n",
       "<style scoped>\n",
       "    .dataframe tbody tr th:only-of-type {\n",
       "        vertical-align: middle;\n",
       "    }\n",
       "\n",
       "    .dataframe tbody tr th {\n",
       "        vertical-align: top;\n",
       "    }\n",
       "\n",
       "    .dataframe thead th {\n",
       "        text-align: right;\n",
       "    }\n",
       "</style>\n",
       "<table border=\"1\" class=\"dataframe\">\n",
       "  <thead>\n",
       "    <tr style=\"text-align: right;\">\n",
       "      <th></th>\n",
       "      <th>ticker</th>\n",
       "      <th>adj_close</th>\n",
       "      <th>date</th>\n",
       "      <th>ln_return</th>\n",
       "    </tr>\n",
       "  </thead>\n",
       "  <tbody>\n",
       "    <tr>\n",
       "      <th>0</th>\n",
       "      <td>AAPL</td>\n",
       "      <td>3.037917</td>\n",
       "      <td>2005-01-03</td>\n",
       "      <td>0.010218</td>\n",
       "    </tr>\n",
       "    <tr>\n",
       "      <th>1</th>\n",
       "      <td>AAPL</td>\n",
       "      <td>3.069117</td>\n",
       "      <td>2005-01-04</td>\n",
       "      <td>0.008720</td>\n",
       "    </tr>\n",
       "    <tr>\n",
       "      <th>2</th>\n",
       "      <td>AAPL</td>\n",
       "      <td>3.095998</td>\n",
       "      <td>2005-01-05</td>\n",
       "      <td>0.000775</td>\n",
       "    </tr>\n",
       "    <tr>\n",
       "      <th>3</th>\n",
       "      <td>AAPL</td>\n",
       "      <td>3.098397</td>\n",
       "      <td>2005-01-06</td>\n",
       "      <td>0.070283</td>\n",
       "    </tr>\n",
       "    <tr>\n",
       "      <th>4</th>\n",
       "      <td>AAPL</td>\n",
       "      <td>3.323997</td>\n",
       "      <td>2005-01-07</td>\n",
       "      <td>-0.004197</td>\n",
       "    </tr>\n",
       "  </tbody>\n",
       "</table>\n",
       "</div>"
      ],
      "text/plain": [
       "  ticker  adj_close       date  ln_return\n",
       "0   AAPL   3.037917 2005-01-03   0.010218\n",
       "1   AAPL   3.069117 2005-01-04   0.008720\n",
       "2   AAPL   3.095998 2005-01-05   0.000775\n",
       "3   AAPL   3.098397 2005-01-06   0.070283\n",
       "4   AAPL   3.323997 2005-01-07  -0.004197"
      ]
     },
     "execution_count": 116,
     "metadata": {},
     "output_type": "execute_result"
    }
   ],
   "source": [
    "stock_performances[\"AAPL\"].head()"
   ]
  },
  {
   "cell_type": "code",
   "execution_count": 130,
   "id": "synthetic-ballot",
   "metadata": {},
   "outputs": [],
   "source": [
    "final_df = pd.DataFrame()\n",
    "\n",
    "for k, v in stock_performances.items():\n",
    "    final_df = final_df.append(v)\n",
    "    \n",
    "final_df = final_df.fillna(0)\n",
    "final_df = final_df.set_index(\"date\")"
   ]
  },
  {
   "cell_type": "code",
   "execution_count": 132,
   "id": "sacred-access",
   "metadata": {},
   "outputs": [],
   "source": [
    "def construct_weights(tickers, date_time):\n",
    "    pass\n",
    "\n",
    "# Returns a 1/N allocation\n",
    "# \n",
    "# Because the number of stocks listed in the exchange has changed significantly over time, it's\n",
    "# important to have this dynamically updated everytime the date is changed and the \"available\"\n",
    "# amount of tickers changes\n",
    "def construct_uniform_weights(tickers, date_time):\n",
    "    weights = np.repeat(1.0 / len(tickers), len(tickers))\n",
    "    \n",
    "    return {\"ticker\": tickers, \"weight\": weights}"
   ]
  },
  {
   "cell_type": "markdown",
   "id": "exotic-action",
   "metadata": {},
   "source": [
    "### Measuring Performance"
   ]
  },
  {
   "cell_type": "code",
   "execution_count": 136,
   "id": "subject-management",
   "metadata": {},
   "outputs": [],
   "source": [
    "# Input arguments\n",
    "# ===============\n",
    "# weight_function: *Function* with the following (possibly optional) inputs:\n",
    "#                     - current stocks / tickers\n",
    "#                     - datetime\n",
    "#                  and outputs a *Dictionary* of weights corresponding to the allocation at that time\n",
    "# start_date:      When to start the allocation strategy\n",
    "# end_date:        When to end the allocation strategy\n",
    "#\n",
    "# Returns an np.array of wealth for the dates falling within the start_date and end_date \n",
    "def execute_strategy(df, weight_function, start_date, end_date):\n",
    "    date_range = pd.date_range(start_date, end_date)\n",
    "    \n",
    "    valid_dates, log_perfs = np.array([]), np.array([])\n",
    "    \n",
    "    for date_time in date_range:\n",
    "        \n",
    "        # May be the case on a weekend, holiday, or other non-trading data\n",
    "        if date_time not in df.index: \n",
    "            continue\n",
    "            \n",
    "        valid_dates = np.append(valid_dates, date_time)\n",
    "            \n",
    "        # Dynamic calculation of weights\n",
    "        tickers     = np.array(df.loc[date_time].ticker)\n",
    "        weights     = weight_function(tickers = tickers, date_time = date_time)\n",
    "        weight_df   = pd.DataFrame(data = weights).set_index(\"ticker\")\n",
    "        \n",
    "        current_day_df = df.loc[date_time]\n",
    "        current_day_df = pd.merge(current_day_df, weight_df, how='left', on='ticker')\n",
    "\n",
    "        log_perf    = np.sum(current_day_df.weight * current_day_df.ln_return)\n",
    "        log_perfs   = np.append(log_perfs, log_perf)\n",
    "            \n",
    "    return valid_dates, log_perfs"
   ]
  },
  {
   "cell_type": "code",
   "execution_count": 137,
   "id": "falling-bachelor",
   "metadata": {
    "scrolled": true
   },
   "outputs": [
    {
     "data": {
      "image/png": "[encoded data removed]",
      "text/plain": [
       "<Figure size 432x288 with 1 Axes>"
      ]
     },
     "metadata": {
      "needs_background": "light"
     },
     "output_type": "display_data"
    }
   ],
   "source": [
    "dates, perfs = execute_strategy(\n",
    "    final_df,\n",
    "    weight_function = construct_uniform_weights, \n",
    "    start_date      = dtime(2000, 1, 1), \n",
    "    end_date        = dtime(2017, 12, 31)\n",
    ")\n",
    "\n",
    "plt.plot(dates, np.cumsum(perfs))\n",
    "plt.title(\"Log Returns\")\n",
    "plt.show()"
   ]
  }
 ],
 "metadata": {
  "kernelspec": {
   "display_name": "Python 3",
   "language": "python",
   "name": "python3"
  },
  "language_info": {
   "codemirror_mode": {
    "name": "ipython",
    "version": 3
   },
   "file_extension": ".py",
   "mimetype": "text/x-python",
   "name": "python",
   "nbconvert_exporter": "python",
   "pygments_lexer": "ipython3",
   "version": "3.8.7"
  }
 },
 "nbformat": 4,
 "nbformat_minor": 5
}
