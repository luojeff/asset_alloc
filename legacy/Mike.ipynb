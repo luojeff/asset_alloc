{
 "cells": [
  {
   "cell_type": "markdown",
   "id": "expected-cookie",
   "metadata": {},
   "source": [
    "# Allocation Strategy Analysis\n",
    "\n",
    "Use this notebook to run allocation strategies on available equity data.\n",
    "\n",
    "Download historical stock prices from the following:\n",
    "- https://www.kaggle.com/ehallmar/daily-historical-stock-prices-1970-2018\n",
    "\n",
    "S&P500 weights obtained from: https://www.slickcharts.com/sp500 (04/07/2021)"
   ]
  },
  {
   "cell_type": "code",
   "execution_count": 1,
   "id": "undefined-output",
   "metadata": {},
   "outputs": [],
   "source": [
    "# Analysis\n",
    "import pandas as pd\n",
    "import numpy  as np\n",
    "import cvxpy  as cp\n",
    "import sklearn\n",
    "from   sklearn.decomposition import PCA\n",
    "\n",
    "# Data import\n",
    "import zipfile\n",
    "\n",
    "# Visualization\n",
    "import matplotlib.pyplot as plt\n",
    "\n",
    "# Misc\n",
    "from datetime import datetime as dtime, timedelta as tdelta\n",
    "import os\n",
    "\n",
    "pd.options.mode.chained_assignment = None  # default='warn'\n",
    "\n",
    "import pandas_datareader as pdr\n",
    "import statsmodels.api as sm"
   ]
  },
  {
   "cell_type": "markdown",
   "id": "racial-rescue",
   "metadata": {},
   "source": [
    "### Unzip"
   ]
  },
  {
   "cell_type": "code",
   "execution_count": 2,
   "id": "extensive-possible",
   "metadata": {},
   "outputs": [],
   "source": [
    "full_path = os.getcwd()"
   ]
  },
  {
   "cell_type": "code",
   "execution_count": 3,
   "id": "armed-chess",
   "metadata": {},
   "outputs": [],
   "source": [
    "# Extract stock prices from zip\n",
    "# zip_ref = zipfile.ZipFile(full_path + \"/archive.zip\", 'r')\n",
    "# zip_ref.extractall(full_path + \"/data\")\n",
    "# zip_ref.close()"
   ]
  },
  {
   "cell_type": "markdown",
   "id": "champion-virgin",
   "metadata": {},
   "source": [
    "### Cleaning + Creating Historical Stock Prices Dataframe"
   ]
  },
  {
   "cell_type": "code",
   "execution_count": 4,
   "id": "simplified-charlotte",
   "metadata": {},
   "outputs": [],
   "source": [
    "stock_prices_df = pd.read_csv(\n",
    "    full_path + \"/data/historical_stock_prices.csv\",\n",
    "    parse_dates = [\"date\"],\n",
    "    usecols     = [\"date\", \"ticker\", \"adj_close\"]\n",
    ")\n",
    "\n",
    "sp_500           = pd.read_csv(full_path + \"/data/sp500.csv\")\n",
    "sp_500[\"weight\"] = sp_500[\"weight\"] / sp_500[\"weight\"].sum()"
   ]
  },
  {
   "cell_type": "code",
   "execution_count": 5,
   "id": "judicial-company",
   "metadata": {},
   "outputs": [],
   "source": [
    "# ==============\n",
    "# Filter by date\n",
    "# ==============\n",
    "START_DATE_FILTER = dtime(2005,  1,  1)\n",
    "END_DATE_FILTER   = dtime(2017, 12, 31)\n",
    "stock_prices_df   = stock_prices_df[\n",
    "    (stock_prices_df.date >= START_DATE_FILTER) &\n",
    "    (stock_prices_df.date <=   END_DATE_FILTER)\n",
    "]\n",
    "\n",
    "# ==============\n",
    "# Filter to only include tickers that are present throughout the entire date range\n",
    "# ~1926 tickers satisfy this criteria\n",
    "# ==============\n",
    "total_dates       = len(stock_prices_df.date.unique())\n",
    "stock_appearances = stock_prices_df.ticker.value_counts()\n",
    "filtered_stock    = pd.DataFrame(\n",
    "    data = {\"ticker\": stock_appearances[stock_appearances == total_dates].index}\n",
    ")\n",
    "\n",
    "stock_prices_df   = pd.merge(stock_prices_df, filtered_stock, on=\"ticker\", how=\"inner\")"
   ]
  },
  {
   "cell_type": "markdown",
   "id": "understanding-stuff",
   "metadata": {},
   "source": [
    "### Raw Prices & Percentage Returns Dataframes"
   ]
  },
  {
   "cell_type": "code",
   "execution_count": 6,
   "id": "closing-patent",
   "metadata": {},
   "outputs": [],
   "source": [
    "raw_prices  = stock_prices_df.pivot_table(index=\"date\", columns=[\"ticker\"], values=\"adj_close\")\n",
    "pct_returns = raw_prices.pct_change().dropna()"
   ]
  },
  {
   "cell_type": "code",
   "execution_count": 7,
   "id": "cloudy-translation",
   "metadata": {},
   "outputs": [],
   "source": [
    "pct_14d_returns = pct_returns.resample(\"14D\").sum()"
   ]
  },
  {
   "cell_type": "code",
   "execution_count": 8,
   "id": "minimal-finance",
   "metadata": {},
   "outputs": [],
   "source": [
    "universe_tickers = pct_returns.columns"
   ]
  },
  {
   "cell_type": "markdown",
   "id": "abstract-pavilion",
   "metadata": {},
   "source": [
    "### Cleaning and filtering into S&P500 stocks (~391 resulting tickers)"
   ]
  },
  {
   "cell_type": "code",
   "execution_count": 9,
   "id": "serious-purse",
   "metadata": {},
   "outputs": [],
   "source": [
    "# Additionally filter by stocks contained within the S&P500\n",
    "#\n",
    "# 391 tickers satisfy this criteria\n",
    "#\n",
    "#filtered_df = stock_prices_df.merge(sp_500, on=\"ticker\", how=\"inner\")\n",
    "#filtered_df = filtered_df.drop(\"weight\", axis=1)\n",
    "#filtered_df = filtered_df.pivot_table(index=\"date\", columns=[\"ticker\"], values=\"adj_close\")"
   ]
  },
  {
   "cell_type": "markdown",
   "id": "difficult-finland",
   "metadata": {},
   "source": [
    "### Calculate log performance"
   ]
  },
  {
   "cell_type": "code",
   "execution_count": 10,
   "id": "social-romance",
   "metadata": {},
   "outputs": [],
   "source": [
    "#stock_performances = {}\n",
    "#\n",
    "#for ticker in filtered_df.ticker.unique():\n",
    "#    temp                   = filtered_df[filtered_df.ticker == ticker]\n",
    "#    temp[\"ln_adj_close_1\"] = np.log(temp.adj_close)\n",
    "#    temp[\"ln_adj_close_2\"] = temp.ln_adj_close_1.shift(-1)\n",
    "#    temp[\"ln_return\"]      = temp.ln_adj_close_2 - temp.ln_adj_close_1\n",
    "#    temp                   = temp.drop([\"ln_adj_close_1\", \"ln_adj_close_2\"], axis=1)\n",
    "#    stock_performances[ticker] = temp"
   ]
  },
  {
   "cell_type": "code",
   "execution_count": 11,
   "id": "synthetic-occasions",
   "metadata": {},
   "outputs": [],
   "source": [
    "#final_df = pd.DataFrame()\n",
    "#\n",
    "#for k, v in stock_performances.items():\n",
    "#    final_df = final_df.append(v)\n",
    "#    \n",
    "#final_df = final_df.fillna(0)\n",
    "#final_df = final_df.set_index(\"date\")"
   ]
  },
  {
   "cell_type": "code",
   "execution_count": 12,
   "id": "norwegian-franchise",
   "metadata": {},
   "outputs": [],
   "source": [
    "#stock_ln_returns = final_df.pivot_table(index=\"date\", columns=\"ticker\", values=\"ln_return\")"
   ]
  },
  {
   "cell_type": "code",
   "execution_count": 13,
   "id": "roman-raising",
   "metadata": {},
   "outputs": [],
   "source": [
    "#ticker_order = stock_ln_returns.columns.tolist()"
   ]
  },
  {
   "cell_type": "markdown",
   "id": "identified-habitat",
   "metadata": {},
   "source": [
    "#### Statistical Calculations\n",
    "\n",
    "Calculate covariance matrix ($\\Sigma$) and inverse covariance matrix ($\\Sigma^{-1}$) on stock log returns\n",
    "\n",
    "Calculate volatility ($\\sigma$) on stock log returns"
   ]
  },
  {
   "cell_type": "code",
   "execution_count": 14,
   "id": "threaded-producer",
   "metadata": {},
   "outputs": [],
   "source": [
    "#def get_cov_ln_returns(tickers, start_date, end_date):\n",
    "#    tickers = list(set(stock_ln_returns.columns).intersection(tickers))\n",
    "#    \n",
    "#    return stock_ln_returns[tickers][(start_date <= stock_ln_returns.index) & \\\n",
    "#                            (stock_ln_returns.index <= end_date)].cov()\n",
    "#\n",
    "#def get_std_ln_returns(tickers, start_date, end_date):\n",
    "#    tickers = list(set(stock_ln_returns.columns).intersection(tickers))\n",
    "#    \n",
    "#    return stock_ln_returns[tickers][(start_date <= stock_ln_returns.index) & \\\n",
    "#                            (stock_ln_returns.index <= end_date)].std()\n",
    "\n",
    "def get_cov_pct_returns(tickers, start_date, end_date):\n",
    "    tickers  = list(set(pct_returns.columns).intersection(tickers))\n",
    "    filtered = pct_14d_returns[tickers][(start_date <= pct_14d_returns.index) & (pct_14d_returns.index <= end_date)]\n",
    "    \n",
    "    return (filtered - filtered.mean()).cov()\n",
    "\n",
    "def get_std_pct_returns(tickers, start_date, end_date):\n",
    "    tickers = list(set(pct_returns.columns).intersection(tickers))\n",
    "    \n",
    "    return pct_14d_returns[tickers][(start_date <= pct_14d_returns.index) & (pct_14d_returns.index <= end_date)].std()"
   ]
  },
  {
   "cell_type": "markdown",
   "id": "occupied-toddler",
   "metadata": {},
   "source": [
    "#### Maximum diversification weighting\n",
    "\n",
    "Goal: Create portfolios that have minimally correlated assets, lower risk levels, and possibly higher returns.\n",
    "\n",
    "(Introduced by Choueifaty and Coignard, 2008 and Pemberton & Rau, 2007)\n",
    "\n",
    "The objective is to find the weight $w$ that maximizes the following:\n",
    "\n",
    "$\n",
    "\\max_w \\frac{w^T a}{\\sqrt{w^T \\Sigma w }}\n",
    "$\n",
    "\n",
    "We obtain the following short-selling allowed analytical solution:\n",
    "\n",
    "$\n",
    "w_{MD} = \\frac{\\Sigma^{-1} \\sigma}{\\sigma^T \\Sigma^{-1} \\sigma}\n",
    "$\n",
    "\n",
    "When restricting the weights to $w \\geq 0$, we must use a more complex means to solve the original convex optimization problem:\n",
    "\n",
    "$\n",
    "\\max_w \\frac{1}{2} w^T \\Sigma w\n",
    "$\n",
    "\n",
    "s.t.\n",
    "$\n",
    "w^T \\sigma = 1 \\newline\n",
    "w   \\geq 0\n",
    "$"
   ]
  },
  {
   "cell_type": "code",
   "execution_count": 15,
   "id": "revolutionary-persian",
   "metadata": {},
   "outputs": [],
   "source": [
    "w           = cp.Variable(3)\n",
    "cov_mat     = np.random.rand(3, 3)\n",
    "cov_mat     = cov_mat.T @ cov_mat\n",
    "vol         = np.random.rand(3)\n",
    "\n",
    "objective   = cp.Minimize(cp.quad_form(w, cov_mat))\n",
    "constraints = [w.T @ vol == 1, w >= 0]\n",
    "problem     = cp.Problem(objective, constraints)\n",
    "problem.solve()\n",
    "\n",
    "weights     = w.value"
   ]
  },
  {
   "cell_type": "markdown",
   "id": "requested-attraction",
   "metadata": {},
   "source": [
    "### Measuring Performance"
   ]
  },
  {
   "cell_type": "code",
   "execution_count": 16,
   "id": "concerned-response",
   "metadata": {},
   "outputs": [],
   "source": [
    "def get_uniform_weights(tickers, start_date, end_date):\n",
    "    date_range = pd.date_range(start_date, end_date)\n",
    "    N          = len(tickers)\n",
    "    \n",
    "    ret_df = pd.DataFrame(\n",
    "        index   = date_range,\n",
    "        columns = tickers,\n",
    "        data    = np.full((len(date_range), N), 1/N)\n",
    "    )\n",
    "    \n",
    "    ret_df.index.name = \"date\"\n",
    "    \n",
    "    return ret_df\n",
    "\n",
    "def get_market_cap_weights(start_date, end_date):\n",
    "    date_range     = pd.date_range(start_date, end_date)\n",
    "    ticker_weights = sp_500.pivot_table(columns=\"ticker\", values=\"weight\")\n",
    "    tickers        = list(set(sp_500.ticker).intersection(set(pct_returns.columns)))\n",
    "    weight_vec     = ticker_weights[tickers].values[0]\n",
    "    shape          = (len(date_range), len(tickers))\n",
    "    \n",
    "    ret_df = pd.DataFrame(\n",
    "        index   = date_range,\n",
    "        columns = tickers,\n",
    "        data    = np.tile(weight_vec, len(date_range)).reshape(shape)\n",
    "    )\n",
    "    \n",
    "    ret_df.index.name = \"date\"\n",
    "    \n",
    "    return ret_df\n",
    "\n",
    "def get_max_diverse_weights(tickers, start_date, end_date, rebalance_days):\n",
    "    date_range  = pd.date_range(start_date, end_date)\n",
    "    \n",
    "    ret_df      = pd.DataFrame(\n",
    "        index   = date_range,\n",
    "        columns = tickers\n",
    "    )\n",
    "    \n",
    "    # pct_returns_cov     = None\n",
    "    # pct_returns_cov_inv = None\n",
    "    # pct_returns_vol     = None\n",
    "    max_diverse_weight  = None\n",
    "    \n",
    "    rebalance = False\n",
    "    \n",
    "    for date in date_range:\n",
    "        \n",
    "        if (date - start_date).days % rebalance_days == 0:\n",
    "            pct_returns_cov     = get_cov_pct_returns(tickers, date + tdelta(days = -365), \n",
    "                                                      date + tdelta(days = -1)).values\n",
    "            \n",
    "            pct_returns_cov_inv = np.linalg.inv(pct_returns_cov)\n",
    "            \n",
    "            pct_returns_vol     = get_std_pct_returns(tickers, date + tdelta(days = -365), \n",
    "                                                      date + tdelta(days = -1)).values\n",
    "            \n",
    "            max_diverse_weight  = (pct_returns_cov_inv @ pct_returns_vol) / \\\n",
    "                                    (pct_returns_vol.T @ pct_returns_cov_inv @ pct_returns_vol)\n",
    "\n",
    "        else: # No need to rebalance, just use previously calculated weights\n",
    "            norm_factor         = np.sum(max_diverse_weight)\n",
    "            max_diverse_weight  = max_diverse_weight / norm_factor\n",
    "            ret_df.loc[date]    = max_diverse_weight\n",
    "        \n",
    "    return ret_df.dropna()\n",
    "\n",
    "def get_max_diverse_long_only_weights(tickers, start_date, end_date, rebalance_days):\n",
    "    date_range  = pd.date_range(start_date, end_date)\n",
    "    \n",
    "    ret_df      = pd.DataFrame(\n",
    "        index   = date_range,\n",
    "        columns = tickers\n",
    "    )\n",
    "    \n",
    "    # Get weights from the respective convex optimization problem\n",
    "    # min  w^T \\Sigma w\n",
    "    # s.t. w^T \\sigma  = 1\n",
    "    #      w          >= 0\n",
    "    def get_weights(vol, cov_mat):\n",
    "        w           = cp.Variable(len(vol))\n",
    "        objective   = cp.Minimize(cp.quad_form(w, cov_mat))\n",
    "        constraints = [w.T @ vol == 1, w >= 0]\n",
    "        problem     = cp.Problem(objective, constraints)\n",
    "        problem.solve()\n",
    "        return w.value\n",
    "    \n",
    "    max_diverse_weight = None\n",
    "    \n",
    "    for date in date_range:\n",
    "        \n",
    "        if (date - start_date).days % rebalance_days == 0:\n",
    "            pct_returns_cov     = get_cov_pct_returns(tickers, date + tdelta(days = -365), \n",
    "                                                      date + tdelta(days = -1)).values\n",
    "            \n",
    "            pct_returns_vol     = get_std_pct_returns(tickers, date + tdelta(days = -365),\n",
    "                                                      date + tdelta(days = -1)).values\n",
    "            \n",
    "            # Solve the convex optimization problem each time\n",
    "            max_diverse_weight  = get_weights(pct_returns_vol, pct_returns_cov)\n",
    "            \n",
    "        else: # No need to rebalance, just use previously calculated weights\n",
    "            norm_factor         = np.sum(max_diverse_weight)\n",
    "            max_diverse_weight  = max_diverse_weight / norm_factor\n",
    "            ret_df.loc[date]    = max_diverse_weight\n",
    "            \n",
    "    return ret_df.dropna()"
   ]
  },
  {
   "cell_type": "code",
   "execution_count": 17,
   "id": "massive-gateway",
   "metadata": {},
   "outputs": [],
   "source": [
    "# Input arguments\n",
    "# ===============\n",
    "# weight_function: *Function* with the following (possibly optional) inputs:\n",
    "#                     - current stocks / tickers\n",
    "#                     - datetime\n",
    "#                  and outputs a *Dictionary* of weights corresponding to the allocation at that time\n",
    "# start_date:      When to start the allocation strategy\n",
    "# end_date:        When to end the allocation strategy\n",
    "#\n",
    "# Returns an np.array of wealth for the dates falling within the start_date and end_date \n",
    "def execute_strategy(df, weight_function, start_date, end_date):\n",
    "    date_range = pd.date_range(start_date, end_date)\n",
    "    \n",
    "    valid_dates, log_perfs = np.array([]), np.array([])\n",
    "    \n",
    "    for date_time in date_range:\n",
    "        \n",
    "        # May be the case on a weekend, holiday, or other non-trading data\n",
    "        if date_time not in df.index: \n",
    "            continue\n",
    "            \n",
    "        valid_dates = np.append(valid_dates, date_time)\n",
    "            \n",
    "        # Dynamic calculation of weights\n",
    "        tickers     = np.array(df.loc[date_time].ticker)\n",
    "        weights     = weight_function(tickers = tickers, date_time = date_time)\n",
    "        weight_df   = pd.DataFrame(data = weights).set_index(\"ticker\")\n",
    "        \n",
    "        current_day_df = df.loc[date_time]\n",
    "        current_day_df = pd.merge(current_day_df, weight_df, how='left', on='ticker')\n",
    "\n",
    "        log_perf    = np.sum(current_day_df.weight * current_day_df.ln_return)\n",
    "        log_perfs   = np.append(log_perfs, log_perf)\n",
    "            \n",
    "    return valid_dates, log_perfs\n",
    "\n",
    "def execute_strategy_v2(weights):\n",
    "    daily_portfolio_returns = (pct_returns[weights.columns] * weights).dropna().sum(axis=1)\n",
    "    daily_portfolio_returns += 1\n",
    "    return daily_portfolio_returns, np.cumprod(daily_portfolio_returns)"
   ]
  },
  {
   "cell_type": "markdown",
   "id": "downtown-jacob",
   "metadata": {},
   "source": [
    "### Uniform Weighting"
   ]
  },
  {
   "cell_type": "code",
   "execution_count": 18,
   "id": "primary-agenda",
   "metadata": {},
   "outputs": [],
   "source": [
    "unif_weights   = get_uniform_weights(\n",
    "    tickers    = universe_tickers,\n",
    "    start_date = dtime(2007, 1, 1), \n",
    "    end_date   = dtime(2017, 12, 31)\n",
    ")\n",
    "\n",
    "unif_daily_perf, unif_cumulative_perf = execute_strategy_v2(unif_weights)"
   ]
  },
  {
   "cell_type": "markdown",
   "id": "blessed-receptor",
   "metadata": {},
   "source": [
    "### SP&500 Weighting"
   ]
  },
  {
   "cell_type": "code",
   "execution_count": 97,
   "id": "warming-manchester",
   "metadata": {},
   "outputs": [],
   "source": [
    "sp500_weights  = get_market_cap_weights(\n",
    "    start_date = dtime(2007, 1, 1),\n",
    "    end_date   = dtime(2017, 12, 31)\n",
    ")\n",
    "\n",
    "sp500_daily_perf, sp500_cumulative_perf = execute_strategy_v2(sp500_weights)"
   ]
  },
  {
   "cell_type": "markdown",
   "id": "official-henry",
   "metadata": {},
   "source": [
    "### Maximum Diversification (Short-selling Allowed) Weighting\n",
    "\n",
    "Using past 365 day (252 trading days) data."
   ]
  },
  {
   "cell_type": "code",
   "execution_count": 460,
   "id": "continued-generation",
   "metadata": {},
   "outputs": [
    {
     "ename": "ValueError",
     "evalue": "could not broadcast input array from shape (10) into shape (15)",
     "output_type": "error",
     "traceback": [
      "\u001b[0;31m---------------------------------------------------------------------------\u001b[0m",
      "\u001b[0;31mValueError\u001b[0m                                Traceback (most recent call last)",
      "\u001b[0;32m<ipython-input-460-8c73a1b7399f>\u001b[0m in \u001b[0;36m<module>\u001b[0;34m()\u001b[0m\n\u001b[1;32m      3\u001b[0m     \u001b[0mstart_date\u001b[0m     \u001b[0;34m=\u001b[0m \u001b[0mdtime\u001b[0m\u001b[0;34m(\u001b[0m\u001b[0;36m2007\u001b[0m\u001b[0;34m,\u001b[0m \u001b[0;36m1\u001b[0m\u001b[0;34m,\u001b[0m \u001b[0;36m1\u001b[0m\u001b[0;34m)\u001b[0m\u001b[0;34m,\u001b[0m\u001b[0;34m\u001b[0m\u001b[0m\n\u001b[1;32m      4\u001b[0m     \u001b[0mend_date\u001b[0m       \u001b[0;34m=\u001b[0m \u001b[0mdtime\u001b[0m\u001b[0;34m(\u001b[0m\u001b[0;36m2017\u001b[0m\u001b[0;34m,\u001b[0m \u001b[0;36m12\u001b[0m\u001b[0;34m,\u001b[0m \u001b[0;36m31\u001b[0m\u001b[0;34m)\u001b[0m\u001b[0;34m,\u001b[0m\u001b[0;34m\u001b[0m\u001b[0m\n\u001b[0;32m----> 5\u001b[0;31m     \u001b[0mrebalance_days\u001b[0m \u001b[0;34m=\u001b[0m \u001b[0;36m90\u001b[0m \u001b[0;31m# Rebalance every month\u001b[0m\u001b[0;34m\u001b[0m\u001b[0m\n\u001b[0m\u001b[1;32m      6\u001b[0m )\n\u001b[1;32m      7\u001b[0m \u001b[0;34m\u001b[0m\u001b[0m\n",
      "\u001b[0;32m<ipython-input-18-812a82dcdeac>\u001b[0m in \u001b[0;36mget_max_diverse_weights\u001b[0;34m(tickers, start_date, end_date, rebalance_days)\u001b[0m\n\u001b[1;32m     61\u001b[0m             \u001b[0mnorm_factor\u001b[0m         \u001b[0;34m=\u001b[0m \u001b[0mnp\u001b[0m\u001b[0;34m.\u001b[0m\u001b[0msum\u001b[0m\u001b[0;34m(\u001b[0m\u001b[0mmax_diverse_weight\u001b[0m\u001b[0;34m)\u001b[0m\u001b[0;34m\u001b[0m\u001b[0m\n\u001b[1;32m     62\u001b[0m             \u001b[0mmax_diverse_weight\u001b[0m  \u001b[0;34m=\u001b[0m \u001b[0mmax_diverse_weight\u001b[0m \u001b[0;34m/\u001b[0m \u001b[0mnorm_factor\u001b[0m\u001b[0;34m\u001b[0m\u001b[0m\n\u001b[0;32m---> 63\u001b[0;31m             \u001b[0mret_df\u001b[0m\u001b[0;34m.\u001b[0m\u001b[0mloc\u001b[0m\u001b[0;34m[\u001b[0m\u001b[0mdate\u001b[0m\u001b[0;34m]\u001b[0m    \u001b[0;34m=\u001b[0m \u001b[0mmax_diverse_weight\u001b[0m\u001b[0;34m\u001b[0m\u001b[0m\n\u001b[0m\u001b[1;32m     64\u001b[0m \u001b[0;34m\u001b[0m\u001b[0m\n\u001b[1;32m     65\u001b[0m     \u001b[0;32mreturn\u001b[0m \u001b[0mret_df\u001b[0m\u001b[0;34m.\u001b[0m\u001b[0mdropna\u001b[0m\u001b[0;34m(\u001b[0m\u001b[0;34m)\u001b[0m\u001b[0;34m\u001b[0m\u001b[0m\n",
      "\u001b[0;32m~/anaconda3/lib/python3.6/site-packages/pandas/core/indexing.py\u001b[0m in \u001b[0;36m__setitem__\u001b[0;34m(self, key, value)\u001b[0m\n\u001b[1;32m    668\u001b[0m \u001b[0;34m\u001b[0m\u001b[0m\n\u001b[1;32m    669\u001b[0m         \u001b[0miloc\u001b[0m \u001b[0;34m=\u001b[0m \u001b[0mself\u001b[0m \u001b[0;32mif\u001b[0m \u001b[0mself\u001b[0m\u001b[0;34m.\u001b[0m\u001b[0mname\u001b[0m \u001b[0;34m==\u001b[0m \u001b[0;34m\"iloc\"\u001b[0m \u001b[0;32melse\u001b[0m \u001b[0mself\u001b[0m\u001b[0;34m.\u001b[0m\u001b[0mobj\u001b[0m\u001b[0;34m.\u001b[0m\u001b[0miloc\u001b[0m\u001b[0;34m\u001b[0m\u001b[0m\n\u001b[0;32m--> 670\u001b[0;31m         \u001b[0miloc\u001b[0m\u001b[0;34m.\u001b[0m\u001b[0m_setitem_with_indexer\u001b[0m\u001b[0;34m(\u001b[0m\u001b[0mindexer\u001b[0m\u001b[0;34m,\u001b[0m \u001b[0mvalue\u001b[0m\u001b[0;34m)\u001b[0m\u001b[0;34m\u001b[0m\u001b[0m\n\u001b[0m\u001b[1;32m    671\u001b[0m \u001b[0;34m\u001b[0m\u001b[0m\n\u001b[1;32m    672\u001b[0m     \u001b[0;32mdef\u001b[0m \u001b[0m_validate_key\u001b[0m\u001b[0;34m(\u001b[0m\u001b[0mself\u001b[0m\u001b[0;34m,\u001b[0m \u001b[0mkey\u001b[0m\u001b[0;34m,\u001b[0m \u001b[0maxis\u001b[0m\u001b[0;34m:\u001b[0m \u001b[0mint\u001b[0m\u001b[0;34m)\u001b[0m\u001b[0;34m:\u001b[0m\u001b[0;34m\u001b[0m\u001b[0m\n",
      "\u001b[0;32m~/anaconda3/lib/python3.6/site-packages/pandas/core/indexing.py\u001b[0m in \u001b[0;36m_setitem_with_indexer\u001b[0;34m(self, indexer, value)\u001b[0m\n\u001b[1;32m   1800\u001b[0m             \u001b[0;31m# actually do the set\u001b[0m\u001b[0;34m\u001b[0m\u001b[0;34m\u001b[0m\u001b[0m\n\u001b[1;32m   1801\u001b[0m             \u001b[0mself\u001b[0m\u001b[0;34m.\u001b[0m\u001b[0mobj\u001b[0m\u001b[0;34m.\u001b[0m\u001b[0m_consolidate_inplace\u001b[0m\u001b[0;34m(\u001b[0m\u001b[0;34m)\u001b[0m\u001b[0;34m\u001b[0m\u001b[0m\n\u001b[0;32m-> 1802\u001b[0;31m             \u001b[0mself\u001b[0m\u001b[0;34m.\u001b[0m\u001b[0mobj\u001b[0m\u001b[0;34m.\u001b[0m\u001b[0m_mgr\u001b[0m \u001b[0;34m=\u001b[0m \u001b[0mself\u001b[0m\u001b[0;34m.\u001b[0m\u001b[0mobj\u001b[0m\u001b[0;34m.\u001b[0m\u001b[0m_mgr\u001b[0m\u001b[0;34m.\u001b[0m\u001b[0msetitem\u001b[0m\u001b[0;34m(\u001b[0m\u001b[0mindexer\u001b[0m\u001b[0;34m=\u001b[0m\u001b[0mindexer\u001b[0m\u001b[0;34m,\u001b[0m \u001b[0mvalue\u001b[0m\u001b[0;34m=\u001b[0m\u001b[0mvalue\u001b[0m\u001b[0;34m)\u001b[0m\u001b[0;34m\u001b[0m\u001b[0m\n\u001b[0m\u001b[1;32m   1803\u001b[0m             \u001b[0mself\u001b[0m\u001b[0;34m.\u001b[0m\u001b[0mobj\u001b[0m\u001b[0;34m.\u001b[0m\u001b[0m_maybe_update_cacher\u001b[0m\u001b[0;34m(\u001b[0m\u001b[0mclear\u001b[0m\u001b[0;34m=\u001b[0m\u001b[0;32mTrue\u001b[0m\u001b[0;34m)\u001b[0m\u001b[0;34m\u001b[0m\u001b[0m\n\u001b[1;32m   1804\u001b[0m \u001b[0;34m\u001b[0m\u001b[0m\n",
      "\u001b[0;32m~/anaconda3/lib/python3.6/site-packages/pandas/core/internals/managers.py\u001b[0m in \u001b[0;36msetitem\u001b[0;34m(self, indexer, value)\u001b[0m\n\u001b[1;32m    522\u001b[0m \u001b[0;34m\u001b[0m\u001b[0m\n\u001b[1;32m    523\u001b[0m     \u001b[0;32mdef\u001b[0m \u001b[0msetitem\u001b[0m\u001b[0;34m(\u001b[0m\u001b[0mself\u001b[0m\u001b[0;34m,\u001b[0m \u001b[0mindexer\u001b[0m\u001b[0;34m,\u001b[0m \u001b[0mvalue\u001b[0m\u001b[0;34m)\u001b[0m \u001b[0;34m->\u001b[0m \u001b[0;34m\"BlockManager\"\u001b[0m\u001b[0;34m:\u001b[0m\u001b[0;34m\u001b[0m\u001b[0m\n\u001b[0;32m--> 524\u001b[0;31m         \u001b[0;32mreturn\u001b[0m \u001b[0mself\u001b[0m\u001b[0;34m.\u001b[0m\u001b[0mapply\u001b[0m\u001b[0;34m(\u001b[0m\u001b[0;34m\"setitem\"\u001b[0m\u001b[0;34m,\u001b[0m \u001b[0mindexer\u001b[0m\u001b[0;34m=\u001b[0m\u001b[0mindexer\u001b[0m\u001b[0;34m,\u001b[0m \u001b[0mvalue\u001b[0m\u001b[0;34m=\u001b[0m\u001b[0mvalue\u001b[0m\u001b[0;34m)\u001b[0m\u001b[0;34m\u001b[0m\u001b[0m\n\u001b[0m\u001b[1;32m    525\u001b[0m \u001b[0;34m\u001b[0m\u001b[0m\n\u001b[1;32m    526\u001b[0m     def putmask(\n",
      "\u001b[0;32m~/anaconda3/lib/python3.6/site-packages/pandas/core/internals/managers.py\u001b[0m in \u001b[0;36mapply\u001b[0;34m(self, f, align_keys, **kwargs)\u001b[0m\n\u001b[1;32m    394\u001b[0m                 \u001b[0mapplied\u001b[0m \u001b[0;34m=\u001b[0m \u001b[0mb\u001b[0m\u001b[0;34m.\u001b[0m\u001b[0mapply\u001b[0m\u001b[0;34m(\u001b[0m\u001b[0mf\u001b[0m\u001b[0;34m,\u001b[0m \u001b[0;34m**\u001b[0m\u001b[0mkwargs\u001b[0m\u001b[0;34m)\u001b[0m\u001b[0;34m\u001b[0m\u001b[0m\n\u001b[1;32m    395\u001b[0m             \u001b[0;32melse\u001b[0m\u001b[0;34m:\u001b[0m\u001b[0;34m\u001b[0m\u001b[0m\n\u001b[0;32m--> 396\u001b[0;31m                 \u001b[0mapplied\u001b[0m \u001b[0;34m=\u001b[0m \u001b[0mgetattr\u001b[0m\u001b[0;34m(\u001b[0m\u001b[0mb\u001b[0m\u001b[0;34m,\u001b[0m \u001b[0mf\u001b[0m\u001b[0;34m)\u001b[0m\u001b[0;34m(\u001b[0m\u001b[0;34m**\u001b[0m\u001b[0mkwargs\u001b[0m\u001b[0;34m)\u001b[0m\u001b[0;34m\u001b[0m\u001b[0m\n\u001b[0m\u001b[1;32m    397\u001b[0m             \u001b[0mresult_blocks\u001b[0m \u001b[0;34m=\u001b[0m \u001b[0m_extend_blocks\u001b[0m\u001b[0;34m(\u001b[0m\u001b[0mapplied\u001b[0m\u001b[0;34m,\u001b[0m \u001b[0mresult_blocks\u001b[0m\u001b[0;34m)\u001b[0m\u001b[0;34m\u001b[0m\u001b[0m\n\u001b[1;32m    398\u001b[0m \u001b[0;34m\u001b[0m\u001b[0m\n",
      "\u001b[0;32m~/anaconda3/lib/python3.6/site-packages/pandas/core/internals/blocks.py\u001b[0m in \u001b[0;36msetitem\u001b[0;34m(self, indexer, value)\u001b[0m\n\u001b[1;32m    884\u001b[0m         \u001b[0;31m# set\u001b[0m\u001b[0;34m\u001b[0m\u001b[0;34m\u001b[0m\u001b[0m\n\u001b[1;32m    885\u001b[0m         \u001b[0;32melse\u001b[0m\u001b[0;34m:\u001b[0m\u001b[0;34m\u001b[0m\u001b[0m\n\u001b[0;32m--> 886\u001b[0;31m             \u001b[0mvalues\u001b[0m\u001b[0;34m[\u001b[0m\u001b[0mindexer\u001b[0m\u001b[0;34m]\u001b[0m \u001b[0;34m=\u001b[0m \u001b[0mvalue\u001b[0m\u001b[0;34m\u001b[0m\u001b[0m\n\u001b[0m\u001b[1;32m    887\u001b[0m \u001b[0;34m\u001b[0m\u001b[0m\n\u001b[1;32m    888\u001b[0m         \u001b[0;32mif\u001b[0m \u001b[0mtranspose\u001b[0m\u001b[0;34m:\u001b[0m\u001b[0;34m\u001b[0m\u001b[0m\n",
      "\u001b[0;31mValueError\u001b[0m: could not broadcast input array from shape (10) into shape (15)"
     ]
    }
   ],
   "source": [
    "max_diverse_weights = get_max_diverse_weights(\n",
    "    tickers        = sp_500.ticker[-15:],\n",
    "    start_date     = dtime(2007, 1, 1),\n",
    "    end_date       = dtime(2017, 12, 31),\n",
    "    rebalance_days = 90 # Rebalance every month\n",
    ")\n",
    "\n",
    "max_diverse_daily_perf, max_diverse_cumulative_perf = execute_strategy_v2(max_diverse_weights)"
   ]
  },
  {
   "cell_type": "code",
   "execution_count": 57,
   "id": "fifth-latitude",
   "metadata": {},
   "outputs": [
    {
     "data": {
      "image/png": "[encoded data removed]",
      "text/plain": [
       "<Figure size 432x288 with 1 Axes>"
      ]
     },
     "metadata": {
      "needs_background": "light"
     },
     "output_type": "display_data"
    }
   ],
   "source": [
    "# Extreme short positions taken\n",
    "\n",
    "plt.plot(max_diverse_cumulative_perf)\n",
    "plt.show()"
   ]
  },
  {
   "cell_type": "markdown",
   "id": "cordless-silly",
   "metadata": {},
   "source": [
    "### Max Diversification (Long-only) Weighting"
   ]
  },
  {
   "cell_type": "code",
   "execution_count": 102,
   "id": "enhanced-slovenia",
   "metadata": {},
   "outputs": [
    {
     "name": "stderr",
     "output_type": "stream",
     "text": [
      "c:\\users\\luoje\\appdata\\local\\programs\\python\\python36\\lib\\site-packages\\cvxpy\\problems\\problem.py:1268: UserWarning: Solution may be inaccurate. Try another solver, adjusting the solver settings, or solve with verbose=True for more information.\n",
      "  \"Solution may be inaccurate. Try another solver, \"\n"
     ]
    }
   ],
   "source": [
    "max_diverse_long_only_weights = get_max_diverse_long_only_weights(\n",
    "    tickers        = universe_tickers,\n",
    "    start_date     = dtime(2007, 1, 1),\n",
    "    end_date       = dtime(2017, 12, 31),\n",
    "    rebalance_days = 365 # Rebalance every year\n",
    ")\n",
    "\n",
    "max_diverse_long_only_daily_perf, max_diverse_long_only_cumulative_perf = \\\n",
    "    execute_strategy_v2(max_diverse_long_only_weights)"
   ]
  },
  {
   "cell_type": "markdown",
   "id": "exposed-rendering",
   "metadata": {},
   "source": [
    "### Factor Model Weighting"
   ]
  },
  {
   "cell_type": "code",
   "execution_count": 212,
   "id": "framed-committee",
   "metadata": {},
   "outputs": [],
   "source": [
    "def get_factor_analysis_weights(tickers, start_date, end_date, rebalance_days, num_factors: int = 6):\n",
    "    date_range = pd.date_range(start_date, end_date)\n",
    "    tickers    = list(set(universe_tickers).intersection(set(tickers)))\n",
    "    ret_df     = pd.DataFrame(index = date_range, columns = tickers)\n",
    "    fa_weight  = None\n",
    "    \n",
    "    filtered_pct_returns = pct_returns[tickers]\n",
    "    \n",
    "    for date in date_range:\n",
    "        if (date - start_date).days % rebalance_days == 0:\n",
    "            \n",
    "            pca = PCA(n_components = num_factors)\n",
    "            pca.fit(filtered_pct_returns[:date + tdelta(days=-1)])\n",
    "#             print(filtered_pct_returns[:date].shape)\n",
    "\n",
    "            # Each column vector / eigenvector is a factor loading\n",
    "            eigenvecs         = pca.components_.T\n",
    "            factor_loadings   = pca.components_.T\n",
    "\n",
    "            # Apply dimensionality reduction\n",
    "            factor_returns = pca.fit_transform(filtered_pct_returns[:date + tdelta(days=-1)])\n",
    "            cov_factor     = np.cov(np.transpose(factor_returns))\n",
    "            mu             = pca.mean_\n",
    "\n",
    "            # Constructing the matrix D\n",
    "            reconstructed_returns = factor_returns @ factor_loadings.T + mu.T\n",
    "            unexplained_returns   = filtered_pct_returns[:date + tdelta(days=-1)] - reconstructed_returns\n",
    "            unexplained_variance  = np.diag(np.cov(unexplained_returns.T))\n",
    "            D                     = np.diag(unexplained_variance)\n",
    "\n",
    "            w  = cp.Variable(len(filtered_pct_returns.columns)) # weight\n",
    "            fw = cp.Variable(num_factors) # factor weight\n",
    "            e  = np.ones(len(filtered_pct_returns.columns))\n",
    "\n",
    "            target_risk = 0.0001\n",
    "            \n",
    "#             print(mu.shape, w.shape, fw.shape, cov_factor.shape, D.shape, factor_loadings.shape, e.shape)\n",
    "#             print(factor_returns.shape)\n",
    "\n",
    "            # Solve convex optimization problem \n",
    "            # =================================\n",
    "            # Details here: https://www.mathworks.com/help/finance/portfolio-optimization-using-factor-models.html\n",
    "            objective   = cp.Maximize(mu.T @ w)\n",
    "            constraints = [\n",
    "                cp.quad_form(fw, cov_factor) + cp.quad_form(w, D) <= target_risk,\n",
    "                w.T @ e == 1,\n",
    "                factor_loadings.T @ w == fw,\n",
    "                w >= 0,\n",
    "            ]\n",
    "\n",
    "            prob = cp.Problem(objective, constraints)\n",
    "            prob.solve()\n",
    "            \n",
    "            # Recalibrate weight on rebalance day\n",
    "            fa_weight = w.value\n",
    "        \n",
    "        else: # No need to rebalance, just use previously calculated weights\n",
    "            ret_df.loc[date] = fa_weight\n",
    "            \n",
    "    return ret_df.dropna()"
   ]
  },
  {
   "cell_type": "code",
   "execution_count": 213,
   "id": "unlike-pakistan",
   "metadata": {
    "scrolled": true
   },
   "outputs": [
    {
     "name": "stdout",
     "output_type": "stream",
     "text": [
      "(502, 6)\n",
      "(563, 6)\n",
      "(626, 6)\n",
      "(688, 6)\n",
      "(750, 6)\n",
      "(810, 6)\n",
      "(873, 6)\n",
      "(935, 6)\n",
      "(999, 6)\n",
      "(1060, 6)\n",
      "(1122, 6)\n",
      "(1184, 6)\n",
      "(1247, 6)\n",
      "(1307, 6)\n",
      "(1369, 6)\n",
      "(1432, 6)\n",
      "(1496, 6)\n",
      "(1557, 6)\n",
      "(1619, 6)\n",
      "(1681, 6)\n",
      "(1744, 6)\n",
      "(1804, 6)\n",
      "(1867, 6)\n",
      "(1931, 6)\n",
      "(1991, 6)\n",
      "(2051, 6)\n",
      "(2113, 6)\n",
      "(2176, 6)\n",
      "(2239, 6)\n",
      "(2299, 6)\n",
      "(2363, 6)\n",
      "(2425, 6)\n",
      "(2488, 6)\n",
      "(2547, 6)\n",
      "(2610, 6)\n",
      "(2672, 6)\n",
      "(2736, 6)\n",
      "(2797, 6)\n",
      "(2859, 6)\n",
      "(2921, 6)\n",
      "(2984, 6)\n",
      "(3044, 6)\n",
      "(3106, 6)\n",
      "(3169, 6)\n",
      "(3233, 6)\n"
     ]
    }
   ],
   "source": [
    "fa_weights = get_factor_analysis_weights(\n",
    "    tickers        = list(sp_500.ticker[:20]),\n",
    "    start_date     = dtime(2007, 1, 1),\n",
    "    end_date       = dtime(2017, 12, 31),\n",
    "    rebalance_days = 90 # Rebalance every quarter\n",
    ")\n",
    "\n",
    "fa_daily_perf, fa_cumulative_perf = execute_strategy_v2(fa_weights)"
   ]
  },
  {
   "cell_type": "markdown",
   "id": "seven-tunnel",
   "metadata": {},
   "source": [
    "### Fama French"
   ]
  },
  {
   "cell_type": "code",
   "execution_count": 19,
   "id": "macro-island",
   "metadata": {},
   "outputs": [],
   "source": [
    "def get_fama_weights(tickers, start_date, end_date, rebalance_days):\n",
    "    date_range = pd.date_range(start_date, end_date)\n",
    "    tickers    = list(set(universe_tickers).intersection(set(tickers)))\n",
    "    ret_df     = pd.DataFrame(index = date_range, columns = tickers)\n",
    "    fa_weight  = None\n",
    "    \n",
    "    filtered_pct_returns = pct_returns[tickers]\n",
    "    \n",
    "    stock_prices_df_wide = stock_prices_df.pivot(index='date', columns='ticker', values='adj_close').loc[:, tickers]\n",
    "    \n",
    "    num_factors = 6\n",
    "    \n",
    "    df_ff = fama_french[['Mkt-RF', 'SMB', 'HML', 'RMW', 'CMA']] / 100\n",
    "    df_ff = df_ff.resample('D').mean().ffill()\n",
    "    df_ff.index = df_ff.index.astype('datetime64[ns]')\n",
    "    df_ff = df_ff.loc[stock_prices_df_wide.index]\n",
    "    df_ff['const'] = 1.0 # adds constant term\n",
    "    \n",
    "    for date in date_range:\n",
    "        if (date - start_date).days % rebalance_days == 0:\n",
    "            \n",
    "            # lag the historical data to prevent lookahead\n",
    "            curr_df_ff = df_ff[:date + tdelta(days=-1)]\n",
    "            curr_stock_prices_df_wide = stock_prices_df_wide[:date + tdelta(days=-1)]\n",
    "            curr_filtered_pct_returns = filtered_pct_returns[:date + tdelta(days=-1)]\n",
    "            \n",
    "    \n",
    "            beta = pd.DataFrame()             # finds the factor exposures to \n",
    "            for sym in curr_stock_prices_df_wide.columns:\n",
    "                model = sm.OLS(curr_stock_prices_df_wide[sym], curr_df_ff)\n",
    "                results = model.fit()\n",
    "                beta = pd.concat([beta, pd.DataFrame([results.params], index=[sym])])\n",
    "            \n",
    "            # invest in stocks with more than 2 positive exposures to the fama french\n",
    "            w = (((beta.iloc[:, :5] > 0).sum(axis=1)) > 2)\n",
    "            w *= (1 / w.sum())\n",
    "        \n",
    "        else: # No need to rebalance, just use previously calculated weights\n",
    "            ret_df.loc[date] = w\n",
    "            \n",
    "    return ret_df#.dropna()"
   ]
  },
  {
   "cell_type": "code",
   "execution_count": null,
   "id": "gentle-freedom",
   "metadata": {},
   "outputs": [],
   "source": []
  },
  {
   "cell_type": "code",
   "execution_count": 299,
   "id": "rapid-trail",
   "metadata": {
    "scrolled": true
   },
   "outputs": [],
   "source": [
    "fama_weights = get_fama_weights(\n",
    "    tickers        = list(sp_500.ticker[:100]),\n",
    "    start_date     = dtime(2007, 1, 1),\n",
    "    end_date       = dtime(2017, 12, 31),\n",
    "    rebalance_days = 180 # Rebalance every quarter\n",
    ")\n",
    "\n",
    "fama_daily_perf, fama_cumulative_perf = execute_strategy_v2(fama_weights)"
   ]
  },
  {
   "cell_type": "markdown",
   "id": "reliable-polymer",
   "metadata": {},
   "source": [
    "### Momentum"
   ]
  },
  {
   "cell_type": "code",
   "execution_count": 20,
   "id": "ignored-identification",
   "metadata": {},
   "outputs": [],
   "source": [
    "# stock_prices_df_wide = stock_prices_df.pivot(index='date', columns='ticker', values='adj_close').iloc[:,-105:]\n",
    "stock_prices_df_wide = raw_prices"
   ]
  },
  {
   "cell_type": "markdown",
   "id": "worldwide-saver",
   "metadata": {},
   "source": [
    "#### MACD"
   ]
  },
  {
   "cell_type": "code",
   "execution_count": 21,
   "id": "statutory-morocco",
   "metadata": {},
   "outputs": [],
   "source": [
    "# shift 1 to prevent seeing future information\n",
    "\n",
    "ema12 = stock_prices_df_wide.ewm(span=12, adjust=False).mean()\n",
    "ema26 = stock_prices_df_wide.ewm(span=26, adjust=False).mean()\n",
    "macd = ema12 - ema26\n",
    "signal_line = macd.ewm(span=9, adjust=False).mean() - macd\n"
   ]
  },
  {
   "cell_type": "code",
   "execution_count": 22,
   "id": "measured-reputation",
   "metadata": {},
   "outputs": [],
   "source": [
    "# buy when signal line > 0, sell otherwise\n",
    "macd_position = (signal_line > 0).rolling(5).max()"
   ]
  },
  {
   "cell_type": "code",
   "execution_count": 23,
   "id": "magnetic-thinking",
   "metadata": {},
   "outputs": [],
   "source": [
    "# stock_prices_df_wide.pct_change() * macd_position"
   ]
  },
  {
   "cell_type": "code",
   "execution_count": 24,
   "id": "extended-university",
   "metadata": {},
   "outputs": [],
   "source": [
    "# macd_position.mean(axis=0)"
   ]
  },
  {
   "cell_type": "code",
   "execution_count": 36,
   "id": "happy-vision",
   "metadata": {
    "scrolled": true
   },
   "outputs": [],
   "source": [
    "macd_daily_perf = (stock_prices_df_wide.pct_change() * macd_position.shift(1)).mean(axis=1).dropna()\n",
    "macd_cumulative_perf = np.exp(macd_daily_perf.cumsum())"
   ]
  },
  {
   "cell_type": "code",
   "execution_count": 41,
   "id": "stainless-northern",
   "metadata": {},
   "outputs": [],
   "source": [
    "# macd_cumulative_perf.plot()"
   ]
  },
  {
   "cell_type": "code",
   "execution_count": null,
   "id": "veterinary-island",
   "metadata": {},
   "outputs": [],
   "source": []
  },
  {
   "cell_type": "markdown",
   "id": "brilliant-dress",
   "metadata": {},
   "source": [
    "#### Stochastic optimizer"
   ]
  },
  {
   "cell_type": "code",
   "execution_count": 29,
   "id": "behavioral-cologne",
   "metadata": {
    "scrolled": true
   },
   "outputs": [],
   "source": [
    "#Create the \"L14\" column in the DataFrame\n",
    "stock_prices_df_wide_min = stock_prices_df_wide.rolling(window=14).min().shift(1)\n",
    "#Create the \"H14\" column in the DataFrame\n",
    "stock_prices_df_wide_max = stock_prices_df_wide.rolling(window=14).max().shift(1)\n",
    "#Create the \"%K\" column in the DataFrame\n",
    "stock_prices_df_wide_K = 100*((stock_prices_df_wide - stock_prices_df_wide_min) / (stock_prices_df_wide_max - stock_prices_df_wide_min) )\n",
    "#Create the \"%D\" column in the DataFrame\n",
    "stock_prices_df_wide_D = stock_prices_df_wide_K.rolling(window=3).mean()"
   ]
  },
  {
   "cell_type": "code",
   "execution_count": 30,
   "id": "married-elevation",
   "metadata": {},
   "outputs": [],
   "source": [
    "#Create a column in the DataFrame showing \"TRUE\" if sell entry signal is given and \"FALSE\" otherwise. \n",
    "#A sell is initiated when the %K line crosses down through the %D line and the value of the oscillator is above 80 \n",
    "# df['Sell Entry'] = ((df['%K'] < df['%D']) & (df['%K'].shift(1) > df['%D'].shift(1))) & (df['%D'] > 80) \n",
    "stock_prices_df_wide_sell_entry = (stock_prices_df_wide_K < stock_prices_df_wide_D) \\\n",
    "    & (stock_prices_df_wide_K.shift(1) > stock_prices_df_wide_D.shift(1)) & (stock_prices_df_wide_D > 80) \n",
    "\n",
    "#Create a column in the DataFrame showing \"TRUE\" if sell exit signal is given and \"FALSE\" otherwise. \n",
    "#A sell exit signal is given when the %K line crosses back up through the %D line \n",
    "# df['Sell Exit'] = ((df['%K'] > df['%D']) & (df['%K'].shift(1) < df['%D'].shift(1))) \n",
    "stock_prices_df_wide_sell_exit = ((stock_prices_df_wide_K > stock_prices_df_wide_D) &\\\n",
    "                                  (stock_prices_df_wide_K.shift(1) < stock_prices_df_wide_D.shift(1))) \n",
    "\n",
    "#create a placeholder column to populate with short positions (-1 for short and 0 for flat) using boolean values created above \n",
    "stock_prices_df_wide_short = pd.DataFrame().reindex_like(stock_prices_df_wide_sell_exit)\n",
    "stock_prices_df_wide_short = stock_prices_df_wide_short.where(stock_prices_df_wide_sell_entry, -1)\n",
    "stock_prices_df_wide_short = stock_prices_df_wide_short.where(stock_prices_df_wide_sell_exit, 0)\n",
    "\n",
    "# #Set initial position on day 1 to flat \n",
    "# df['Short'][0] = 0 \n",
    "stock_prices_df_wide_short.iloc[0] = 0\n",
    "\n",
    "# #Forward fill the position column to represent the holding of positions through time \n",
    "# df['Short'] = df['Short'].fillna(method='pad') \n",
    "stock_prices_df_wide_short.fillna(method='pad')\n",
    "\n",
    "#Create a column in the DataFrame showing \"TRUE\" if buy entry signal is given and \"FALSE\" otherwise. \n",
    "#A buy is initiated when the %K line crosses up through the %D line and the value of the oscillator is below 20 \n",
    "stock_prices_df_wide_buy_entry = ((stock_prices_df_wide_K > stock_prices_df_wide_D) &\\\n",
    "                   (stock_prices_df_wide_K.shift(1) < stock_prices_df_wide_D.shift(1))) &\\\n",
    "                    (stock_prices_df_wide_D < 20) \n",
    "\n",
    "#Create a column in the DataFrame showing \"TRUE\" if buy exit signal is given and \"FALSE\" otherwise. \n",
    "#A buy exit signal is given when the %K line crosses back down through the %D line \n",
    "stock_prices_df_wide_buy_exit = ((stock_prices_df_wide_K < stock_prices_df_wide_D) &\\\n",
    "                  (stock_prices_df_wide_K.shift(1) > stock_prices_df_wide_D.shift(1))) \n",
    "\n",
    "# #create a placeholder column to polulate with long positions (1 for long and 0 for flat) using boolean values created above \n",
    "# df['Long'] = np.nan  \n",
    "# df.loc[df['Buy Entry'],'Long'] = 1  \n",
    "# df.loc[df['Buy Exit'],'Long'] = 0  \n",
    "stock_prices_df_wide_long = pd.DataFrame().reindex_like(stock_prices_df_wide_buy_exit)\n",
    "stock_prices_df_wide_long = stock_prices_df_wide_long.where(stock_prices_df_wide_buy_entry, 1)\n",
    "stock_prices_df_wide_long = stock_prices_df_wide_long.where(stock_prices_df_wide_buy_exit, 0)\n",
    "\n",
    "# #Set initial position on day 1 to flat \n",
    "# df['Long'][0] = 0  \n",
    "stock_prices_df_wide_long.iloc[0] = 0\n",
    "\n",
    "# #Forward fill the position column to represent the holding of positions through time \n",
    "# df['Long'] = df['Long'].fillna(method='pad') \n",
    "stock_prices_df_wide_long.fillna(method='pad')\n",
    "\n",
    "# #Add Long and Short positions together to get final strategy position (1 for long, -1 for short and 0 for flat) \n",
    "# df['Position'] = df['Long'] + df['Short']\n",
    "final_position = stock_prices_df_wide_long + stock_prices_df_wide_short\n",
    "# final_position = final_position.astype(int)"
   ]
  },
  {
   "cell_type": "code",
   "execution_count": 31,
   "id": "automated-proceeding",
   "metadata": {},
   "outputs": [],
   "source": [
    "stochastic_osc_daily_perf = stock_prices_df_wide.pct_change() * final_position.shift(1)\n",
    "stochastic_osc_cumulative_perf = np.exp(stochastic_osc_daily_perf.cumsum().mean(axis=1))"
   ]
  },
  {
   "cell_type": "code",
   "execution_count": 32,
   "id": "unique-fifty",
   "metadata": {},
   "outputs": [],
   "source": [
    "# final_position_adj = (final_position - (final_position.sum(axis=1).min() - 1) / final_position.shape[1]).astype(float)\n",
    "# final_position_adj = final_position_adj.div(final_position_adj.sum(axis=1), axis=0)\n",
    "# final_position_adj = final_position_adj.shift(1)"
   ]
  },
  {
   "cell_type": "code",
   "execution_count": 33,
   "id": "behavioral-delta",
   "metadata": {},
   "outputs": [],
   "source": [
    "# stochastic_osc_weights = pd.read_csv('temp.csv', index_col=0)\n",
    "# stochastic_osc_weights.index = pd.to_datetime(stochastic_osc_weights.index)\n",
    "# # stochastic_osc_weights = stochastic_osc_weights.loc[pd.datetime(2007,1,1):] \n",
    "# stochastic_osc_daily_perf, stochastic_osc_cumulative_perf = \\\n",
    "#     execute_strategy_v2(stochastic_osc_weights)"
   ]
  },
  {
   "cell_type": "markdown",
   "id": "hispanic-enterprise",
   "metadata": {},
   "source": [
    "#### Combining both MACD and stochastic"
   ]
  },
  {
   "cell_type": "code",
   "execution_count": 34,
   "id": "judicial-bridges",
   "metadata": {
    "scrolled": false
   },
   "outputs": [
    {
     "data": {
      "text/plain": [
       "<matplotlib.axes._subplots.AxesSubplot at 0x7fb0299cb198>"
      ]
     },
     "execution_count": 34,
     "metadata": {},
     "output_type": "execute_result"
    },
    {
     "data": {
      "image/png": "[encoded data removed]",
      "text/plain": [
       "<Figure size 432x288 with 1 Axes>"
      ]
     },
     "metadata": {},
     "output_type": "display_data"
    }
   ],
   "source": [
    "combined_strategy = (macd_position * final_position.shift(1)) * stock_prices_df_wide.pct_change()\n",
    "np.exp(combined_strategy.cumsum().mean(axis=1)).plot()"
   ]
  },
  {
   "cell_type": "code",
   "execution_count": null,
   "id": "endless-victory",
   "metadata": {},
   "outputs": [],
   "source": []
  },
  {
   "cell_type": "markdown",
   "id": "golden-amendment",
   "metadata": {},
   "source": [
    "### Visualization"
   ]
  },
  {
   "cell_type": "code",
   "execution_count": 300,
   "id": "pharmaceutical-gibson",
   "metadata": {
    "scrolled": false
   },
   "outputs": [
    {
     "data": {
      "image/png": "[encoded data removed]",
      "text/plain": [
       "<Figure size 864x576 with 1 Axes>"
      ]
     },
     "metadata": {},
     "output_type": "display_data"
    }
   ],
   "source": [
    "fig, ax = plt.subplots(figsize=(12, 8))\n",
    "ax.plot(unif_cumulative_perf,                  linewidth=1.0, label=\"Uniform\")\n",
    "ax.plot(sp500_cumulative_perf,                 linewidth=1.0, label=\"Market Cap (~SP500)\")\n",
    "# ax.plot(max_diverse_cumulative_perf,           linewidth=1.0, label=\"Max Diversification\")\n",
    "# ax.plot(max_diverse_long_only_cumulative_perf, linewidth=1.0, label=\"Max Diversification (Long-only, Yearly Rebalancing)\")\n",
    "# ax.plot(stochastic_osc_cumulative_perf,             linewidth=1.0, label=\"Stochastic\")\n",
    "# ax.plot(macd_cumulative_perf,             linewidth=1.0, label=\"MACD\")\n",
    "ax.plot(fa_cumulative_perf,                    linewidth=1.0, label=\"Factor Model\")\n",
    "ax.plot(fama_cumulative_perf,                    linewidth=1.0, label=\"Fama French\")\n",
    "ax.set_title(\"Cumulative Returns of Various Allocation Strategies\")\n",
    "ax.set_xlabel(\"Date\")\n",
    "ax.set_ylabel(\"Returns\")\n",
    "ax.legend()\n",
    "plt.show()"
   ]
  },
  {
   "cell_type": "code",
   "execution_count": 192,
   "id": "buried-thought",
   "metadata": {},
   "outputs": [
    {
     "data": {
      "text/plain": [
       "<matplotlib.axes._subplots.AxesSubplot at 0x7febb6be63c8>"
      ]
     },
     "execution_count": 192,
     "metadata": {},
     "output_type": "execute_result"
    },
    {
     "data": {
      "image/png": "[encoded data removed]",
      "text/plain": [
       "<Figure size 432x288 with 1 Axes>"
      ]
     },
     "metadata": {},
     "output_type": "display_data"
    }
   ],
   "source": [
    "fama_cumulative_perf.plot()"
   ]
  },
  {
   "cell_type": "code",
   "execution_count": null,
   "id": "starting-patent",
   "metadata": {},
   "outputs": [],
   "source": []
  },
  {
   "cell_type": "markdown",
   "id": "hungarian-prisoner",
   "metadata": {},
   "source": [
    "### Statistical Factor Model (In-progress)"
   ]
  },
  {
   "cell_type": "code",
   "execution_count": 89,
   "id": "following-entrance",
   "metadata": {},
   "outputs": [],
   "source": [
    "pca = PCA(n_components = 5)\n",
    "\n",
    "pca.fit(pct_returns)\n",
    "\n",
    "# Each column vector / eigenvector is a factor loading\n",
    "eigenvecs = np.transpose(pca.components_)"
   ]
  },
  {
   "cell_type": "code",
   "execution_count": 77,
   "id": "fleet-float",
   "metadata": {},
   "outputs": [
    {
     "data": {
      "text/plain": [
       "array([0.40523182, 0.03910722, 0.02827506, 0.02468892, 0.01980486])"
      ]
     },
     "execution_count": 77,
     "metadata": {},
     "output_type": "execute_result"
    }
   ],
   "source": [
    "pca.explained_variance_"
   ]
  },
  {
   "cell_type": "code",
   "execution_count": 97,
   "id": "seasonal-navigation",
   "metadata": {},
   "outputs": [],
   "source": [
    "estimated_factors = eigenvecs.T @ pct_returns.iloc[3].values"
   ]
  },
  {
   "cell_type": "code",
   "execution_count": 98,
   "id": "limiting-romania",
   "metadata": {},
   "outputs": [
    {
     "data": {
      "text/plain": [
       "array([ 0.2593604 , -0.0715072 ,  0.24740362,  0.03167702,  0.0723495 ])"
      ]
     },
     "execution_count": 98,
     "metadata": {},
     "output_type": "execute_result"
    }
   ],
   "source": [
    "estimated_factors"
   ]
  },
  {
   "cell_type": "markdown",
   "id": "worthy-launch",
   "metadata": {},
   "source": [
    "At a specific time $t$ for which the portfolio is to be rebalanced, for each asset $k$, we try to find the asset's exposure to each factor via OLS:\n",
    "\n",
    "$\n",
    "R_k(t) = \\alpha_k + \\sum_i^{n} \\beta_{ki} f_i(t) = \\alpha_k + \\beta_{k1} f_1 + \\beta_{k2} f_2 + ... + \\beta_{kn} f_n\n",
    "$\n",
    "\n",
    "We will estimate the coefficients $\\beta_{ki} \\forall i$ for a given asset $k$."
   ]
  },
  {
   "cell_type": "code",
   "execution_count": 87,
   "id": "nasty-klein",
   "metadata": {},
   "outputs": [
    {
     "data": {
      "text/plain": [
       "(3271, 1926)"
      ]
     },
     "execution_count": 87,
     "metadata": {},
     "output_type": "execute_result"
    }
   ],
   "source": [
    "pct_returns.shape"
   ]
  },
  {
   "cell_type": "code",
   "execution_count": 85,
   "id": "christian-update",
   "metadata": {},
   "outputs": [],
   "source": [
    "# Apply dimension reduction\n",
    "\n",
    "factor_returns = pca.fit_transform(pct_returns)"
   ]
  },
  {
   "cell_type": "code",
   "execution_count": 86,
   "id": "african-titanium",
   "metadata": {},
   "outputs": [
    {
     "data": {
      "text/plain": [
       "(3271, 5)"
      ]
     },
     "execution_count": 86,
     "metadata": {},
     "output_type": "execute_result"
    }
   ],
   "source": [
    "factor_returns.shape"
   ]
  }
 ],
 "metadata": {
  "kernelspec": {
   "display_name": "Python 3",
   "language": "python",
   "name": "python3"
  },
  "language_info": {
   "codemirror_mode": {
    "name": "ipython",
    "version": 3
   },
   "file_extension": ".py",
   "mimetype": "text/x-python",
   "name": "python",
   "nbconvert_exporter": "python",
   "pygments_lexer": "ipython3",
   "version": "3.6.8"
  },
  "toc": {
   "base_numbering": 1,
   "nav_menu": {},
   "number_sections": true,
   "sideBar": true,
   "skip_h1_title": false,
   "title_cell": "Table of Contents",
   "title_sidebar": "Contents",
   "toc_cell": false,
   "toc_position": {
    "height": "calc(100% - 180px)",
    "left": "10px",
    "top": "150px",
    "width": "279px"
   },
   "toc_section_display": true,
   "toc_window_display": true
  },
  "varInspector": {
   "cols": {
    "lenName": 16,
    "lenType": 16,
    "lenVar": 40
   },
   "kernels_config": {
    "python": {
     "delete_cmd_postfix": "",
     "delete_cmd_prefix": "del ",
     "library": "var_list.py",
     "varRefreshCmd": "print(var_dic_list())"
    },
    "r": {
     "delete_cmd_postfix": ") ",
     "delete_cmd_prefix": "rm(",
     "library": "var_list.r",
     "varRefreshCmd": "cat(var_dic_list()) "
    }
   },
   "types_to_exclude": [
    "module",
    "function",
    "builtin_function_or_method",
    "instance",
    "_Feature"
   ],
   "window_display": false
  }
 },
 "nbformat": 4,
 "nbformat_minor": 5
}
