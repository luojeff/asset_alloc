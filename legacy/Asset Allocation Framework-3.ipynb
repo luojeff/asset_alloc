{
 "cells": [
  {
   "cell_type": "markdown",
   "metadata": {},
   "source": [
    "### Importing Libraries:"
   ]
  },
  {
   "cell_type": "code",
   "execution_count": 3,
   "metadata": {},
   "outputs": [],
   "source": [
    "import zipline"
   ]
  },
  {
   "cell_type": "code",
   "execution_count": 4,
   "metadata": {},
   "outputs": [],
   "source": [
    "import pandas as pd\n",
    "import pandas_datareader as web\n",
    "import urllib.request\n",
    "import zipfile\n",
    "import numpy as np\n",
    "import cvxopt as opt\n",
    "from cvxopt import blas, solvers\n",
    "import plotly\n",
    "import matplotlib.pyplot as plt\n",
    "import chart_studio\n",
    "import cufflinks"
   ]
  },
  {
   "cell_type": "code",
   "execution_count": 189,
   "metadata": {},
   "outputs": [],
   "source": [
    "import sklearn\n",
    "from sklearn.decomposition import PCA\n",
    "from scipy.optimize import minimize"
   ]
  },
  {
   "cell_type": "markdown",
   "metadata": {},
   "source": [
    "### Download stock data:"
   ]
  },
  {
   "cell_type": "code",
   "execution_count": 287,
   "metadata": {},
   "outputs": [],
   "source": [
    "# Define the stock names and the time horizon:\n",
    "tick = ['AMZN','AAPL','NFLX','FB','MSFT','GOOG','TSLA','PEP','MCD','COST','C','MS','BA','AX','GE']\n",
    "start_date = '2014-01-01'\n",
    "end_date = '2020-12-31'"
   ]
  },
  {
   "cell_type": "code",
   "execution_count": 288,
   "metadata": {},
   "outputs": [],
   "source": [
    "# Get the price data from Yahoo:\n",
    "price_data = web.get_data_yahoo(tick,start=start_date,end=end_date)['Adj Close']"
   ]
  },
  {
   "cell_type": "code",
   "execution_count": 289,
   "metadata": {},
   "outputs": [
    {
     "data": {
      "text/plain": [
       "(1763, 15)"
      ]
     },
     "execution_count": 289,
     "metadata": {},
     "output_type": "execute_result"
    }
   ],
   "source": [
    "np.shape(price_data)"
   ]
  },
  {
   "cell_type": "code",
   "execution_count": 290,
   "metadata": {},
   "outputs": [
    {
     "data": {
      "text/html": [
       "<div>\n",
       "<style scoped>\n",
       "    .dataframe tbody tr th:only-of-type {\n",
       "        vertical-align: middle;\n",
       "    }\n",
       "\n",
       "    .dataframe tbody tr th {\n",
       "        vertical-align: top;\n",
       "    }\n",
       "\n",
       "    .dataframe thead th {\n",
       "        text-align: right;\n",
       "    }\n",
       "</style>\n",
       "<table border=\"1\" class=\"dataframe\">\n",
       "  <thead>\n",
       "    <tr style=\"text-align: right;\">\n",
       "      <th>Symbols</th>\n",
       "      <th>AAPL</th>\n",
       "      <th>AMZN</th>\n",
       "      <th>AX</th>\n",
       "      <th>BA</th>\n",
       "      <th>C</th>\n",
       "      <th>COST</th>\n",
       "      <th>FB</th>\n",
       "      <th>GE</th>\n",
       "      <th>GOOG</th>\n",
       "      <th>MCD</th>\n",
       "      <th>MS</th>\n",
       "      <th>MSFT</th>\n",
       "      <th>NFLX</th>\n",
       "      <th>PEP</th>\n",
       "      <th>TSLA</th>\n",
       "    </tr>\n",
       "    <tr>\n",
       "      <th>Date</th>\n",
       "      <th></th>\n",
       "      <th></th>\n",
       "      <th></th>\n",
       "      <th></th>\n",
       "      <th></th>\n",
       "      <th></th>\n",
       "      <th></th>\n",
       "      <th></th>\n",
       "      <th></th>\n",
       "      <th></th>\n",
       "      <th></th>\n",
       "      <th></th>\n",
       "      <th></th>\n",
       "      <th></th>\n",
       "      <th></th>\n",
       "    </tr>\n",
       "  </thead>\n",
       "  <tbody>\n",
       "    <tr>\n",
       "      <th>2014-01-02</th>\n",
       "      <td>17.598297</td>\n",
       "      <td>397.970001</td>\n",
       "      <td>18.987499</td>\n",
       "      <td>116.807953</td>\n",
       "      <td>46.111034</td>\n",
       "      <td>99.024254</td>\n",
       "      <td>54.709999</td>\n",
       "      <td>22.316345</td>\n",
       "      <td>554.481689</td>\n",
       "      <td>79.163460</td>\n",
       "      <td>26.571898</td>\n",
       "      <td>32.057323</td>\n",
       "      <td>51.831429</td>\n",
       "      <td>66.942528</td>\n",
       "      <td>30.020000</td>\n",
       "    </tr>\n",
       "    <tr>\n",
       "      <th>2014-01-03</th>\n",
       "      <td>17.211735</td>\n",
       "      <td>396.440002</td>\n",
       "      <td>18.985001</td>\n",
       "      <td>117.619873</td>\n",
       "      <td>47.107887</td>\n",
       "      <td>98.587143</td>\n",
       "      <td>54.560001</td>\n",
       "      <td>22.300112</td>\n",
       "      <td>550.436829</td>\n",
       "      <td>79.270203</td>\n",
       "      <td>26.982931</td>\n",
       "      <td>31.841665</td>\n",
       "      <td>51.871429</td>\n",
       "      <td>67.056679</td>\n",
       "      <td>29.912001</td>\n",
       "    </tr>\n",
       "    <tr>\n",
       "      <th>2014-01-06</th>\n",
       "      <td>17.305593</td>\n",
       "      <td>393.630005</td>\n",
       "      <td>18.892500</td>\n",
       "      <td>118.295074</td>\n",
       "      <td>47.469578</td>\n",
       "      <td>97.839096</td>\n",
       "      <td>57.200001</td>\n",
       "      <td>22.121578</td>\n",
       "      <td>556.573853</td>\n",
       "      <td>78.703659</td>\n",
       "      <td>27.077129</td>\n",
       "      <td>31.168766</td>\n",
       "      <td>51.367142</td>\n",
       "      <td>67.089302</td>\n",
       "      <td>29.400000</td>\n",
       "    </tr>\n",
       "    <tr>\n",
       "      <th>2014-01-07</th>\n",
       "      <td>17.181829</td>\n",
       "      <td>398.029999</td>\n",
       "      <td>18.895000</td>\n",
       "      <td>120.089874</td>\n",
       "      <td>47.795975</td>\n",
       "      <td>97.385201</td>\n",
       "      <td>57.919998</td>\n",
       "      <td>22.145929</td>\n",
       "      <td>567.303589</td>\n",
       "      <td>79.138802</td>\n",
       "      <td>26.991495</td>\n",
       "      <td>31.410315</td>\n",
       "      <td>48.500000</td>\n",
       "      <td>68.067757</td>\n",
       "      <td>29.872000</td>\n",
       "    </tr>\n",
       "    <tr>\n",
       "      <th>2014-01-08</th>\n",
       "      <td>17.290642</td>\n",
       "      <td>401.920013</td>\n",
       "      <td>19.587500</td>\n",
       "      <td>120.354836</td>\n",
       "      <td>48.351753</td>\n",
       "      <td>95.863838</td>\n",
       "      <td>58.230000</td>\n",
       "      <td>22.081011</td>\n",
       "      <td>568.484192</td>\n",
       "      <td>78.342339</td>\n",
       "      <td>27.025749</td>\n",
       "      <td>30.849575</td>\n",
       "      <td>48.712856</td>\n",
       "      <td>67.872078</td>\n",
       "      <td>30.256001</td>\n",
       "    </tr>\n",
       "  </tbody>\n",
       "</table>\n",
       "</div>"
      ],
      "text/plain": [
       "Symbols          AAPL        AMZN         AX          BA          C  \\\n",
       "Date                                                                  \n",
       "2014-01-02  17.598297  397.970001  18.987499  116.807953  46.111034   \n",
       "2014-01-03  17.211735  396.440002  18.985001  117.619873  47.107887   \n",
       "2014-01-06  17.305593  393.630005  18.892500  118.295074  47.469578   \n",
       "2014-01-07  17.181829  398.029999  18.895000  120.089874  47.795975   \n",
       "2014-01-08  17.290642  401.920013  19.587500  120.354836  48.351753   \n",
       "\n",
       "Symbols          COST         FB         GE        GOOG        MCD         MS  \\\n",
       "Date                                                                            \n",
       "2014-01-02  99.024254  54.709999  22.316345  554.481689  79.163460  26.571898   \n",
       "2014-01-03  98.587143  54.560001  22.300112  550.436829  79.270203  26.982931   \n",
       "2014-01-06  97.839096  57.200001  22.121578  556.573853  78.703659  27.077129   \n",
       "2014-01-07  97.385201  57.919998  22.145929  567.303589  79.138802  26.991495   \n",
       "2014-01-08  95.863838  58.230000  22.081011  568.484192  78.342339  27.025749   \n",
       "\n",
       "Symbols          MSFT       NFLX        PEP       TSLA  \n",
       "Date                                                    \n",
       "2014-01-02  32.057323  51.831429  66.942528  30.020000  \n",
       "2014-01-03  31.841665  51.871429  67.056679  29.912001  \n",
       "2014-01-06  31.168766  51.367142  67.089302  29.400000  \n",
       "2014-01-07  31.410315  48.500000  68.067757  29.872000  \n",
       "2014-01-08  30.849575  48.712856  67.872078  30.256001  "
      ]
     },
     "execution_count": 290,
     "metadata": {},
     "output_type": "execute_result"
    }
   ],
   "source": [
    "price_data.head()"
   ]
  },
  {
   "cell_type": "code",
   "execution_count": 291,
   "metadata": {},
   "outputs": [
    {
     "data": {
      "text/html": [
       "<div>\n",
       "<style scoped>\n",
       "    .dataframe tbody tr th:only-of-type {\n",
       "        vertical-align: middle;\n",
       "    }\n",
       "\n",
       "    .dataframe tbody tr th {\n",
       "        vertical-align: top;\n",
       "    }\n",
       "\n",
       "    .dataframe thead th {\n",
       "        text-align: right;\n",
       "    }\n",
       "</style>\n",
       "<table border=\"1\" class=\"dataframe\">\n",
       "  <thead>\n",
       "    <tr style=\"text-align: right;\">\n",
       "      <th>Symbols</th>\n",
       "      <th>AAPL</th>\n",
       "      <th>AMZN</th>\n",
       "      <th>AX</th>\n",
       "      <th>BA</th>\n",
       "      <th>C</th>\n",
       "      <th>COST</th>\n",
       "      <th>FB</th>\n",
       "      <th>GE</th>\n",
       "      <th>GOOG</th>\n",
       "      <th>MCD</th>\n",
       "      <th>MS</th>\n",
       "      <th>MSFT</th>\n",
       "      <th>NFLX</th>\n",
       "      <th>PEP</th>\n",
       "      <th>TSLA</th>\n",
       "    </tr>\n",
       "    <tr>\n",
       "      <th>Date</th>\n",
       "      <th></th>\n",
       "      <th></th>\n",
       "      <th></th>\n",
       "      <th></th>\n",
       "      <th></th>\n",
       "      <th></th>\n",
       "      <th></th>\n",
       "      <th></th>\n",
       "      <th></th>\n",
       "      <th></th>\n",
       "      <th></th>\n",
       "      <th></th>\n",
       "      <th></th>\n",
       "      <th></th>\n",
       "      <th></th>\n",
       "    </tr>\n",
       "  </thead>\n",
       "  <tbody>\n",
       "    <tr>\n",
       "      <th>2014-01-03</th>\n",
       "      <td>-0.021966</td>\n",
       "      <td>-0.003845</td>\n",
       "      <td>-0.000132</td>\n",
       "      <td>0.006951</td>\n",
       "      <td>0.021619</td>\n",
       "      <td>-0.004414</td>\n",
       "      <td>-0.002742</td>\n",
       "      <td>-0.000727</td>\n",
       "      <td>-0.007295</td>\n",
       "      <td>0.001348</td>\n",
       "      <td>0.015469</td>\n",
       "      <td>-0.006727</td>\n",
       "      <td>0.000772</td>\n",
       "      <td>0.001705</td>\n",
       "      <td>-0.003598</td>\n",
       "    </tr>\n",
       "    <tr>\n",
       "      <th>2014-01-06</th>\n",
       "      <td>0.005453</td>\n",
       "      <td>-0.007088</td>\n",
       "      <td>-0.004872</td>\n",
       "      <td>0.005741</td>\n",
       "      <td>0.007678</td>\n",
       "      <td>-0.007588</td>\n",
       "      <td>0.048387</td>\n",
       "      <td>-0.008006</td>\n",
       "      <td>0.011149</td>\n",
       "      <td>-0.007147</td>\n",
       "      <td>0.003491</td>\n",
       "      <td>-0.021133</td>\n",
       "      <td>-0.009722</td>\n",
       "      <td>0.000487</td>\n",
       "      <td>-0.017117</td>\n",
       "    </tr>\n",
       "    <tr>\n",
       "      <th>2014-01-07</th>\n",
       "      <td>-0.007152</td>\n",
       "      <td>0.011178</td>\n",
       "      <td>0.000132</td>\n",
       "      <td>0.015172</td>\n",
       "      <td>0.006876</td>\n",
       "      <td>-0.004639</td>\n",
       "      <td>0.012587</td>\n",
       "      <td>0.001101</td>\n",
       "      <td>0.019278</td>\n",
       "      <td>0.005529</td>\n",
       "      <td>-0.003163</td>\n",
       "      <td>0.007750</td>\n",
       "      <td>-0.055817</td>\n",
       "      <td>0.014584</td>\n",
       "      <td>0.016054</td>\n",
       "    </tr>\n",
       "    <tr>\n",
       "      <th>2014-01-08</th>\n",
       "      <td>0.006333</td>\n",
       "      <td>0.009773</td>\n",
       "      <td>0.036650</td>\n",
       "      <td>0.002206</td>\n",
       "      <td>0.011628</td>\n",
       "      <td>-0.015622</td>\n",
       "      <td>0.005352</td>\n",
       "      <td>-0.002931</td>\n",
       "      <td>0.002081</td>\n",
       "      <td>-0.010064</td>\n",
       "      <td>0.001269</td>\n",
       "      <td>-0.017852</td>\n",
       "      <td>0.004389</td>\n",
       "      <td>-0.002875</td>\n",
       "      <td>0.012855</td>\n",
       "    </tr>\n",
       "    <tr>\n",
       "      <th>2014-01-09</th>\n",
       "      <td>-0.012770</td>\n",
       "      <td>-0.002264</td>\n",
       "      <td>0.026165</td>\n",
       "      <td>0.009303</td>\n",
       "      <td>0.007115</td>\n",
       "      <td>0.039105</td>\n",
       "      <td>-0.017345</td>\n",
       "      <td>0.000367</td>\n",
       "      <td>-0.009630</td>\n",
       "      <td>0.000524</td>\n",
       "      <td>-0.000317</td>\n",
       "      <td>-0.006432</td>\n",
       "      <td>-0.011555</td>\n",
       "      <td>-0.004686</td>\n",
       "      <td>-0.024788</td>\n",
       "    </tr>\n",
       "  </tbody>\n",
       "</table>\n",
       "</div>"
      ],
      "text/plain": [
       "Symbols         AAPL      AMZN        AX        BA         C      COST  \\\n",
       "Date                                                                     \n",
       "2014-01-03 -0.021966 -0.003845 -0.000132  0.006951  0.021619 -0.004414   \n",
       "2014-01-06  0.005453 -0.007088 -0.004872  0.005741  0.007678 -0.007588   \n",
       "2014-01-07 -0.007152  0.011178  0.000132  0.015172  0.006876 -0.004639   \n",
       "2014-01-08  0.006333  0.009773  0.036650  0.002206  0.011628 -0.015622   \n",
       "2014-01-09 -0.012770 -0.002264  0.026165  0.009303  0.007115  0.039105   \n",
       "\n",
       "Symbols           FB        GE      GOOG       MCD        MS      MSFT  \\\n",
       "Date                                                                     \n",
       "2014-01-03 -0.002742 -0.000727 -0.007295  0.001348  0.015469 -0.006727   \n",
       "2014-01-06  0.048387 -0.008006  0.011149 -0.007147  0.003491 -0.021133   \n",
       "2014-01-07  0.012587  0.001101  0.019278  0.005529 -0.003163  0.007750   \n",
       "2014-01-08  0.005352 -0.002931  0.002081 -0.010064  0.001269 -0.017852   \n",
       "2014-01-09 -0.017345  0.000367 -0.009630  0.000524 -0.000317 -0.006432   \n",
       "\n",
       "Symbols         NFLX       PEP      TSLA  \n",
       "Date                                      \n",
       "2014-01-03  0.000772  0.001705 -0.003598  \n",
       "2014-01-06 -0.009722  0.000487 -0.017117  \n",
       "2014-01-07 -0.055817  0.014584  0.016054  \n",
       "2014-01-08  0.004389 -0.002875  0.012855  \n",
       "2014-01-09 -0.011555 -0.004686 -0.024788  "
      ]
     },
     "execution_count": 291,
     "metadata": {},
     "output_type": "execute_result"
    }
   ],
   "source": [
    "#Calculate stock returns:\n",
    "return_data = price_data.pct_change()[1:]\n",
    "return_data.head()"
   ]
  },
  {
   "cell_type": "code",
   "execution_count": 292,
   "metadata": {},
   "outputs": [
    {
     "name": "stdout",
     "output_type": "stream",
     "text": [
      "training length: 1509 testing length: 253\n"
     ]
    }
   ],
   "source": [
    "# Splitting the data into training and testing datasets:\n",
    "training_return_data = return_data[return_data.index<'2020-01-01']\n",
    "testing_return_data = return_data[return_data.index>='2020-01-01']\n",
    "print(\"training length:\",len(training_return_data),\"testing length:\",len(testing_return_data))"
   ]
  },
  {
   "cell_type": "markdown",
   "metadata": {},
   "source": [
    "### Model - 1: Building portfolio based on statistical factors:"
   ]
  },
  {
   "cell_type": "code",
   "execution_count": 293,
   "metadata": {},
   "outputs": [
    {
     "name": "stdout",
     "output_type": "stream",
     "text": [
      "[0.37963336 0.1314557  0.11619104 0.08154328 0.06151826 0.04214897]\n"
     ]
    }
   ],
   "source": [
    "pca = PCA(n_components = 6)\n",
    "pca.fit(training_return_data)\n",
    "print(pca.explained_variance_ratio_)"
   ]
  },
  {
   "cell_type": "code",
   "execution_count": 294,
   "metadata": {},
   "outputs": [
    {
     "data": {
      "text/plain": [
       "(15, 6)"
      ]
     },
     "execution_count": 294,
     "metadata": {},
     "output_type": "execute_result"
    }
   ],
   "source": [
    "# Factor loadings matrix:\n",
    "Factor_Loadings = np.transpose(pca.components_)\n",
    "np.shape(Factor_Loadings)"
   ]
  },
  {
   "cell_type": "code",
   "execution_count": 295,
   "metadata": {},
   "outputs": [
    {
     "data": {
      "text/plain": [
       "(1509, 6)"
      ]
     },
     "execution_count": 295,
     "metadata": {},
     "output_type": "execute_result"
    }
   ],
   "source": [
    "# Factor returns vector:\n",
    "factor_returns = pca.fit_transform(training_return_data)\n",
    "np.shape(factor_returns)"
   ]
  },
  {
   "cell_type": "code",
   "execution_count": 296,
   "metadata": {},
   "outputs": [
    {
     "data": {
      "text/plain": [
       "(6, 6)"
      ]
     },
     "execution_count": 296,
     "metadata": {},
     "output_type": "execute_result"
    }
   ],
   "source": [
    "# Factor covariance matrix:\n",
    "cov_factor = np.cov(np.transpose(factor_returns))\n",
    "np.shape(cov_factor)"
   ]
  },
  {
   "cell_type": "code",
   "execution_count": 297,
   "metadata": {},
   "outputs": [],
   "source": [
    "# mu:\n",
    "mu = pca.mean_"
   ]
  },
  {
   "cell_type": "code",
   "execution_count": 298,
   "metadata": {},
   "outputs": [],
   "source": [
    "# Constructing the matrix D:\n",
    "reconstructed_returns = np.matmul(factor_returns,np.transpose(Factor_Loadings))+np.transpose(mu)\n",
    "unexplained_returns = training_return_data - reconstructed_returns\n",
    "unexplained_variance = np.diag(np.cov(np.transpose(unexplained_returns)))\n",
    "D = np.diag(unexplained_variance)"
   ]
  },
  {
   "cell_type": "markdown",
   "metadata": {},
   "source": [
    "#### Optimization framework for model-1:"
   ]
  },
  {
   "cell_type": "code",
   "execution_count": 299,
   "metadata": {},
   "outputs": [],
   "source": [
    "# Risk level will be the hyperparameter.\n",
    "risk_level = 0.0001"
   ]
  },
  {
   "cell_type": "code",
   "execution_count": 300,
   "metadata": {},
   "outputs": [],
   "source": [
    "# Vector of 1's equal in length to r\n",
    "e = np.ones(15)"
   ]
  },
  {
   "cell_type": "code",
   "execution_count": 301,
   "metadata": {},
   "outputs": [],
   "source": [
    "# Randomly assigned weights:\n",
    "def rand_weights(n):\n",
    "    ''' Produces n random weights that sum to 1 '''\n",
    "    k = np.random.rand(n)\n",
    "    return k / sum(k)"
   ]
  },
  {
   "cell_type": "code",
   "execution_count": 302,
   "metadata": {},
   "outputs": [],
   "source": [
    "# Set initial weight values:\n",
    "weights = rand_weights(15).reshape(15,1)\n",
    "factor_weights = np.zeros(6).reshape(6,1)\n",
    "variables = np.concatenate([weights,factor_weights])"
   ]
  },
  {
   "cell_type": "code",
   "execution_count": 303,
   "metadata": {},
   "outputs": [],
   "source": [
    "# Objective function:\n",
    "def objective(variables):\n",
    "    return -np.matmul(np.transpose(mu),variables[0:15])"
   ]
  },
  {
   "cell_type": "code",
   "execution_count": 304,
   "metadata": {},
   "outputs": [],
   "source": [
    "# Define Constraints\n",
    "const = ({'type' : 'ineq' , 'fun' : lambda variables: risk_level -  np.matmul(np.matmul(np.transpose(variables[15:]),cov_factor),variables[15:]) - np.matmul(np.matmul(np.transpose(variables[:15]),D),variables[:15])}, # returns - mu >= 0\n",
    "         {'type' : 'eq' , 'fun' : lambda variables: np.dot(variables[:15],e) - 1},# sum(w) - 1 = 0\n",
    "        {'type' : 'eq' , 'fun' : lambda variables: np.matmul(np.transpose(Factor_Loadings),variables[:15]) - variables[15:]})    \n"
   ]
  },
  {
   "cell_type": "code",
   "execution_count": 305,
   "metadata": {},
   "outputs": [],
   "source": [
    "# Create Bounds\n",
    "# Creates a tuple of tuples to pass to minimize\n",
    "# to ensure all weights are betwen [0, 1]\n",
    "bounds = []\n",
    "for i in range(15):\n",
    "    bounds.append((0,None))\n",
    "for i in range(6):\n",
    "    bounds.append((None,None))\n",
    "bounds = tuple(bounds)"
   ]
  },
  {
   "cell_type": "code",
   "execution_count": 306,
   "metadata": {},
   "outputs": [
    {
     "name": "stdout",
     "output_type": "stream",
     "text": [
      "[0.127576 0.032511 0.053763 0.095643 0.       0.055395 0.092803 0.\n",
      " 0.       0.124681 0.023672 0.128793 0.073042 0.128762 0.06336 ]\n",
      "1.0000010000000001\n"
     ]
    }
   ],
   "source": [
    "# Run optimization with SLSQP solver\n",
    "solution = minimize(fun=objective, x0=variables, method='SLSQP',constraints=const,bounds=bounds)\n",
    "w = solution.x.round(6)\n",
    "weights_model_1 = w[:15]\n",
    "print(weights_model_1)\n",
    "print(weights_model_1.sum())"
   ]
  },
  {
   "cell_type": "code",
   "execution_count": 307,
   "metadata": {},
   "outputs": [
    {
     "name": "stdout",
     "output_type": "stream",
     "text": [
      "['AAPL', 'AMZN', 'AX', 'BA', 'COST', 'FB', 'MCD', 'MS', 'MSFT', 'NFLX', 'PEP', 'TSLA']\n"
     ]
    }
   ],
   "source": [
    "#List of the stocks with non-negative weights:\n",
    "print(list(training_return_data.columns[w[:15] != 0.0]))"
   ]
  },
  {
   "cell_type": "code",
   "execution_count": 322,
   "metadata": {},
   "outputs": [
    {
     "data": {
      "text/html": [
       "<div>\n",
       "<style scoped>\n",
       "    .dataframe tbody tr th:only-of-type {\n",
       "        vertical-align: middle;\n",
       "    }\n",
       "\n",
       "    .dataframe tbody tr th {\n",
       "        vertical-align: top;\n",
       "    }\n",
       "\n",
       "    .dataframe thead th {\n",
       "        text-align: right;\n",
       "    }\n",
       "</style>\n",
       "<table border=\"1\" class=\"dataframe\">\n",
       "  <thead>\n",
       "    <tr style=\"text-align: right;\">\n",
       "      <th>Symbols</th>\n",
       "      <th>AAPL</th>\n",
       "      <th>AMZN</th>\n",
       "      <th>AX</th>\n",
       "      <th>BA</th>\n",
       "      <th>C</th>\n",
       "      <th>COST</th>\n",
       "      <th>FB</th>\n",
       "      <th>GE</th>\n",
       "      <th>GOOG</th>\n",
       "      <th>MCD</th>\n",
       "      <th>MS</th>\n",
       "      <th>MSFT</th>\n",
       "      <th>NFLX</th>\n",
       "      <th>PEP</th>\n",
       "      <th>TSLA</th>\n",
       "    </tr>\n",
       "    <tr>\n",
       "      <th>Date</th>\n",
       "      <th></th>\n",
       "      <th></th>\n",
       "      <th></th>\n",
       "      <th></th>\n",
       "      <th></th>\n",
       "      <th></th>\n",
       "      <th></th>\n",
       "      <th></th>\n",
       "      <th></th>\n",
       "      <th></th>\n",
       "      <th></th>\n",
       "      <th></th>\n",
       "      <th></th>\n",
       "      <th></th>\n",
       "      <th></th>\n",
       "    </tr>\n",
       "  </thead>\n",
       "  <tbody>\n",
       "    <tr>\n",
       "      <th>2020-01-02</th>\n",
       "      <td>0.022816</td>\n",
       "      <td>0.027151</td>\n",
       "      <td>-0.007926</td>\n",
       "      <td>0.023207</td>\n",
       "      <td>0.016773</td>\n",
       "      <td>-0.008268</td>\n",
       "      <td>0.022071</td>\n",
       "      <td>0.068996</td>\n",
       "      <td>0.022700</td>\n",
       "      <td>0.016092</td>\n",
       "      <td>0.017997</td>\n",
       "      <td>0.018516</td>\n",
       "      <td>0.019285</td>\n",
       "      <td>-0.006219</td>\n",
       "      <td>0.028518</td>\n",
       "    </tr>\n",
       "    <tr>\n",
       "      <th>2020-01-03</th>\n",
       "      <td>-0.009722</td>\n",
       "      <td>-0.012139</td>\n",
       "      <td>-0.004328</td>\n",
       "      <td>-0.001680</td>\n",
       "      <td>-0.018836</td>\n",
       "      <td>0.000823</td>\n",
       "      <td>-0.005291</td>\n",
       "      <td>0.003353</td>\n",
       "      <td>-0.004907</td>\n",
       "      <td>-0.003536</td>\n",
       "      <td>-0.016142</td>\n",
       "      <td>-0.012452</td>\n",
       "      <td>-0.011855</td>\n",
       "      <td>-0.001399</td>\n",
       "      <td>0.029633</td>\n",
       "    </tr>\n",
       "    <tr>\n",
       "      <th>2020-01-06</th>\n",
       "      <td>0.007968</td>\n",
       "      <td>0.014886</td>\n",
       "      <td>-0.008693</td>\n",
       "      <td>0.002945</td>\n",
       "      <td>-0.003137</td>\n",
       "      <td>0.000274</td>\n",
       "      <td>0.018834</td>\n",
       "      <td>0.014202</td>\n",
       "      <td>0.024657</td>\n",
       "      <td>0.011245</td>\n",
       "      <td>-0.003516</td>\n",
       "      <td>0.002585</td>\n",
       "      <td>0.030469</td>\n",
       "      <td>0.003834</td>\n",
       "      <td>0.019255</td>\n",
       "    </tr>\n",
       "    <tr>\n",
       "      <th>2020-01-07</th>\n",
       "      <td>-0.004703</td>\n",
       "      <td>0.002092</td>\n",
       "      <td>-0.016863</td>\n",
       "      <td>0.010607</td>\n",
       "      <td>-0.008685</td>\n",
       "      <td>-0.001576</td>\n",
       "      <td>0.002164</td>\n",
       "      <td>-0.007414</td>\n",
       "      <td>-0.000624</td>\n",
       "      <td>0.001483</td>\n",
       "      <td>-0.001960</td>\n",
       "      <td>-0.009118</td>\n",
       "      <td>-0.015127</td>\n",
       "      <td>-0.015718</td>\n",
       "      <td>0.038801</td>\n",
       "    </tr>\n",
       "    <tr>\n",
       "      <th>2020-01-08</th>\n",
       "      <td>0.016086</td>\n",
       "      <td>-0.007809</td>\n",
       "      <td>0.005832</td>\n",
       "      <td>-0.017523</td>\n",
       "      <td>0.007618</td>\n",
       "      <td>0.011464</td>\n",
       "      <td>0.010138</td>\n",
       "      <td>-0.009129</td>\n",
       "      <td>0.007880</td>\n",
       "      <td>0.016187</td>\n",
       "      <td>0.012765</td>\n",
       "      <td>0.015928</td>\n",
       "      <td>0.025729</td>\n",
       "      <td>0.005149</td>\n",
       "      <td>0.049205</td>\n",
       "    </tr>\n",
       "  </tbody>\n",
       "</table>\n",
       "</div>"
      ],
      "text/plain": [
       "Symbols         AAPL      AMZN        AX        BA         C      COST  \\\n",
       "Date                                                                     \n",
       "2020-01-02  0.022816  0.027151 -0.007926  0.023207  0.016773 -0.008268   \n",
       "2020-01-03 -0.009722 -0.012139 -0.004328 -0.001680 -0.018836  0.000823   \n",
       "2020-01-06  0.007968  0.014886 -0.008693  0.002945 -0.003137  0.000274   \n",
       "2020-01-07 -0.004703  0.002092 -0.016863  0.010607 -0.008685 -0.001576   \n",
       "2020-01-08  0.016086 -0.007809  0.005832 -0.017523  0.007618  0.011464   \n",
       "\n",
       "Symbols           FB        GE      GOOG       MCD        MS      MSFT  \\\n",
       "Date                                                                     \n",
       "2020-01-02  0.022071  0.068996  0.022700  0.016092  0.017997  0.018516   \n",
       "2020-01-03 -0.005291  0.003353 -0.004907 -0.003536 -0.016142 -0.012452   \n",
       "2020-01-06  0.018834  0.014202  0.024657  0.011245 -0.003516  0.002585   \n",
       "2020-01-07  0.002164 -0.007414 -0.000624  0.001483 -0.001960 -0.009118   \n",
       "2020-01-08  0.010138 -0.009129  0.007880  0.016187  0.012765  0.015928   \n",
       "\n",
       "Symbols         NFLX       PEP      TSLA  \n",
       "Date                                      \n",
       "2020-01-02  0.019285 -0.006219  0.028518  \n",
       "2020-01-03 -0.011855 -0.001399  0.029633  \n",
       "2020-01-06  0.030469  0.003834  0.019255  \n",
       "2020-01-07 -0.015127 -0.015718  0.038801  \n",
       "2020-01-08  0.025729  0.005149  0.049205  "
      ]
     },
     "execution_count": 322,
     "metadata": {},
     "output_type": "execute_result"
    }
   ],
   "source": [
    "testing_return_data.iloc[:,:15].head()"
   ]
  },
  {
   "cell_type": "code",
   "execution_count": 324,
   "metadata": {},
   "outputs": [],
   "source": [
    "testing_return_data['portfolio_1_return'] = np.matmul(testing_return_data.iloc[:,:15],weights_model_1)"
   ]
  },
  {
   "cell_type": "code",
   "execution_count": 331,
   "metadata": {},
   "outputs": [
    {
     "data": {
      "text/plain": [
       "<matplotlib.axes._subplots.AxesSubplot at 0x7faaa3f40780>"
      ]
     },
     "execution_count": 331,
     "metadata": {},
     "output_type": "execute_result"
    },
    {
     "data": {
      "image/png": "[encoded data removed]",
      "text/plain": [
       "<Figure size 864x432 with 1 Axes>"
      ]
     },
     "metadata": {
      "needs_background": "light"
     },
     "output_type": "display_data"
    }
   ],
   "source": [
    "testing_return_data['portfolio_1_return'].plot(title = 'Daily return - model-1',figsize=(12, 6))"
   ]
  },
  {
   "cell_type": "code",
   "execution_count": 332,
   "metadata": {},
   "outputs": [
    {
     "data": {
      "text/plain": [
       "<matplotlib.axes._subplots.AxesSubplot at 0x7faaa42dac50>"
      ]
     },
     "execution_count": 332,
     "metadata": {},
     "output_type": "execute_result"
    },
    {
     "data": {
      "image/png": "[encoded data removed]",
      "text/plain": [
       "<Figure size 864x432 with 1 Axes>"
      ]
     },
     "metadata": {
      "needs_background": "light"
     },
     "output_type": "display_data"
    }
   ],
   "source": [
    "cum_datalist=[1+x for x in testing_return_data['portfolio_1_return']] \n",
    "cum_datalist=pd.DataFrame(cum_datalist, index=testing_return_data.index)\n",
    "cum_datalist.cumprod().plot(title = 'Cummulative Daily return - model-1', figsize=(12, 6))"
   ]
  },
  {
   "cell_type": "markdown",
   "metadata": {},
   "source": [
    "### Building portfolio based on Fama-French factor model:"
   ]
  },
  {
   "cell_type": "code",
   "execution_count": 335,
   "metadata": {},
   "outputs": [],
   "source": [
    "def get_fama_french():\n",
    "    # Web url\n",
    "    ff_url = \"https://mba.tuck.dartmouth.edu/pages/faculty/ken.french/ftp/F-F_Research_Data_Factors_CSV.zip\"\n",
    "    \n",
    "    # Download the file and save it\n",
    "    # We will name it fama_french.zip file\n",
    "    \n",
    "    urllib.request.urlretrieve(ff_url,'fama_french.zip')\n",
    "    zip_file = zipfile.ZipFile('fama_french.zip', 'r')\n",
    "    \n",
    "    # Next we extract the file data\n",
    "    \n",
    "    zip_file.extractall()\n",
    "    \n",
    "    # Make sure you close the file after extraction\n",
    "    \n",
    "    zip_file.close()\n",
    "    \n",
    "    # Now open the CSV file\n",
    "    \n",
    "    ff_factors = pd.read_csv('F-F_Research_Data_Factors.csv', skiprows = 3, index_col = 0)\n",
    "    # We want to find out the row with NULL value\n",
    "    # We will skip these rows\n",
    "    \n",
    "    ff_row = ff_factors.isnull().any(1).nonzero()[0][0]\n",
    "    \n",
    "    # Read the csv file again with skipped rows\n",
    "    ff_factors = pd.read_csv('F-F_Research_Data_Factors.csv', skiprows = 3, nrows = ff_row, index_col = 0)\n",
    "    \n",
    "    # Format the date index\n",
    "    ff_factors.index = pd.to_datetime(ff_factors.index, format= '%Y%m')\n",
    "    \n",
    "    # Format dates to end of month\n",
    "    ff_factors.index = ff_factors.index + pd.offsets.MonthEnd()\n",
    "    \n",
    "    # Convert from percent to decimal\n",
    "    ff_factors = ff_factors.apply(lambda x: x/ 100)\n",
    "    return ff_factors"
   ]
  },
  {
   "cell_type": "code",
   "execution_count": 336,
   "metadata": {},
   "outputs": [
    {
     "name": "stdout",
     "output_type": "stream",
     "text": [
      "            Mkt-RF     SMB     HML      RF\n",
      "2020-09-30 -0.0363  0.0006 -0.0251  0.0001\n",
      "2020-10-31 -0.0210  0.0444  0.0403  0.0001\n",
      "2020-11-30  0.1247  0.0548  0.0211  0.0001\n",
      "2020-12-31  0.0463  0.0481 -0.0136  0.0001\n",
      "2021-01-31 -0.0004  0.0718  0.0285  0.0000\n"
     ]
    }
   ],
   "source": [
    "ff_data = get_fama_french()\n",
    "print(ff_data.tail())"
   ]
  },
  {
   "cell_type": "code",
   "execution_count": 342,
   "metadata": {},
   "outputs": [
    {
     "data": {
      "text/html": [
       "<div>\n",
       "<style scoped>\n",
       "    .dataframe tbody tr th:only-of-type {\n",
       "        vertical-align: middle;\n",
       "    }\n",
       "\n",
       "    .dataframe tbody tr th {\n",
       "        vertical-align: top;\n",
       "    }\n",
       "\n",
       "    .dataframe thead th {\n",
       "        text-align: right;\n",
       "    }\n",
       "</style>\n",
       "<table border=\"1\" class=\"dataframe\">\n",
       "  <thead>\n",
       "    <tr style=\"text-align: right;\">\n",
       "      <th>Symbols</th>\n",
       "      <th>AAPL</th>\n",
       "      <th>AMZN</th>\n",
       "      <th>AX</th>\n",
       "      <th>BA</th>\n",
       "      <th>C</th>\n",
       "      <th>COST</th>\n",
       "      <th>FB</th>\n",
       "      <th>GE</th>\n",
       "      <th>GOOG</th>\n",
       "      <th>MCD</th>\n",
       "      <th>MS</th>\n",
       "      <th>MSFT</th>\n",
       "      <th>NFLX</th>\n",
       "      <th>PEP</th>\n",
       "      <th>TSLA</th>\n",
       "    </tr>\n",
       "    <tr>\n",
       "      <th>Date</th>\n",
       "      <th></th>\n",
       "      <th></th>\n",
       "      <th></th>\n",
       "      <th></th>\n",
       "      <th></th>\n",
       "      <th></th>\n",
       "      <th></th>\n",
       "      <th></th>\n",
       "      <th></th>\n",
       "      <th></th>\n",
       "      <th></th>\n",
       "      <th></th>\n",
       "      <th></th>\n",
       "      <th></th>\n",
       "      <th></th>\n",
       "    </tr>\n",
       "  </thead>\n",
       "  <tbody>\n",
       "    <tr>\n",
       "      <th>2014-01-31</th>\n",
       "      <td>0.001641</td>\n",
       "      <td>-0.109972</td>\n",
       "      <td>0.000847</td>\n",
       "      <td>-0.010037</td>\n",
       "      <td>-0.018012</td>\n",
       "      <td>-0.003282</td>\n",
       "      <td>0.024394</td>\n",
       "      <td>-0.014510</td>\n",
       "      <td>0.040145</td>\n",
       "      <td>0.003944</td>\n",
       "      <td>-0.015677</td>\n",
       "      <td>0.026587</td>\n",
       "      <td>0.011516</td>\n",
       "      <td>-0.008880</td>\n",
       "      <td>-0.007821</td>\n",
       "    </tr>\n",
       "    <tr>\n",
       "      <th>2014-02-28</th>\n",
       "      <td>-0.002710</td>\n",
       "      <td>0.005470</td>\n",
       "      <td>-0.013980</td>\n",
       "      <td>0.002800</td>\n",
       "      <td>-0.001232</td>\n",
       "      <td>0.004991</td>\n",
       "      <td>-0.006963</td>\n",
       "      <td>-0.001176</td>\n",
       "      <td>-0.002920</td>\n",
       "      <td>0.000736</td>\n",
       "      <td>0.014493</td>\n",
       "      <td>0.011886</td>\n",
       "      <td>-0.014594</td>\n",
       "      <td>0.012647</td>\n",
       "      <td>-0.030609</td>\n",
       "    </tr>\n",
       "    <tr>\n",
       "      <th>2014-03-31</th>\n",
       "      <td>-0.000223</td>\n",
       "      <td>-0.005676</td>\n",
       "      <td>-0.024460</td>\n",
       "      <td>0.008276</td>\n",
       "      <td>0.007407</td>\n",
       "      <td>0.000179</td>\n",
       "      <td>0.003833</td>\n",
       "      <td>0.000386</td>\n",
       "      <td>-0.005393</td>\n",
       "      <td>0.008124</td>\n",
       "      <td>0.008411</td>\n",
       "      <td>0.017122</td>\n",
       "      <td>-0.019060</td>\n",
       "      <td>0.006631</td>\n",
       "      <td>-0.018458</td>\n",
       "    </tr>\n",
       "    <tr>\n",
       "      <th>2014-04-30</th>\n",
       "      <td>-0.003782</td>\n",
       "      <td>0.012484</td>\n",
       "      <td>0.016776</td>\n",
       "      <td>0.005064</td>\n",
       "      <td>-0.005191</td>\n",
       "      <td>0.002426</td>\n",
       "      <td>0.028031</td>\n",
       "      <td>0.004858</td>\n",
       "      <td>-0.001971</td>\n",
       "      <td>-0.001182</td>\n",
       "      <td>0.013434</td>\n",
       "      <td>-0.002715</td>\n",
       "      <td>0.006784</td>\n",
       "      <td>0.001516</td>\n",
       "      <td>0.004688</td>\n",
       "    </tr>\n",
       "    <tr>\n",
       "      <th>2014-05-31</th>\n",
       "      <td>-0.003746</td>\n",
       "      <td>-0.003920</td>\n",
       "      <td>-0.020650</td>\n",
       "      <td>0.000814</td>\n",
       "      <td>0.006134</td>\n",
       "      <td>0.016471</td>\n",
       "      <td>-0.008303</td>\n",
       "      <td>0.001870</td>\n",
       "      <td>-0.000339</td>\n",
       "      <td>0.000888</td>\n",
       "      <td>-0.008673</td>\n",
       "      <td>0.014873</td>\n",
       "      <td>0.006334</td>\n",
       "      <td>0.006839</td>\n",
       "      <td>-0.011748</td>\n",
       "    </tr>\n",
       "  </tbody>\n",
       "</table>\n",
       "</div>"
      ],
      "text/plain": [
       "Symbols         AAPL      AMZN        AX        BA         C      COST  \\\n",
       "Date                                                                     \n",
       "2014-01-31  0.001641 -0.109972  0.000847 -0.010037 -0.018012 -0.003282   \n",
       "2014-02-28 -0.002710  0.005470 -0.013980  0.002800 -0.001232  0.004991   \n",
       "2014-03-31 -0.000223 -0.005676 -0.024460  0.008276  0.007407  0.000179   \n",
       "2014-04-30 -0.003782  0.012484  0.016776  0.005064 -0.005191  0.002426   \n",
       "2014-05-31 -0.003746 -0.003920 -0.020650  0.000814  0.006134  0.016471   \n",
       "\n",
       "Symbols           FB        GE      GOOG       MCD        MS      MSFT  \\\n",
       "Date                                                                     \n",
       "2014-01-31  0.024394 -0.014510  0.040145  0.003944 -0.015677  0.026587   \n",
       "2014-02-28 -0.006963 -0.001176 -0.002920  0.000736  0.014493  0.011886   \n",
       "2014-03-31  0.003833  0.000386 -0.005393  0.008124  0.008411  0.017122   \n",
       "2014-04-30  0.028031  0.004858 -0.001971 -0.001182  0.013434 -0.002715   \n",
       "2014-05-31 -0.008303  0.001870 -0.000339  0.000888 -0.008673  0.014873   \n",
       "\n",
       "Symbols         NFLX       PEP      TSLA  \n",
       "Date                                      \n",
       "2014-01-31  0.011516 -0.008880 -0.007821  \n",
       "2014-02-28 -0.014594  0.012647 -0.030609  \n",
       "2014-03-31 -0.019060  0.006631 -0.018458  \n",
       "2014-04-30  0.006784  0.001516  0.004688  \n",
       "2014-05-31  0.006334  0.006839 -0.011748  "
      ]
     },
     "execution_count": 342,
     "metadata": {},
     "output_type": "execute_result"
    }
   ],
   "source": [
    "training_return_data_M = training_return_data.resample(\"M\").last()\n",
    "testing_return_data_M = testing_return_data.resample(\"M\").last()\n",
    "training_return_data_M.head()"
   ]
  },
  {
   "cell_type": "code",
   "execution_count": 343,
   "metadata": {},
   "outputs": [],
   "source": [
    "# Merging the data\n",
    "all_data = pd.merge(pd.DataFrame(training_return_data_M),ff_data, how = 'inner', left_index= True, right_index= True)\n",
    "# Rename the columns"
   ]
  },
  {
   "cell_type": "code",
   "execution_count": 344,
   "metadata": {},
   "outputs": [
    {
     "data": {
      "text/html": [
       "<div>\n",
       "<style scoped>\n",
       "    .dataframe tbody tr th:only-of-type {\n",
       "        vertical-align: middle;\n",
       "    }\n",
       "\n",
       "    .dataframe tbody tr th {\n",
       "        vertical-align: top;\n",
       "    }\n",
       "\n",
       "    .dataframe thead th {\n",
       "        text-align: right;\n",
       "    }\n",
       "</style>\n",
       "<table border=\"1\" class=\"dataframe\">\n",
       "  <thead>\n",
       "    <tr style=\"text-align: right;\">\n",
       "      <th></th>\n",
       "      <th>AAPL</th>\n",
       "      <th>AMZN</th>\n",
       "      <th>AX</th>\n",
       "      <th>BA</th>\n",
       "      <th>C</th>\n",
       "      <th>COST</th>\n",
       "      <th>FB</th>\n",
       "      <th>GE</th>\n",
       "      <th>GOOG</th>\n",
       "      <th>MCD</th>\n",
       "      <th>MS</th>\n",
       "      <th>MSFT</th>\n",
       "      <th>NFLX</th>\n",
       "      <th>PEP</th>\n",
       "      <th>TSLA</th>\n",
       "      <th>Mkt-RF</th>\n",
       "      <th>SMB</th>\n",
       "      <th>HML</th>\n",
       "      <th>RF</th>\n",
       "    </tr>\n",
       "  </thead>\n",
       "  <tbody>\n",
       "    <tr>\n",
       "      <th>2014-01-31</th>\n",
       "      <td>0.001641</td>\n",
       "      <td>-0.109972</td>\n",
       "      <td>0.000847</td>\n",
       "      <td>-0.010037</td>\n",
       "      <td>-0.018012</td>\n",
       "      <td>-0.003282</td>\n",
       "      <td>0.024394</td>\n",
       "      <td>-0.014510</td>\n",
       "      <td>0.040145</td>\n",
       "      <td>0.003944</td>\n",
       "      <td>-0.015677</td>\n",
       "      <td>0.026587</td>\n",
       "      <td>0.011516</td>\n",
       "      <td>-0.008880</td>\n",
       "      <td>-0.007821</td>\n",
       "      <td>-0.0332</td>\n",
       "      <td>0.0087</td>\n",
       "      <td>-0.0202</td>\n",
       "      <td>0.0</td>\n",
       "    </tr>\n",
       "    <tr>\n",
       "      <th>2014-02-28</th>\n",
       "      <td>-0.002710</td>\n",
       "      <td>0.005470</td>\n",
       "      <td>-0.013980</td>\n",
       "      <td>0.002800</td>\n",
       "      <td>-0.001232</td>\n",
       "      <td>0.004991</td>\n",
       "      <td>-0.006963</td>\n",
       "      <td>-0.001176</td>\n",
       "      <td>-0.002920</td>\n",
       "      <td>0.000736</td>\n",
       "      <td>0.014493</td>\n",
       "      <td>0.011886</td>\n",
       "      <td>-0.014594</td>\n",
       "      <td>0.012647</td>\n",
       "      <td>-0.030609</td>\n",
       "      <td>0.0465</td>\n",
       "      <td>0.0031</td>\n",
       "      <td>-0.0036</td>\n",
       "      <td>0.0</td>\n",
       "    </tr>\n",
       "    <tr>\n",
       "      <th>2014-03-31</th>\n",
       "      <td>-0.000223</td>\n",
       "      <td>-0.005676</td>\n",
       "      <td>-0.024460</td>\n",
       "      <td>0.008276</td>\n",
       "      <td>0.007407</td>\n",
       "      <td>0.000179</td>\n",
       "      <td>0.003833</td>\n",
       "      <td>0.000386</td>\n",
       "      <td>-0.005393</td>\n",
       "      <td>0.008124</td>\n",
       "      <td>0.008411</td>\n",
       "      <td>0.017122</td>\n",
       "      <td>-0.019060</td>\n",
       "      <td>0.006631</td>\n",
       "      <td>-0.018458</td>\n",
       "      <td>0.0043</td>\n",
       "      <td>-0.0185</td>\n",
       "      <td>0.0490</td>\n",
       "      <td>0.0</td>\n",
       "    </tr>\n",
       "    <tr>\n",
       "      <th>2014-04-30</th>\n",
       "      <td>-0.003782</td>\n",
       "      <td>0.012484</td>\n",
       "      <td>0.016776</td>\n",
       "      <td>0.005064</td>\n",
       "      <td>-0.005191</td>\n",
       "      <td>0.002426</td>\n",
       "      <td>0.028031</td>\n",
       "      <td>0.004858</td>\n",
       "      <td>-0.001971</td>\n",
       "      <td>-0.001182</td>\n",
       "      <td>0.013434</td>\n",
       "      <td>-0.002715</td>\n",
       "      <td>0.006784</td>\n",
       "      <td>0.001516</td>\n",
       "      <td>0.004688</td>\n",
       "      <td>-0.0019</td>\n",
       "      <td>-0.0421</td>\n",
       "      <td>0.0112</td>\n",
       "      <td>0.0</td>\n",
       "    </tr>\n",
       "    <tr>\n",
       "      <th>2014-05-31</th>\n",
       "      <td>-0.003746</td>\n",
       "      <td>-0.003920</td>\n",
       "      <td>-0.020650</td>\n",
       "      <td>0.000814</td>\n",
       "      <td>0.006134</td>\n",
       "      <td>0.016471</td>\n",
       "      <td>-0.008303</td>\n",
       "      <td>0.001870</td>\n",
       "      <td>-0.000339</td>\n",
       "      <td>0.000888</td>\n",
       "      <td>-0.008673</td>\n",
       "      <td>0.014873</td>\n",
       "      <td>0.006334</td>\n",
       "      <td>0.006839</td>\n",
       "      <td>-0.011748</td>\n",
       "      <td>0.0206</td>\n",
       "      <td>-0.0190</td>\n",
       "      <td>-0.0012</td>\n",
       "      <td>0.0</td>\n",
       "    </tr>\n",
       "  </tbody>\n",
       "</table>\n",
       "</div>"
      ],
      "text/plain": [
       "                AAPL      AMZN        AX        BA         C      COST  \\\n",
       "2014-01-31  0.001641 -0.109972  0.000847 -0.010037 -0.018012 -0.003282   \n",
       "2014-02-28 -0.002710  0.005470 -0.013980  0.002800 -0.001232  0.004991   \n",
       "2014-03-31 -0.000223 -0.005676 -0.024460  0.008276  0.007407  0.000179   \n",
       "2014-04-30 -0.003782  0.012484  0.016776  0.005064 -0.005191  0.002426   \n",
       "2014-05-31 -0.003746 -0.003920 -0.020650  0.000814  0.006134  0.016471   \n",
       "\n",
       "                  FB        GE      GOOG       MCD        MS      MSFT  \\\n",
       "2014-01-31  0.024394 -0.014510  0.040145  0.003944 -0.015677  0.026587   \n",
       "2014-02-28 -0.006963 -0.001176 -0.002920  0.000736  0.014493  0.011886   \n",
       "2014-03-31  0.003833  0.000386 -0.005393  0.008124  0.008411  0.017122   \n",
       "2014-04-30  0.028031  0.004858 -0.001971 -0.001182  0.013434 -0.002715   \n",
       "2014-05-31 -0.008303  0.001870 -0.000339  0.000888 -0.008673  0.014873   \n",
       "\n",
       "                NFLX       PEP      TSLA  Mkt-RF     SMB     HML   RF  \n",
       "2014-01-31  0.011516 -0.008880 -0.007821 -0.0332  0.0087 -0.0202  0.0  \n",
       "2014-02-28 -0.014594  0.012647 -0.030609  0.0465  0.0031 -0.0036  0.0  \n",
       "2014-03-31 -0.019060  0.006631 -0.018458  0.0043 -0.0185  0.0490  0.0  \n",
       "2014-04-30  0.006784  0.001516  0.004688 -0.0019 -0.0421  0.0112  0.0  \n",
       "2014-05-31  0.006334  0.006839 -0.011748  0.0206 -0.0190 -0.0012  0.0  "
      ]
     },
     "execution_count": 344,
     "metadata": {},
     "output_type": "execute_result"
    }
   ],
   "source": [
    "\n",
    "all_data.head()\n",
    "\n"
   ]
  },
  {
   "cell_type": "code",
   "execution_count": null,
   "metadata": {},
   "outputs": [],
   "source": []
  },
  {
   "cell_type": "code",
   "execution_count": null,
   "metadata": {},
   "outputs": [],
   "source": []
  },
  {
   "cell_type": "code",
   "execution_count": 22,
   "metadata": {},
   "outputs": [
    {
     "name": "stdout",
     "output_type": "stream",
     "text": [
      "            portfolio  mkt_excess     SMB     HML      RF  port_excess\n",
      "2019-02-28   0.014938      0.0340  0.0212 -0.0271  0.0018     0.013138\n",
      "2019-03-31   0.022077      0.0110 -0.0305 -0.0419  0.0019     0.020177\n",
      "2019-04-30   0.048800      0.0396 -0.0175  0.0202  0.0021     0.046700\n",
      "2019-05-31  -0.057208     -0.0694 -0.0118 -0.0228  0.0021    -0.059308\n",
      "2019-06-30   0.066343      0.0693  0.0022 -0.0079  0.0018     0.064543\n"
     ]
    }
   ],
   "source": [
    "# Merging the data\n",
    "all_data = pd.merge(pd.DataFrame(ret_data),ff_data, how = 'inner', left_index= True, right_index= True)\n",
    "# Rename the columns\n",
    "all_data.rename(columns={\"Mkt-RF\":\"mkt_excess\"}, inplace=True)\n",
    "# Calculate the excess returns\n",
    "all_data['port_excess'] = all_data['portfolio'] - all_data['RF']\n",
    "print(all_data.tail())"
   ]
  },
  {
   "cell_type": "code",
   "execution_count": null,
   "metadata": {},
   "outputs": [],
   "source": []
  }
 ],
 "metadata": {
  "kernelspec": {
   "display_name": "Python 3",
   "language": "python",
   "name": "python3"
  },
  "language_info": {
   "codemirror_mode": {
    "name": "ipython",
    "version": 3
   },
   "file_extension": ".py",
   "mimetype": "text/x-python",
   "name": "python",
   "nbconvert_exporter": "python",
   "pygments_lexer": "ipython3",
   "version": "3.6.8"
  }
 },
 "nbformat": 4,
 "nbformat_minor": 4
}
